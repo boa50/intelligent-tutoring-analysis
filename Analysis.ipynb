{
 "cells": [
  {
   "cell_type": "markdown",
   "id": "8b832dcf-f740-4a94-bbdc-adfefb58f750",
   "metadata": {},
   "source": [
    "# Importing the libraries"
   ]
  },
  {
   "cell_type": "code",
   "execution_count": 1,
   "id": "55381626-ba36-4dcb-a364-056051a53e5d",
   "metadata": {},
   "outputs": [],
   "source": [
    "# Extracting the dataset from the .zip file\n",
    "from os import walk\n",
    "import zipfile\n",
    "\n",
    "# Get the execution times\n",
    "import time\n",
    "\n",
    "# Work with the dataset\n",
    "import pandas as pd\n",
    "from sklearn.model_selection import train_test_split\n",
    "\n",
    "import matplotlib.pyplot as plt\n",
    "%matplotlib inline"
   ]
  },
  {
   "cell_type": "markdown",
   "id": "8fa3e25b-069c-4335-874d-4b97b16911cc",
   "metadata": {},
   "source": [
    "# Setting default values"
   ]
  },
  {
   "cell_type": "markdown",
   "id": "4a7601be-55ee-4b0f-9274-a684e30de0c3",
   "metadata": {},
   "source": [
    "Setting some default values to be used all over the code."
   ]
  },
  {
   "cell_type": "code",
   "execution_count": 2,
   "id": "64e02ecc-f23d-4f2d-9bcf-288a5db24038",
   "metadata": {},
   "outputs": [],
   "source": [
    "### Used to fill the random state of some functions\n",
    "SEED = 50\n",
    "\n",
    "### The number of samples to be used during the machine learning model training\n",
    "N_SAMPLES = 10**4"
   ]
  },
  {
   "cell_type": "markdown",
   "id": "e0a6e341-9299-413a-986f-69c1f11204ae",
   "metadata": {},
   "source": [
    "# Extracting and loading the dataset"
   ]
  },
  {
   "cell_type": "code",
   "execution_count": 3,
   "id": "e8e8c71a-c8c9-408a-80c9-cb198ac32f43",
   "metadata": {},
   "outputs": [],
   "source": [
    "### Find the .zip file and get the path to extract it\n",
    "dataset_folder = './dataset'\n",
    "    \n",
    "filenames = next(walk(dataset_folder), (_, _, []))[2]\n",
    "zip_filename = [filename for filename in filenames if filename.find('.zip') > -1][0]\n",
    "file_path = dataset_folder + '/' + zip_filename"
   ]
  },
  {
   "cell_type": "markdown",
   "id": "1c681d2d-6928-45f6-9d53-ec2495ad6c6b",
   "metadata": {},
   "source": [
    "You only need to run the code cell below if you put solely the .zip file insede the dataset folder."
   ]
  },
  {
   "cell_type": "code",
   "execution_count": 4,
   "id": "37422ac7-dbd9-4634-8f5f-c214a32fae91",
   "metadata": {},
   "outputs": [],
   "source": [
    "### Extracting the contents of the .zip file inside the dataset folder\n",
    "# with zipfile.ZipFile(file_path, 'r') as zip_ref:\n",
    "#     zip_ref.extractall(dataset_folder)"
   ]
  },
  {
   "cell_type": "code",
   "execution_count": 5,
   "id": "1d30582f-4c2c-4b01-80d9-135a0f0897eb",
   "metadata": {},
   "outputs": [],
   "source": [
    "### Get the .txt dataset file path extracted at the previous step\n",
    "filenames = next(walk(dataset_folder), (_, _, []))[2]\n",
    "dataset_filename = [filename for filename in filenames if filename.find('.txt') > -1][0]\n",
    "dataset_path = dataset_folder + '/' + dataset_filename"
   ]
  },
  {
   "cell_type": "markdown",
   "id": "e22937b4-a45b-473d-beeb-a26556e935d9",
   "metadata": {},
   "source": [
    "To load the dataset inside a Pandas DataFrame we had to put the delimiter to be a TAB (\\t) because it is how the data is separated inside the .txt file."
   ]
  },
  {
   "cell_type": "code",
   "execution_count": 6,
   "id": "f9028708-12f1-4a42-bdfc-5021e6c4f021",
   "metadata": {},
   "outputs": [],
   "source": [
    "df = pd.read_csv(dataset_path, delimiter = \"\\t\")"
   ]
  },
  {
   "cell_type": "code",
   "execution_count": 7,
   "id": "30971f52-cf62-4b40-8b25-cce03834bdf6",
   "metadata": {},
   "outputs": [],
   "source": [
    "### TODO: make it easier to run everyday\n",
    "df = df[:N_SAMPLES*10]"
   ]
  },
  {
   "cell_type": "markdown",
   "id": "c3f4f1a8-1a9d-4af5-adf1-1b72213bd8bb",
   "metadata": {},
   "source": [
    "# Analyzing the dataset"
   ]
  },
  {
   "cell_type": "code",
   "execution_count": 8,
   "id": "8d88c548-17d6-4026-9360-95211cb29d6d",
   "metadata": {},
   "outputs": [
    {
     "data": {
      "text/plain": [
       "(100000, 57)"
      ]
     },
     "execution_count": 8,
     "metadata": {},
     "output_type": "execute_result"
    }
   ],
   "source": [
    "df.shape"
   ]
  },
  {
   "cell_type": "code",
   "execution_count": 9,
   "id": "a3335f17-24a0-4c69-a39f-9c296d31c93d",
   "metadata": {},
   "outputs": [
    {
     "data": {
      "text/html": [
       "<div>\n",
       "<style scoped>\n",
       "    .dataframe tbody tr th:only-of-type {\n",
       "        vertical-align: middle;\n",
       "    }\n",
       "\n",
       "    .dataframe tbody tr th {\n",
       "        vertical-align: top;\n",
       "    }\n",
       "\n",
       "    .dataframe thead th {\n",
       "        text-align: right;\n",
       "    }\n",
       "</style>\n",
       "<table border=\"1\" class=\"dataframe\">\n",
       "  <thead>\n",
       "    <tr style=\"text-align: right;\">\n",
       "      <th></th>\n",
       "      <th>Row</th>\n",
       "      <th>Sample Name</th>\n",
       "      <th>Transaction Id</th>\n",
       "      <th>Anon Student Id</th>\n",
       "      <th>Session Id</th>\n",
       "      <th>Time</th>\n",
       "      <th>Time Zone</th>\n",
       "      <th>Duration (sec)</th>\n",
       "      <th>Student Response Type</th>\n",
       "      <th>Student Response Subtype</th>\n",
       "      <th>...</th>\n",
       "      <th>KC (MCAS5-State_WPI-Simple)</th>\n",
       "      <th>KC Category (MCAS5-State_WPI-Simple)</th>\n",
       "      <th>KC (MCAS5-State_WPI-Simple).1</th>\n",
       "      <th>KC Category (MCAS5-State_WPI-Simple).1</th>\n",
       "      <th>KC (Single-KC)</th>\n",
       "      <th>KC Category (Single-KC)</th>\n",
       "      <th>KC (Unique-step)</th>\n",
       "      <th>KC Category (Unique-step)</th>\n",
       "      <th>School</th>\n",
       "      <th>Class</th>\n",
       "    </tr>\n",
       "  </thead>\n",
       "  <tbody>\n",
       "    <tr>\n",
       "      <th>0</th>\n",
       "      <td>1</td>\n",
       "      <td>All Data</td>\n",
       "      <td>13cb29890fa2be0ca31bcd07f35000d6</td>\n",
       "      <td>Stu_000271be877ea1e7bf4f038c96cee5f9</td>\n",
       "      <td>5660580</td>\n",
       "      <td>2006-10-13 11:53:10</td>\n",
       "      <td>US/Eastern</td>\n",
       "      <td>22</td>\n",
       "      <td>ATTEMPT</td>\n",
       "      <td>NaN</td>\n",
       "      <td>...</td>\n",
       "      <td>NaN</td>\n",
       "      <td>NaN</td>\n",
       "      <td>NaN</td>\n",
       "      <td>NaN</td>\n",
       "      <td>Single-KC</td>\n",
       "      <td>NaN</td>\n",
       "      <td>NaN</td>\n",
       "      <td>NaN</td>\n",
       "      <td>ForestGrove</td>\n",
       "      <td>Period40607Dumphy</td>\n",
       "    </tr>\n",
       "    <tr>\n",
       "      <th>1</th>\n",
       "      <td>2</td>\n",
       "      <td>All Data</td>\n",
       "      <td>3fedf6c06ab6b9b3c36e245335445bcf</td>\n",
       "      <td>Stu_000271be877ea1e7bf4f038c96cee5f9</td>\n",
       "      <td>5660580</td>\n",
       "      <td>2006-10-13 11:53:13</td>\n",
       "      <td>US/Eastern</td>\n",
       "      <td>3</td>\n",
       "      <td>HINT_REQUEST</td>\n",
       "      <td>NaN</td>\n",
       "      <td>...</td>\n",
       "      <td>NaN</td>\n",
       "      <td>NaN</td>\n",
       "      <td>NaN</td>\n",
       "      <td>NaN</td>\n",
       "      <td>Single-KC</td>\n",
       "      <td>NaN</td>\n",
       "      <td>NaN</td>\n",
       "      <td>NaN</td>\n",
       "      <td>ForestGrove</td>\n",
       "      <td>Period40607Dumphy</td>\n",
       "    </tr>\n",
       "    <tr>\n",
       "      <th>2</th>\n",
       "      <td>3</td>\n",
       "      <td>All Data</td>\n",
       "      <td>0f5bb1a5c133ac1aa0a3d32e4d44dde9</td>\n",
       "      <td>Stu_000271be877ea1e7bf4f038c96cee5f9</td>\n",
       "      <td>5660580</td>\n",
       "      <td>2006-10-13 11:53:20</td>\n",
       "      <td>US/Eastern</td>\n",
       "      <td>7</td>\n",
       "      <td>HINT_REQUEST</td>\n",
       "      <td>NaN</td>\n",
       "      <td>...</td>\n",
       "      <td>NaN</td>\n",
       "      <td>NaN</td>\n",
       "      <td>NaN</td>\n",
       "      <td>NaN</td>\n",
       "      <td>Single-KC</td>\n",
       "      <td>NaN</td>\n",
       "      <td>NaN</td>\n",
       "      <td>NaN</td>\n",
       "      <td>ForestGrove</td>\n",
       "      <td>Period40607Dumphy</td>\n",
       "    </tr>\n",
       "    <tr>\n",
       "      <th>3</th>\n",
       "      <td>4</td>\n",
       "      <td>All Data</td>\n",
       "      <td>19a9aabf614d6f27dc9970dc842da081</td>\n",
       "      <td>Stu_000271be877ea1e7bf4f038c96cee5f9</td>\n",
       "      <td>5660580</td>\n",
       "      <td>2006-10-13 11:53:22</td>\n",
       "      <td>US/Eastern</td>\n",
       "      <td>2</td>\n",
       "      <td>HINT_REQUEST</td>\n",
       "      <td>NaN</td>\n",
       "      <td>...</td>\n",
       "      <td>NaN</td>\n",
       "      <td>NaN</td>\n",
       "      <td>NaN</td>\n",
       "      <td>NaN</td>\n",
       "      <td>Single-KC</td>\n",
       "      <td>NaN</td>\n",
       "      <td>NaN</td>\n",
       "      <td>NaN</td>\n",
       "      <td>ForestGrove</td>\n",
       "      <td>Period40607Dumphy</td>\n",
       "    </tr>\n",
       "    <tr>\n",
       "      <th>4</th>\n",
       "      <td>5</td>\n",
       "      <td>All Data</td>\n",
       "      <td>eae2bd81fd19ec6093c645d90e92222e</td>\n",
       "      <td>Stu_000271be877ea1e7bf4f038c96cee5f9</td>\n",
       "      <td>5660580</td>\n",
       "      <td>2006-10-13 11:53:32</td>\n",
       "      <td>US/Eastern</td>\n",
       "      <td>10</td>\n",
       "      <td>ATTEMPT</td>\n",
       "      <td>NaN</td>\n",
       "      <td>...</td>\n",
       "      <td>NaN</td>\n",
       "      <td>NaN</td>\n",
       "      <td>NaN</td>\n",
       "      <td>NaN</td>\n",
       "      <td>Single-KC</td>\n",
       "      <td>NaN</td>\n",
       "      <td>NaN</td>\n",
       "      <td>NaN</td>\n",
       "      <td>ForestGrove</td>\n",
       "      <td>Period40607Dumphy</td>\n",
       "    </tr>\n",
       "  </tbody>\n",
       "</table>\n",
       "<p>5 rows × 57 columns</p>\n",
       "</div>"
      ],
      "text/plain": [
       "   Row Sample Name                    Transaction Id  \\\n",
       "0    1    All Data  13cb29890fa2be0ca31bcd07f35000d6   \n",
       "1    2    All Data  3fedf6c06ab6b9b3c36e245335445bcf   \n",
       "2    3    All Data  0f5bb1a5c133ac1aa0a3d32e4d44dde9   \n",
       "3    4    All Data  19a9aabf614d6f27dc9970dc842da081   \n",
       "4    5    All Data  eae2bd81fd19ec6093c645d90e92222e   \n",
       "\n",
       "                        Anon Student Id  Session Id                 Time  \\\n",
       "0  Stu_000271be877ea1e7bf4f038c96cee5f9     5660580  2006-10-13 11:53:10   \n",
       "1  Stu_000271be877ea1e7bf4f038c96cee5f9     5660580  2006-10-13 11:53:13   \n",
       "2  Stu_000271be877ea1e7bf4f038c96cee5f9     5660580  2006-10-13 11:53:20   \n",
       "3  Stu_000271be877ea1e7bf4f038c96cee5f9     5660580  2006-10-13 11:53:22   \n",
       "4  Stu_000271be877ea1e7bf4f038c96cee5f9     5660580  2006-10-13 11:53:32   \n",
       "\n",
       "    Time Zone Duration (sec) Student Response Type  Student Response Subtype  \\\n",
       "0  US/Eastern             22               ATTEMPT                       NaN   \n",
       "1  US/Eastern              3          HINT_REQUEST                       NaN   \n",
       "2  US/Eastern              7          HINT_REQUEST                       NaN   \n",
       "3  US/Eastern              2          HINT_REQUEST                       NaN   \n",
       "4  US/Eastern             10               ATTEMPT                       NaN   \n",
       "\n",
       "   ... KC (MCAS5-State_WPI-Simple)  KC Category (MCAS5-State_WPI-Simple)  \\\n",
       "0  ...                         NaN                                   NaN   \n",
       "1  ...                         NaN                                   NaN   \n",
       "2  ...                         NaN                                   NaN   \n",
       "3  ...                         NaN                                   NaN   \n",
       "4  ...                         NaN                                   NaN   \n",
       "\n",
       "  KC (MCAS5-State_WPI-Simple).1  KC Category (MCAS5-State_WPI-Simple).1  \\\n",
       "0                           NaN                                     NaN   \n",
       "1                           NaN                                     NaN   \n",
       "2                           NaN                                     NaN   \n",
       "3                           NaN                                     NaN   \n",
       "4                           NaN                                     NaN   \n",
       "\n",
       "   KC (Single-KC) KC Category (Single-KC) KC (Unique-step)  \\\n",
       "0       Single-KC                     NaN              NaN   \n",
       "1       Single-KC                     NaN              NaN   \n",
       "2       Single-KC                     NaN              NaN   \n",
       "3       Single-KC                     NaN              NaN   \n",
       "4       Single-KC                     NaN              NaN   \n",
       "\n",
       "   KC Category (Unique-step)       School              Class  \n",
       "0                        NaN  ForestGrove  Period40607Dumphy  \n",
       "1                        NaN  ForestGrove  Period40607Dumphy  \n",
       "2                        NaN  ForestGrove  Period40607Dumphy  \n",
       "3                        NaN  ForestGrove  Period40607Dumphy  \n",
       "4                        NaN  ForestGrove  Period40607Dumphy  \n",
       "\n",
       "[5 rows x 57 columns]"
      ]
     },
     "execution_count": 9,
     "metadata": {},
     "output_type": "execute_result"
    }
   ],
   "source": [
    "df.head()"
   ]
  },
  {
   "cell_type": "code",
   "execution_count": 10,
   "id": "20298da3-e39c-4ebc-b647-2a2f6d65c98e",
   "metadata": {},
   "outputs": [
    {
     "data": {
      "text/plain": [
       "Row                                          int64\n",
       "Sample Name                                 object\n",
       "Transaction Id                              object\n",
       "Anon Student Id                             object\n",
       "Session Id                                   int64\n",
       "Time                                        object\n",
       "Time Zone                                   object\n",
       "Duration (sec)                              object\n",
       "Student Response Type                       object\n",
       "Student Response Subtype                   float64\n",
       "Tutor Response Type                         object\n",
       "Tutor Response Subtype                     float64\n",
       "Level (Curriculum)                          object\n",
       "Problem Name                                 int64\n",
       "Problem View                               float64\n",
       "Problem Start Time                          object\n",
       "Step Name                                   object\n",
       "Attempt At Step                            float64\n",
       "Is Last Attempt                            float64\n",
       "Outcome                                     object\n",
       "Selection                                   object\n",
       "Action                                      object\n",
       "Input                                       object\n",
       "Feedback Text                               object\n",
       "Feedback Classification                     object\n",
       "Help Level                                 float64\n",
       "Total Num Hints                            float64\n",
       "KC (WPI-Apr-2005)                           object\n",
       "KC Category (WPI-Apr-2005)                 float64\n",
       "KC (WPI-Apr-2005).1                         object\n",
       "KC Category (WPI-Apr-2005).1               float64\n",
       "KC (WPI-Apr-2005).2                         object\n",
       "KC Category (WPI-Apr-2005).2               float64\n",
       "KC (WPI-Apr-2005).3                         object\n",
       "KC Category (WPI-Apr-2005).3               float64\n",
       "KC (WPI-Apr-2005).4                         object\n",
       "KC Category (WPI-Apr-2005).4               float64\n",
       "KC (WPI-Apr-2005).5                         object\n",
       "KC Category (WPI-Apr-2005).5               float64\n",
       "KC (MCAS39-State_WPI-Simple)                object\n",
       "KC Category (MCAS39-State_WPI-Simple)      float64\n",
       "KC (MCAS39-State_WPI-Simple).1              object\n",
       "KC Category (MCAS39-State_WPI-Simple).1    float64\n",
       "KC (MCAS39-State_WPI-Simple).2              object\n",
       "KC Category (MCAS39-State_WPI-Simple).2    float64\n",
       "KC (MCAS39-State_WPI-Simple).3              object\n",
       "KC Category (MCAS39-State_WPI-Simple).3    float64\n",
       "KC (MCAS5-State_WPI-Simple)                 object\n",
       "KC Category (MCAS5-State_WPI-Simple)       float64\n",
       "KC (MCAS5-State_WPI-Simple).1               object\n",
       "KC Category (MCAS5-State_WPI-Simple).1     float64\n",
       "KC (Single-KC)                              object\n",
       "KC Category (Single-KC)                    float64\n",
       "KC (Unique-step)                            object\n",
       "KC Category (Unique-step)                  float64\n",
       "School                                      object\n",
       "Class                                       object\n",
       "dtype: object"
      ]
     },
     "execution_count": 10,
     "metadata": {},
     "output_type": "execute_result"
    }
   ],
   "source": [
    "df.dtypes"
   ]
  },
  {
   "cell_type": "code",
   "execution_count": 11,
   "id": "8a934748-bd05-4cff-9c3d-656abb8bf948",
   "metadata": {},
   "outputs": [
    {
     "data": {
      "text/html": [
       "<div>\n",
       "<style scoped>\n",
       "    .dataframe tbody tr th:only-of-type {\n",
       "        vertical-align: middle;\n",
       "    }\n",
       "\n",
       "    .dataframe tbody tr th {\n",
       "        vertical-align: top;\n",
       "    }\n",
       "\n",
       "    .dataframe thead th {\n",
       "        text-align: right;\n",
       "    }\n",
       "</style>\n",
       "<table border=\"1\" class=\"dataframe\">\n",
       "  <thead>\n",
       "    <tr style=\"text-align: right;\">\n",
       "      <th></th>\n",
       "      <th>Row</th>\n",
       "      <th>Session Id</th>\n",
       "      <th>Student Response Subtype</th>\n",
       "      <th>Tutor Response Subtype</th>\n",
       "      <th>Problem Name</th>\n",
       "      <th>Problem View</th>\n",
       "      <th>Attempt At Step</th>\n",
       "      <th>Is Last Attempt</th>\n",
       "      <th>Help Level</th>\n",
       "      <th>Total Num Hints</th>\n",
       "      <th>...</th>\n",
       "      <th>KC Category (WPI-Apr-2005).4</th>\n",
       "      <th>KC Category (WPI-Apr-2005).5</th>\n",
       "      <th>KC Category (MCAS39-State_WPI-Simple)</th>\n",
       "      <th>KC Category (MCAS39-State_WPI-Simple).1</th>\n",
       "      <th>KC Category (MCAS39-State_WPI-Simple).2</th>\n",
       "      <th>KC Category (MCAS39-State_WPI-Simple).3</th>\n",
       "      <th>KC Category (MCAS5-State_WPI-Simple)</th>\n",
       "      <th>KC Category (MCAS5-State_WPI-Simple).1</th>\n",
       "      <th>KC Category (Single-KC)</th>\n",
       "      <th>KC Category (Unique-step)</th>\n",
       "    </tr>\n",
       "  </thead>\n",
       "  <tbody>\n",
       "    <tr>\n",
       "      <th>count</th>\n",
       "      <td>100000.000000</td>\n",
       "      <td>1.000000e+05</td>\n",
       "      <td>0.0</td>\n",
       "      <td>0.0</td>\n",
       "      <td>100000.000000</td>\n",
       "      <td>99977.000000</td>\n",
       "      <td>99885.000000</td>\n",
       "      <td>99885.000000</td>\n",
       "      <td>25770.000000</td>\n",
       "      <td>19758.000000</td>\n",
       "      <td>...</td>\n",
       "      <td>0.0</td>\n",
       "      <td>0.0</td>\n",
       "      <td>0.0</td>\n",
       "      <td>0.0</td>\n",
       "      <td>0.0</td>\n",
       "      <td>0.0</td>\n",
       "      <td>0.0</td>\n",
       "      <td>0.0</td>\n",
       "      <td>0.0</td>\n",
       "      <td>0.0</td>\n",
       "    </tr>\n",
       "    <tr>\n",
       "      <th>mean</th>\n",
       "      <td>50000.500000</td>\n",
       "      <td>4.479398e+06</td>\n",
       "      <td>NaN</td>\n",
       "      <td>NaN</td>\n",
       "      <td>5697.734560</td>\n",
       "      <td>1.273503</td>\n",
       "      <td>2.363168</td>\n",
       "      <td>0.451359</td>\n",
       "      <td>2.033333</td>\n",
       "      <td>3.542970</td>\n",
       "      <td>...</td>\n",
       "      <td>NaN</td>\n",
       "      <td>NaN</td>\n",
       "      <td>NaN</td>\n",
       "      <td>NaN</td>\n",
       "      <td>NaN</td>\n",
       "      <td>NaN</td>\n",
       "      <td>NaN</td>\n",
       "      <td>NaN</td>\n",
       "      <td>NaN</td>\n",
       "      <td>NaN</td>\n",
       "    </tr>\n",
       "    <tr>\n",
       "      <th>std</th>\n",
       "      <td>28867.657797</td>\n",
       "      <td>2.772223e+06</td>\n",
       "      <td>NaN</td>\n",
       "      <td>NaN</td>\n",
       "      <td>5163.535758</td>\n",
       "      <td>0.658922</td>\n",
       "      <td>2.611667</td>\n",
       "      <td>0.497631</td>\n",
       "      <td>1.611934</td>\n",
       "      <td>1.321847</td>\n",
       "      <td>...</td>\n",
       "      <td>NaN</td>\n",
       "      <td>NaN</td>\n",
       "      <td>NaN</td>\n",
       "      <td>NaN</td>\n",
       "      <td>NaN</td>\n",
       "      <td>NaN</td>\n",
       "      <td>NaN</td>\n",
       "      <td>NaN</td>\n",
       "      <td>NaN</td>\n",
       "      <td>NaN</td>\n",
       "    </tr>\n",
       "    <tr>\n",
       "      <th>min</th>\n",
       "      <td>1.000000</td>\n",
       "      <td>1.450000e+03</td>\n",
       "      <td>NaN</td>\n",
       "      <td>NaN</td>\n",
       "      <td>7.000000</td>\n",
       "      <td>1.000000</td>\n",
       "      <td>1.000000</td>\n",
       "      <td>0.000000</td>\n",
       "      <td>1.000000</td>\n",
       "      <td>1.000000</td>\n",
       "      <td>...</td>\n",
       "      <td>NaN</td>\n",
       "      <td>NaN</td>\n",
       "      <td>NaN</td>\n",
       "      <td>NaN</td>\n",
       "      <td>NaN</td>\n",
       "      <td>NaN</td>\n",
       "      <td>NaN</td>\n",
       "      <td>NaN</td>\n",
       "      <td>NaN</td>\n",
       "      <td>NaN</td>\n",
       "    </tr>\n",
       "    <tr>\n",
       "      <th>25%</th>\n",
       "      <td>25000.750000</td>\n",
       "      <td>1.393139e+06</td>\n",
       "      <td>NaN</td>\n",
       "      <td>NaN</td>\n",
       "      <td>1158.000000</td>\n",
       "      <td>1.000000</td>\n",
       "      <td>1.000000</td>\n",
       "      <td>0.000000</td>\n",
       "      <td>1.000000</td>\n",
       "      <td>3.000000</td>\n",
       "      <td>...</td>\n",
       "      <td>NaN</td>\n",
       "      <td>NaN</td>\n",
       "      <td>NaN</td>\n",
       "      <td>NaN</td>\n",
       "      <td>NaN</td>\n",
       "      <td>NaN</td>\n",
       "      <td>NaN</td>\n",
       "      <td>NaN</td>\n",
       "      <td>NaN</td>\n",
       "      <td>NaN</td>\n",
       "    </tr>\n",
       "    <tr>\n",
       "      <th>50%</th>\n",
       "      <td>50000.500000</td>\n",
       "      <td>5.531069e+06</td>\n",
       "      <td>NaN</td>\n",
       "      <td>NaN</td>\n",
       "      <td>3140.000000</td>\n",
       "      <td>1.000000</td>\n",
       "      <td>1.000000</td>\n",
       "      <td>0.000000</td>\n",
       "      <td>2.000000</td>\n",
       "      <td>3.000000</td>\n",
       "      <td>...</td>\n",
       "      <td>NaN</td>\n",
       "      <td>NaN</td>\n",
       "      <td>NaN</td>\n",
       "      <td>NaN</td>\n",
       "      <td>NaN</td>\n",
       "      <td>NaN</td>\n",
       "      <td>NaN</td>\n",
       "      <td>NaN</td>\n",
       "      <td>NaN</td>\n",
       "      <td>NaN</td>\n",
       "    </tr>\n",
       "    <tr>\n",
       "      <th>75%</th>\n",
       "      <td>75000.250000</td>\n",
       "      <td>6.878193e+06</td>\n",
       "      <td>NaN</td>\n",
       "      <td>NaN</td>\n",
       "      <td>9929.000000</td>\n",
       "      <td>1.000000</td>\n",
       "      <td>3.000000</td>\n",
       "      <td>1.000000</td>\n",
       "      <td>3.000000</td>\n",
       "      <td>4.000000</td>\n",
       "      <td>...</td>\n",
       "      <td>NaN</td>\n",
       "      <td>NaN</td>\n",
       "      <td>NaN</td>\n",
       "      <td>NaN</td>\n",
       "      <td>NaN</td>\n",
       "      <td>NaN</td>\n",
       "      <td>NaN</td>\n",
       "      <td>NaN</td>\n",
       "      <td>NaN</td>\n",
       "      <td>NaN</td>\n",
       "    </tr>\n",
       "    <tr>\n",
       "      <th>max</th>\n",
       "      <td>100000.000000</td>\n",
       "      <td>8.165983e+06</td>\n",
       "      <td>NaN</td>\n",
       "      <td>NaN</td>\n",
       "      <td>17959.000000</td>\n",
       "      <td>11.000000</td>\n",
       "      <td>63.000000</td>\n",
       "      <td>1.000000</td>\n",
       "      <td>39.000000</td>\n",
       "      <td>39.000000</td>\n",
       "      <td>...</td>\n",
       "      <td>NaN</td>\n",
       "      <td>NaN</td>\n",
       "      <td>NaN</td>\n",
       "      <td>NaN</td>\n",
       "      <td>NaN</td>\n",
       "      <td>NaN</td>\n",
       "      <td>NaN</td>\n",
       "      <td>NaN</td>\n",
       "      <td>NaN</td>\n",
       "      <td>NaN</td>\n",
       "    </tr>\n",
       "  </tbody>\n",
       "</table>\n",
       "<p>8 rows × 24 columns</p>\n",
       "</div>"
      ],
      "text/plain": [
       "                 Row    Session Id  Student Response Subtype  \\\n",
       "count  100000.000000  1.000000e+05                       0.0   \n",
       "mean    50000.500000  4.479398e+06                       NaN   \n",
       "std     28867.657797  2.772223e+06                       NaN   \n",
       "min         1.000000  1.450000e+03                       NaN   \n",
       "25%     25000.750000  1.393139e+06                       NaN   \n",
       "50%     50000.500000  5.531069e+06                       NaN   \n",
       "75%     75000.250000  6.878193e+06                       NaN   \n",
       "max    100000.000000  8.165983e+06                       NaN   \n",
       "\n",
       "       Tutor Response Subtype   Problem Name  Problem View  Attempt At Step  \\\n",
       "count                     0.0  100000.000000  99977.000000     99885.000000   \n",
       "mean                      NaN    5697.734560      1.273503         2.363168   \n",
       "std                       NaN    5163.535758      0.658922         2.611667   \n",
       "min                       NaN       7.000000      1.000000         1.000000   \n",
       "25%                       NaN    1158.000000      1.000000         1.000000   \n",
       "50%                       NaN    3140.000000      1.000000         1.000000   \n",
       "75%                       NaN    9929.000000      1.000000         3.000000   \n",
       "max                       NaN   17959.000000     11.000000        63.000000   \n",
       "\n",
       "       Is Last Attempt    Help Level  Total Num Hints  ...  \\\n",
       "count     99885.000000  25770.000000     19758.000000  ...   \n",
       "mean          0.451359      2.033333         3.542970  ...   \n",
       "std           0.497631      1.611934         1.321847  ...   \n",
       "min           0.000000      1.000000         1.000000  ...   \n",
       "25%           0.000000      1.000000         3.000000  ...   \n",
       "50%           0.000000      2.000000         3.000000  ...   \n",
       "75%           1.000000      3.000000         4.000000  ...   \n",
       "max           1.000000     39.000000        39.000000  ...   \n",
       "\n",
       "       KC Category (WPI-Apr-2005).4  KC Category (WPI-Apr-2005).5  \\\n",
       "count                           0.0                           0.0   \n",
       "mean                            NaN                           NaN   \n",
       "std                             NaN                           NaN   \n",
       "min                             NaN                           NaN   \n",
       "25%                             NaN                           NaN   \n",
       "50%                             NaN                           NaN   \n",
       "75%                             NaN                           NaN   \n",
       "max                             NaN                           NaN   \n",
       "\n",
       "       KC Category (MCAS39-State_WPI-Simple)  \\\n",
       "count                                    0.0   \n",
       "mean                                     NaN   \n",
       "std                                      NaN   \n",
       "min                                      NaN   \n",
       "25%                                      NaN   \n",
       "50%                                      NaN   \n",
       "75%                                      NaN   \n",
       "max                                      NaN   \n",
       "\n",
       "       KC Category (MCAS39-State_WPI-Simple).1  \\\n",
       "count                                      0.0   \n",
       "mean                                       NaN   \n",
       "std                                        NaN   \n",
       "min                                        NaN   \n",
       "25%                                        NaN   \n",
       "50%                                        NaN   \n",
       "75%                                        NaN   \n",
       "max                                        NaN   \n",
       "\n",
       "       KC Category (MCAS39-State_WPI-Simple).2  \\\n",
       "count                                      0.0   \n",
       "mean                                       NaN   \n",
       "std                                        NaN   \n",
       "min                                        NaN   \n",
       "25%                                        NaN   \n",
       "50%                                        NaN   \n",
       "75%                                        NaN   \n",
       "max                                        NaN   \n",
       "\n",
       "       KC Category (MCAS39-State_WPI-Simple).3  \\\n",
       "count                                      0.0   \n",
       "mean                                       NaN   \n",
       "std                                        NaN   \n",
       "min                                        NaN   \n",
       "25%                                        NaN   \n",
       "50%                                        NaN   \n",
       "75%                                        NaN   \n",
       "max                                        NaN   \n",
       "\n",
       "       KC Category (MCAS5-State_WPI-Simple)  \\\n",
       "count                                   0.0   \n",
       "mean                                    NaN   \n",
       "std                                     NaN   \n",
       "min                                     NaN   \n",
       "25%                                     NaN   \n",
       "50%                                     NaN   \n",
       "75%                                     NaN   \n",
       "max                                     NaN   \n",
       "\n",
       "       KC Category (MCAS5-State_WPI-Simple).1  KC Category (Single-KC)  \\\n",
       "count                                     0.0                      0.0   \n",
       "mean                                      NaN                      NaN   \n",
       "std                                       NaN                      NaN   \n",
       "min                                       NaN                      NaN   \n",
       "25%                                       NaN                      NaN   \n",
       "50%                                       NaN                      NaN   \n",
       "75%                                       NaN                      NaN   \n",
       "max                                       NaN                      NaN   \n",
       "\n",
       "       KC Category (Unique-step)  \n",
       "count                        0.0  \n",
       "mean                         NaN  \n",
       "std                          NaN  \n",
       "min                          NaN  \n",
       "25%                          NaN  \n",
       "50%                          NaN  \n",
       "75%                          NaN  \n",
       "max                          NaN  \n",
       "\n",
       "[8 rows x 24 columns]"
      ]
     },
     "execution_count": 11,
     "metadata": {},
     "output_type": "execute_result"
    }
   ],
   "source": [
    "df.describe()"
   ]
  },
  {
   "cell_type": "code",
   "execution_count": 12,
   "id": "3cbb081e-0ba7-458c-8636-dbd7266352d1",
   "metadata": {},
   "outputs": [
    {
     "data": {
      "text/plain": [
       "Row                                        100000\n",
       "Sample Name                                     1\n",
       "Transaction Id                             100000\n",
       "Anon Student Id                               328\n",
       "Session Id                                  27807\n",
       "Time                                        97052\n",
       "Time Zone                                       1\n",
       "Duration (sec)                                551\n",
       "Student Response Type                           2\n",
       "Student Response Subtype                        0\n",
       "Tutor Response Type                             2\n",
       "Tutor Response Subtype                          0\n",
       "Level (Curriculum)                              1\n",
       "Problem Name                                 1426\n",
       "Problem View                                   10\n",
       "Problem Start Time                          27168\n",
       "Step Name                                    3686\n",
       "Attempt At Step                                63\n",
       "Is Last Attempt                                 2\n",
       "Outcome                                         3\n",
       "Selection                                    3681\n",
       "Action                                         12\n",
       "Input                                        7096\n",
       "Feedback Text                                6249\n",
       "Feedback Classification                         3\n",
       "Help Level                                     39\n",
       "Total Num Hints                                29\n",
       "KC (WPI-Apr-2005)                              87\n",
       "KC Category (WPI-Apr-2005)                      0\n",
       "KC (WPI-Apr-2005).1                            47\n",
       "KC Category (WPI-Apr-2005).1                    0\n",
       "KC (WPI-Apr-2005).2                            15\n",
       "KC Category (WPI-Apr-2005).2                    0\n",
       "KC (WPI-Apr-2005).3                             2\n",
       "KC Category (WPI-Apr-2005).3                    0\n",
       "KC (WPI-Apr-2005).4                             1\n",
       "KC Category (WPI-Apr-2005).4                    0\n",
       "KC (WPI-Apr-2005).5                             1\n",
       "KC Category (WPI-Apr-2005).5                    0\n",
       "KC (MCAS39-State_WPI-Simple)                   30\n",
       "KC Category (MCAS39-State_WPI-Simple)           0\n",
       "KC (MCAS39-State_WPI-Simple).1                 19\n",
       "KC Category (MCAS39-State_WPI-Simple).1         0\n",
       "KC (MCAS39-State_WPI-Simple).2                  9\n",
       "KC Category (MCAS39-State_WPI-Simple).2         0\n",
       "KC (MCAS39-State_WPI-Simple).3                  2\n",
       "KC Category (MCAS39-State_WPI-Simple).3         0\n",
       "KC (MCAS5-State_WPI-Simple)                     5\n",
       "KC Category (MCAS5-State_WPI-Simple)            0\n",
       "KC (MCAS5-State_WPI-Simple).1                   1\n",
       "KC Category (MCAS5-State_WPI-Simple).1          0\n",
       "KC (Single-KC)                                  1\n",
       "KC Category (Single-KC)                         0\n",
       "KC (Unique-step)                              318\n",
       "KC Category (Unique-step)                       0\n",
       "School                                         13\n",
       "Class                                         142\n",
       "dtype: int64"
      ]
     },
     "execution_count": 12,
     "metadata": {},
     "output_type": "execute_result"
    }
   ],
   "source": [
    "df.nunique()"
   ]
  },
  {
   "cell_type": "markdown",
   "id": "0b0c4be5-b44e-4ea3-800e-ffe86b625ab0",
   "metadata": {},
   "source": [
    "Each row of the dataset represents an interaction an user has with an intelligent tutoring system.\n",
    "\n",
    "The students are divided between schools and classes.\n",
    "\n",
    "As we can see there are some columns that probably will not be very useful for most of the analysis.\n",
    "\n",
    "Some columns contains no unique values, so they are candidate to be dropped. Other ones have an exclusive value per row, not contributing with the analysis."
   ]
  },
  {
   "cell_type": "markdown",
   "id": "4c8abdc3-9eae-44d6-9eb6-60db98209997",
   "metadata": {},
   "source": [
    "# Data preprocessing"
   ]
  },
  {
   "cell_type": "markdown",
   "id": "e4292514-6701-4254-9eb4-1548bf7b9b9b",
   "metadata": {},
   "source": [
    "The criteria used to drop the columns were:\n",
    "- Columns with one or less unique values in it.\n",
    "- Columns with all rows with unique values.\n",
    "- KC columns (KCs are Knowledge Components, created using the system provided by DataShop system, where we got the data).\n",
    "- Columns with high quantity of unique values (probably they will overfit the machine learning model)."
   ]
  },
  {
   "cell_type": "code",
   "execution_count": 13,
   "id": "116ea082-daf7-4e24-85d5-3af5977d108a",
   "metadata": {},
   "outputs": [],
   "source": [
    "def drop_unnecessary_columns(df):\n",
    "    \"\"\" Drop unnecessary columns from a dataframe to be used during the analysis\n",
    "    The criteria used to drop the columns are:\n",
    "        - 1 o less unique values per column;\n",
    "        - All rows containing unique values;\n",
    "        - Columns that represent the KC;\n",
    "        - Columns with a high quantity of unique values.\n",
    "        \n",
    "    Arguments:\n",
    "        - df (pandas DataFrame): The dataframe containing the columns to be dropped.\n",
    "        \n",
    "    Returns:\n",
    "        - df_cleaned (pandas DataFrame): A copy of the input dataframe with the columns dropped.\n",
    "    \"\"\"\n",
    "    \n",
    "    unique_values = df.nunique()\n",
    "    \n",
    "    ### Dropping the columns with 0 or 1 exclusive values\n",
    "    df_cleaned = df.loc[:, (unique_values > 1)]\n",
    "    \n",
    "    ### Dropping the columns with an unique value per row\n",
    "    df_cleaned = df_cleaned.loc[:, (unique_values < df_cleaned.shape[0])]\n",
    "    \n",
    "    ### Dropping the KC columns\n",
    "    df_cleaned = df_cleaned.loc[:, [col.find('KC (') < 0 for col in df_cleaned.columns]]\n",
    "    \n",
    "    ### Dropping columns with high variability values\n",
    "    ### At this part only the \"Time\" and \"Problem Start Time\" were dropped\n",
    "    ### I will not drop the Session Id column because I want to use it at the Machine Learning code\n",
    "    columns_to_drop = [k for k,v in df_cleaned.nunique().items() if ((v / df_cleaned.shape[0]) > 0.2) and (k != 'Session Id')]\n",
    "    df_cleaned = df_cleaned.drop(columns=columns_to_drop)\n",
    "    \n",
    "    return df_cleaned"
   ]
  },
  {
   "cell_type": "code",
   "execution_count": 14,
   "id": "06583109-717c-411f-bc4b-e722ca1bb381",
   "metadata": {},
   "outputs": [],
   "source": [
    "def adjust_data_types(df):\n",
    "    \"\"\" Adjust the data types of columns classified as object or float to float and integer respectively.\n",
    "        \n",
    "    Arguments:\n",
    "        - df (pandas DataFrame): The dataframe containing the columns to be adjusted.\n",
    "        \n",
    "    Returns:\n",
    "        - df_new (pandas DataFrame): A copy of the input dataframe with the columns' types adjusted.\n",
    "    \"\"\"\n",
    "    \n",
    "    df_new = df.copy()\n",
    "    \n",
    "    ### Converting the \"Duration (sec)\" values from object to float\n",
    "    ### It had to be converted to float because it has some decimal values at some rows\n",
    "    ### We had to replace the dot (.) values to convert the values to float\n",
    "    df_new['Duration (sec)'] = df_new['Duration (sec)'].replace('.', '0', regex=False).astype('float64')\n",
    "\n",
    "    ### Converting some float columns to int to reduce the range of allowed values in these columns\n",
    "    ### They don't need to use decimal points for theirs values\n",
    "    ### I had to use the Int64 type (Pandas integer) instead of int64 type (Numpy integer) because the existent NaN values that could not be converted\n",
    "    float_to_int_columns = ['Problem View', 'Attempt At Step', 'Is Last Attempt', 'Help Level', 'Total Num Hints']\n",
    "\n",
    "    df_new[float_to_int_columns] = df_new[float_to_int_columns].astype('Int64')\n",
    "    \n",
    "    return df_new"
   ]
  },
  {
   "cell_type": "code",
   "execution_count": 15,
   "id": "bb1cc9b9-4e5c-43b2-add2-2e37762ad89b",
   "metadata": {},
   "outputs": [],
   "source": [
    "df_cleaned = drop_unnecessary_columns(df)\n",
    "df_cleaned = adjust_data_types(df_cleaned)"
   ]
  },
  {
   "cell_type": "code",
   "execution_count": 16,
   "id": "d6297570-1f96-48a5-9b71-5d885c49fe38",
   "metadata": {},
   "outputs": [
    {
     "data": {
      "text/html": [
       "<div>\n",
       "<style scoped>\n",
       "    .dataframe tbody tr th:only-of-type {\n",
       "        vertical-align: middle;\n",
       "    }\n",
       "\n",
       "    .dataframe tbody tr th {\n",
       "        vertical-align: top;\n",
       "    }\n",
       "\n",
       "    .dataframe thead th {\n",
       "        text-align: right;\n",
       "    }\n",
       "</style>\n",
       "<table border=\"1\" class=\"dataframe\">\n",
       "  <thead>\n",
       "    <tr style=\"text-align: right;\">\n",
       "      <th></th>\n",
       "      <th>Anon Student Id</th>\n",
       "      <th>Session Id</th>\n",
       "      <th>Duration (sec)</th>\n",
       "      <th>Student Response Type</th>\n",
       "      <th>Tutor Response Type</th>\n",
       "      <th>Problem Name</th>\n",
       "      <th>Problem View</th>\n",
       "      <th>Step Name</th>\n",
       "      <th>Attempt At Step</th>\n",
       "      <th>Is Last Attempt</th>\n",
       "      <th>Outcome</th>\n",
       "      <th>Selection</th>\n",
       "      <th>Action</th>\n",
       "      <th>Input</th>\n",
       "      <th>Feedback Text</th>\n",
       "      <th>Feedback Classification</th>\n",
       "      <th>Help Level</th>\n",
       "      <th>Total Num Hints</th>\n",
       "      <th>School</th>\n",
       "      <th>Class</th>\n",
       "    </tr>\n",
       "  </thead>\n",
       "  <tbody>\n",
       "    <tr>\n",
       "      <th>0</th>\n",
       "      <td>Stu_000271be877ea1e7bf4f038c96cee5f9</td>\n",
       "      <td>5660580</td>\n",
       "      <td>22.0</td>\n",
       "      <td>ATTEMPT</td>\n",
       "      <td>RESULT</td>\n",
       "      <td>10168</td>\n",
       "      <td>1</td>\n",
       "      <td>Step0:10168:There are 100 squares in the 10 by...</td>\n",
       "      <td>1</td>\n",
       "      <td>0</td>\n",
       "      <td>INCORRECT</td>\n",
       "      <td>Step0:10168:There are 100 squares in the 10 by...</td>\n",
       "      <td>1</td>\n",
       "      <td>80/100</td>\n",
       "      <td>Don't forget to reduce your fraction.</td>\n",
       "      <td>NaN</td>\n",
       "      <td>&lt;NA&gt;</td>\n",
       "      <td>&lt;NA&gt;</td>\n",
       "      <td>ForestGrove</td>\n",
       "      <td>Period40607Dumphy</td>\n",
       "    </tr>\n",
       "    <tr>\n",
       "      <th>1</th>\n",
       "      <td>Stu_000271be877ea1e7bf4f038c96cee5f9</td>\n",
       "      <td>5660580</td>\n",
       "      <td>3.0</td>\n",
       "      <td>HINT_REQUEST</td>\n",
       "      <td>HINT_MSG</td>\n",
       "      <td>10168</td>\n",
       "      <td>1</td>\n",
       "      <td>Step0:10168:There are 100 squares in the 10 by...</td>\n",
       "      <td>2</td>\n",
       "      <td>0</td>\n",
       "      <td>HINT</td>\n",
       "      <td>Step0:10168:There are 100 squares in the 10 by...</td>\n",
       "      <td>1</td>\n",
       "      <td>NaN</td>\n",
       "      <td>There are 100 squares and 80 are colored purple.</td>\n",
       "      <td>HINT</td>\n",
       "      <td>1</td>\n",
       "      <td>&lt;NA&gt;</td>\n",
       "      <td>ForestGrove</td>\n",
       "      <td>Period40607Dumphy</td>\n",
       "    </tr>\n",
       "    <tr>\n",
       "      <th>2</th>\n",
       "      <td>Stu_000271be877ea1e7bf4f038c96cee5f9</td>\n",
       "      <td>5660580</td>\n",
       "      <td>7.0</td>\n",
       "      <td>HINT_REQUEST</td>\n",
       "      <td>HINT_MSG</td>\n",
       "      <td>10168</td>\n",
       "      <td>1</td>\n",
       "      <td>Step0:10168:There are 100 squares in the 10 by...</td>\n",
       "      <td>3</td>\n",
       "      <td>0</td>\n",
       "      <td>HINT</td>\n",
       "      <td>Step0:10168:There are 100 squares in the 10 by...</td>\n",
       "      <td>1</td>\n",
       "      <td>NaN</td>\n",
       "      <td>80/100 squares are colored purple. Reduce this...</td>\n",
       "      <td>HINT</td>\n",
       "      <td>2</td>\n",
       "      <td>&lt;NA&gt;</td>\n",
       "      <td>ForestGrove</td>\n",
       "      <td>Period40607Dumphy</td>\n",
       "    </tr>\n",
       "    <tr>\n",
       "      <th>3</th>\n",
       "      <td>Stu_000271be877ea1e7bf4f038c96cee5f9</td>\n",
       "      <td>5660580</td>\n",
       "      <td>2.0</td>\n",
       "      <td>HINT_REQUEST</td>\n",
       "      <td>HINT_MSG</td>\n",
       "      <td>10168</td>\n",
       "      <td>1</td>\n",
       "      <td>Step0:10168:There are 100 squares in the 10 by...</td>\n",
       "      <td>4</td>\n",
       "      <td>0</td>\n",
       "      <td>HINT</td>\n",
       "      <td>Step0:10168:There are 100 squares in the 10 by...</td>\n",
       "      <td>1</td>\n",
       "      <td>NaN</td>\n",
       "      <td>80/100 = 8/10 = 4/5</td>\n",
       "      <td>HINT</td>\n",
       "      <td>3</td>\n",
       "      <td>&lt;NA&gt;</td>\n",
       "      <td>ForestGrove</td>\n",
       "      <td>Period40607Dumphy</td>\n",
       "    </tr>\n",
       "    <tr>\n",
       "      <th>4</th>\n",
       "      <td>Stu_000271be877ea1e7bf4f038c96cee5f9</td>\n",
       "      <td>5660580</td>\n",
       "      <td>10.0</td>\n",
       "      <td>ATTEMPT</td>\n",
       "      <td>RESULT</td>\n",
       "      <td>10168</td>\n",
       "      <td>1</td>\n",
       "      <td>Step0:10168:There are 100 squares in the 10 by...</td>\n",
       "      <td>5</td>\n",
       "      <td>1</td>\n",
       "      <td>CORRECT</td>\n",
       "      <td>Step0:10168:There are 100 squares in the 10 by...</td>\n",
       "      <td>1</td>\n",
       "      <td>4/5</td>\n",
       "      <td>NaN</td>\n",
       "      <td>NaN</td>\n",
       "      <td>&lt;NA&gt;</td>\n",
       "      <td>&lt;NA&gt;</td>\n",
       "      <td>ForestGrove</td>\n",
       "      <td>Period40607Dumphy</td>\n",
       "    </tr>\n",
       "  </tbody>\n",
       "</table>\n",
       "</div>"
      ],
      "text/plain": [
       "                        Anon Student Id  Session Id  Duration (sec)  \\\n",
       "0  Stu_000271be877ea1e7bf4f038c96cee5f9     5660580            22.0   \n",
       "1  Stu_000271be877ea1e7bf4f038c96cee5f9     5660580             3.0   \n",
       "2  Stu_000271be877ea1e7bf4f038c96cee5f9     5660580             7.0   \n",
       "3  Stu_000271be877ea1e7bf4f038c96cee5f9     5660580             2.0   \n",
       "4  Stu_000271be877ea1e7bf4f038c96cee5f9     5660580            10.0   \n",
       "\n",
       "  Student Response Type Tutor Response Type  Problem Name  Problem View  \\\n",
       "0               ATTEMPT              RESULT         10168             1   \n",
       "1          HINT_REQUEST            HINT_MSG         10168             1   \n",
       "2          HINT_REQUEST            HINT_MSG         10168             1   \n",
       "3          HINT_REQUEST            HINT_MSG         10168             1   \n",
       "4               ATTEMPT              RESULT         10168             1   \n",
       "\n",
       "                                           Step Name  Attempt At Step  \\\n",
       "0  Step0:10168:There are 100 squares in the 10 by...                1   \n",
       "1  Step0:10168:There are 100 squares in the 10 by...                2   \n",
       "2  Step0:10168:There are 100 squares in the 10 by...                3   \n",
       "3  Step0:10168:There are 100 squares in the 10 by...                4   \n",
       "4  Step0:10168:There are 100 squares in the 10 by...                5   \n",
       "\n",
       "   Is Last Attempt    Outcome  \\\n",
       "0                0  INCORRECT   \n",
       "1                0       HINT   \n",
       "2                0       HINT   \n",
       "3                0       HINT   \n",
       "4                1    CORRECT   \n",
       "\n",
       "                                           Selection Action   Input  \\\n",
       "0  Step0:10168:There are 100 squares in the 10 by...      1  80/100   \n",
       "1  Step0:10168:There are 100 squares in the 10 by...      1     NaN   \n",
       "2  Step0:10168:There are 100 squares in the 10 by...      1     NaN   \n",
       "3  Step0:10168:There are 100 squares in the 10 by...      1     NaN   \n",
       "4  Step0:10168:There are 100 squares in the 10 by...      1     4/5   \n",
       "\n",
       "                                       Feedback Text Feedback Classification  \\\n",
       "0              Don't forget to reduce your fraction.                     NaN   \n",
       "1   There are 100 squares and 80 are colored purple.                    HINT   \n",
       "2  80/100 squares are colored purple. Reduce this...                    HINT   \n",
       "3                                80/100 = 8/10 = 4/5                    HINT   \n",
       "4                                                NaN                     NaN   \n",
       "\n",
       "   Help Level  Total Num Hints       School              Class  \n",
       "0        <NA>             <NA>  ForestGrove  Period40607Dumphy  \n",
       "1           1             <NA>  ForestGrove  Period40607Dumphy  \n",
       "2           2             <NA>  ForestGrove  Period40607Dumphy  \n",
       "3           3             <NA>  ForestGrove  Period40607Dumphy  \n",
       "4        <NA>             <NA>  ForestGrove  Period40607Dumphy  "
      ]
     },
     "execution_count": 16,
     "metadata": {},
     "output_type": "execute_result"
    }
   ],
   "source": [
    "df_cleaned.head()"
   ]
  },
  {
   "cell_type": "markdown",
   "id": "4454fc64-b7ea-4155-af76-660da1de83b4",
   "metadata": {},
   "source": [
    "## Checking the differences between some columns"
   ]
  },
  {
   "cell_type": "markdown",
   "id": "1ae5dfdb-43a3-413c-a27c-ec65bf4ecc55",
   "metadata": {},
   "source": [
    "Some columns apparently have similar values or similar information.\n",
    "\n",
    "Below we analyzed the differences between the *Step Name* and the *Selection* columns. Apparently they have the same values for each row, so it would be wiser to drop one of them. The only difference we found between then is that the *Step Name* column has aditional text at the end of it, probably because some misconfiguration of the input dataset.\n",
    "\n",
    "The other ones that have similar information are the *Help Level* and the *Total Num Hints* columns. But the *Total Num Hints* only stores the maximum value of the *Help Level* grouped by *Session*, *Problem Name* and *Step Name*."
   ]
  },
  {
   "cell_type": "markdown",
   "id": "b9c2eabb-5db9-480f-8fda-e6312d6cec8d",
   "metadata": {},
   "source": [
    "**_Step Name_ and _Selection_ columns**"
   ]
  },
  {
   "cell_type": "code",
   "execution_count": 17,
   "id": "4af085e8-cad4-40d0-9a21-7a2198a93aec",
   "metadata": {},
   "outputs": [],
   "source": [
    "### Creating a test DataFrame with only the rows that have explicitly different values on which column\n",
    "df_test_step_selection = df_cleaned[df_cleaned['Step Name'] != df_cleaned['Selection']][['Step Name', 'Selection']]\n",
    "df_test_step_selection = df_test_step_selection.reset_index()"
   ]
  },
  {
   "cell_type": "code",
   "execution_count": 18,
   "id": "dc21545e-5768-46cd-83b8-0c36fa586f23",
   "metadata": {},
   "outputs": [
    {
     "name": "stdout",
     "output_type": "stream",
     "text": [
      "Values at index 0 without reduncing the length of the \"Step Name\" column.\n",
      "Step0:10168:There are 100 squares in the 10 by 10 grid above. What fraction of the squares are colored purple? (Make sure you reduce the fraction) 1\n",
      "Step0:10168:There are 100 squares in the 10 by 10 grid above. What fraction of the squares are colored purple? (Make sure you reduce the fraction)\n",
      "\n",
      "Values at index 0 reduncing the length of the \"Step Name\" column.\n",
      "Step0:10168:There are 100 squares in the 10 by 10 grid above. What fraction of the squares are colored purple? (Make sure you reduce the fraction)\n",
      "Step0:10168:There are 100 squares in the 10 by 10 grid above. What fraction of the squares are colored purple? (Make sure you reduce the fraction)\n"
     ]
    }
   ],
   "source": [
    "idx = 0\n",
    "\n",
    "print('Values at index {} without reduncing the length of the \"Step Name\" column.'.format(idx))\n",
    "print(df_test_step_selection['Step Name'][idx])\n",
    "print(df_test_step_selection['Selection'][idx])\n",
    "\n",
    "selection_len = len(df_test_step_selection['Selection'][idx])\n",
    "\n",
    "print()\n",
    "print('Values at index {} reduncing the length of the \"Step Name\" column.'.format(idx))\n",
    "print(df_test_step_selection['Step Name'][idx][:selection_len])\n",
    "print(df_test_step_selection['Selection'][idx])"
   ]
  },
  {
   "cell_type": "code",
   "execution_count": 19,
   "id": "ba4509a6-af42-489e-aa10-a9e6bfb44a1f",
   "metadata": {},
   "outputs": [
    {
     "name": "stdout",
     "output_type": "stream",
     "text": [
      "Calculated differences between columns when the length of the \"Step Name\" column is reduced to match the \"Selection\" column.\n",
      "Total of different values: 267\n",
      "Total of different values with at leat one NaN: 115\n",
      "Total of different values without the NaNs: 152\n"
     ]
    }
   ],
   "source": [
    "total_diff = 0\n",
    "total_nan = 0\n",
    "\n",
    "for i in range(df_test_step_selection.shape[0]):\n",
    "    selection_len = len(df_test_step_selection['Selection'][i])\n",
    "    \n",
    "    step = df_test_step_selection['Step Name'][i]\n",
    "    \n",
    "    if type(step) == str:\n",
    "        step = step[:selection_len]\n",
    "    else:\n",
    "        total_nan += 1\n",
    "    \n",
    "    if step != df_test_step_selection['Selection'][i]:\n",
    "        total_diff += 1\n",
    "\n",
    "print('Calculated differences between columns when the length of the \"Step Name\" column is reduced to match the \"Selection\" column.')\n",
    "print('Total of different values: {}'.format(total_diff))\n",
    "print('Total of different values with at leat one NaN: {}'.format(total_nan))\n",
    "print('Total of different values without the NaNs: {}'.format(total_diff - total_nan))"
   ]
  },
  {
   "cell_type": "code",
   "execution_count": 20,
   "id": "0789f19f-46bc-40b2-8567-dc1ccd26f08d",
   "metadata": {},
   "outputs": [
    {
     "name": "stdout",
     "output_type": "stream",
     "text": [
      "There is only 0.0015% of different values between the \"Step Name\" and the \"Selection\" columns.\n"
     ]
    }
   ],
   "source": [
    "### There are so few values that the differences are not relevant\n",
    "pct_diff = (total_diff - total_nan) / df_cleaned.shape[0]\n",
    "\n",
    "print('There is only {:.4f}% of different values between the \"Step Name\" and the \"Selection\" columns.'.format(pct_diff))"
   ]
  },
  {
   "cell_type": "code",
   "execution_count": 21,
   "id": "a14eec91-bd4e-4b62-9696-fe7a8e2136a0",
   "metadata": {},
   "outputs": [],
   "source": [
    "df_cleaned = df_cleaned.drop(columns=['Selection'])"
   ]
  },
  {
   "cell_type": "markdown",
   "id": "35b4443a-3a83-46a9-b87f-b24223fa2f84",
   "metadata": {},
   "source": [
    "**_Help Level_ and _Total Num Hints_ columns**"
   ]
  },
  {
   "cell_type": "code",
   "execution_count": 22,
   "id": "a7ec62b6-ccb8-46af-af8a-6ba25fdd53d6",
   "metadata": {},
   "outputs": [
    {
     "data": {
      "text/html": [
       "<div>\n",
       "<style scoped>\n",
       "    .dataframe tbody tr th:only-of-type {\n",
       "        vertical-align: middle;\n",
       "    }\n",
       "\n",
       "    .dataframe tbody tr th {\n",
       "        vertical-align: top;\n",
       "    }\n",
       "\n",
       "    .dataframe thead th {\n",
       "        text-align: right;\n",
       "    }\n",
       "</style>\n",
       "<table border=\"1\" class=\"dataframe\">\n",
       "  <thead>\n",
       "    <tr style=\"text-align: right;\">\n",
       "      <th></th>\n",
       "      <th>Session Id</th>\n",
       "      <th>Problem Name</th>\n",
       "      <th>Step Name</th>\n",
       "      <th>Outcome</th>\n",
       "      <th>Help Level</th>\n",
       "      <th>Total Num Hints</th>\n",
       "    </tr>\n",
       "  </thead>\n",
       "  <tbody>\n",
       "    <tr>\n",
       "      <th>29</th>\n",
       "      <td>5661544</td>\n",
       "      <td>3738</td>\n",
       "      <td>Step1:3739:What is the difference between the ...</td>\n",
       "      <td>HINT</td>\n",
       "      <td>1</td>\n",
       "      <td>3</td>\n",
       "    </tr>\n",
       "    <tr>\n",
       "      <th>30</th>\n",
       "      <td>5661544</td>\n",
       "      <td>3738</td>\n",
       "      <td>Step1:3739:What is the difference between the ...</td>\n",
       "      <td>HINT</td>\n",
       "      <td>2</td>\n",
       "      <td>3</td>\n",
       "    </tr>\n",
       "    <tr>\n",
       "      <th>33</th>\n",
       "      <td>5661544</td>\n",
       "      <td>3738</td>\n",
       "      <td>Step2:3740:Well done. Now, what is the differe...</td>\n",
       "      <td>HINT</td>\n",
       "      <td>1</td>\n",
       "      <td>3</td>\n",
       "    </tr>\n",
       "    <tr>\n",
       "      <th>34</th>\n",
       "      <td>5661544</td>\n",
       "      <td>3738</td>\n",
       "      <td>Step2:3740:Well done. Now, what is the differe...</td>\n",
       "      <td>HINT</td>\n",
       "      <td>2</td>\n",
       "      <td>3</td>\n",
       "    </tr>\n",
       "    <tr>\n",
       "      <th>37</th>\n",
       "      <td>5661544</td>\n",
       "      <td>3738</td>\n",
       "      <td>Step3:3741:Good. So, we see that the salary go...</td>\n",
       "      <td>HINT</td>\n",
       "      <td>1</td>\n",
       "      <td>2</td>\n",
       "    </tr>\n",
       "    <tr>\n",
       "      <th>41</th>\n",
       "      <td>5661544</td>\n",
       "      <td>3738</td>\n",
       "      <td>Step4:3742:Good. Now what is the salary of an ...</td>\n",
       "      <td>HINT</td>\n",
       "      <td>1</td>\n",
       "      <td>4</td>\n",
       "    </tr>\n",
       "    <tr>\n",
       "      <th>42</th>\n",
       "      <td>5661544</td>\n",
       "      <td>3738</td>\n",
       "      <td>Step4:3742:Good. Now what is the salary of an ...</td>\n",
       "      <td>HINT</td>\n",
       "      <td>2</td>\n",
       "      <td>4</td>\n",
       "    </tr>\n",
       "    <tr>\n",
       "      <th>43</th>\n",
       "      <td>5661544</td>\n",
       "      <td>3738</td>\n",
       "      <td>Step4:3742:Good. Now what is the salary of an ...</td>\n",
       "      <td>HINT</td>\n",
       "      <td>3</td>\n",
       "      <td>4</td>\n",
       "    </tr>\n",
       "    <tr>\n",
       "      <th>47</th>\n",
       "      <td>5662026</td>\n",
       "      <td>8135</td>\n",
       "      <td>Step1:8136:Every factor has a partner because ...</td>\n",
       "      <td>HINT</td>\n",
       "      <td>1</td>\n",
       "      <td>2</td>\n",
       "    </tr>\n",
       "    <tr>\n",
       "      <th>51</th>\n",
       "      <td>5662026</td>\n",
       "      <td>8135</td>\n",
       "      <td>Step2:8137:130 divided by 2 is 65, so the fact...</td>\n",
       "      <td>HINT</td>\n",
       "      <td>1</td>\n",
       "      <td>6</td>\n",
       "    </tr>\n",
       "  </tbody>\n",
       "</table>\n",
       "</div>"
      ],
      "text/plain": [
       "    Session Id  Problem Name  \\\n",
       "29     5661544          3738   \n",
       "30     5661544          3738   \n",
       "33     5661544          3738   \n",
       "34     5661544          3738   \n",
       "37     5661544          3738   \n",
       "41     5661544          3738   \n",
       "42     5661544          3738   \n",
       "43     5661544          3738   \n",
       "47     5662026          8135   \n",
       "51     5662026          8135   \n",
       "\n",
       "                                            Step Name Outcome  Help Level  \\\n",
       "29  Step1:3739:What is the difference between the ...    HINT           1   \n",
       "30  Step1:3739:What is the difference between the ...    HINT           2   \n",
       "33  Step2:3740:Well done. Now, what is the differe...    HINT           1   \n",
       "34  Step2:3740:Well done. Now, what is the differe...    HINT           2   \n",
       "37  Step3:3741:Good. So, we see that the salary go...    HINT           1   \n",
       "41  Step4:3742:Good. Now what is the salary of an ...    HINT           1   \n",
       "42  Step4:3742:Good. Now what is the salary of an ...    HINT           2   \n",
       "43  Step4:3742:Good. Now what is the salary of an ...    HINT           3   \n",
       "47  Step1:8136:Every factor has a partner because ...    HINT           1   \n",
       "51  Step2:8137:130 divided by 2 is 65, so the fact...    HINT           1   \n",
       "\n",
       "    Total Num Hints  \n",
       "29                3  \n",
       "30                3  \n",
       "33                3  \n",
       "34                3  \n",
       "37                2  \n",
       "41                4  \n",
       "42                4  \n",
       "43                4  \n",
       "47                2  \n",
       "51                6  "
      ]
     },
     "execution_count": 22,
     "metadata": {},
     "output_type": "execute_result"
    }
   ],
   "source": [
    "### Getting only the rows where the \"Total Num Hints\" column has some value\n",
    "df_test_hints = df_cleaned[df_cleaned['Total Num Hints'] >= 0]\n",
    "\n",
    "df_test_hints = df_test_hints[df_test_hints['Total Num Hints'] != df_test_hints['Help Level']]\n",
    "\n",
    "df_test_hints[['Session Id', 'Problem Name', 'Step Name', 'Outcome', 'Help Level', 'Total Num Hints']].head(10)"
   ]
  },
  {
   "cell_type": "code",
   "execution_count": 23,
   "id": "8a3cac6e-f1a2-49fd-beaf-7eb4f595f9e4",
   "metadata": {},
   "outputs": [
    {
     "name": "stdout",
     "output_type": "stream",
     "text": [
      "Total of different values between columns: 13913\n"
     ]
    }
   ],
   "source": [
    "print('Total of different values between columns: {}'.format(df_test_hints.shape[0]))"
   ]
  },
  {
   "cell_type": "markdown",
   "id": "72f3ed48-0eb7-410b-8e01-3f4559adefd6",
   "metadata": {},
   "source": [
    "## Enhancing the dataset"
   ]
  },
  {
   "cell_type": "markdown",
   "id": "52370865-9fca-4c12-9518-db65913790e6",
   "metadata": {},
   "source": [
    "At this part we tried to create some new columns to be used during the training of the predictive model.\n",
    "\n",
    "Columns created:\n",
    "- Last Help Level: indicating what was the last value of the column *Help Level* before CORRECT or INCORRECT value at the *Outcome* column."
   ]
  },
  {
   "cell_type": "markdown",
   "id": "6b81846b-5003-4219-8d68-4d8b688a060e",
   "metadata": {},
   "source": [
    "**Last Help Level**"
   ]
  },
  {
   "cell_type": "markdown",
   "id": "6045cc99-42c6-4d9c-a004-05064271cf93",
   "metadata": {},
   "source": [
    "We can get the Last Help Level grouping the *Session Id*, *Problem Name* and *Step Name* columns.\n",
    "\n",
    "We have to group by these columns because after that, the Help Level returns to the value of 0.\n",
    "\n",
    "We have to fill the remaing NaN values with 0 because, sometimes the grouping doesn't start with the outcoume of a HINT, causing the Help Value to be a NaN."
   ]
  },
  {
   "cell_type": "code",
   "execution_count": 24,
   "id": "c790fd1b-00dc-4647-805b-9d6952c5a063",
   "metadata": {},
   "outputs": [],
   "source": [
    "### Based on https://stackoverflow.com/questions/44111425/cannot-use-fillna-when-a-condition-is-introduced\n",
    "\n",
    "### This step could take a while\n",
    "group_columns = ['Session Id', 'Problem Name', 'Step Name']\n",
    "\n",
    "### Filling the next value based on the grouping\n",
    "df_cleaned['Last Help Level'] = df_cleaned.groupby(group_columns)['Help Level'].fillna(method='ffill')\n",
    "\n",
    "### Filling the initial value\n",
    "df_cleaned['Last Help Level'] = df_cleaned['Last Help Level'].fillna(0)"
   ]
  },
  {
   "cell_type": "markdown",
   "id": "c08c33f1-611e-4b2d-adb9-5e88a5657fbb",
   "metadata": {},
   "source": [
    "# Data analysis"
   ]
  },
  {
   "cell_type": "code",
   "execution_count": 25,
   "id": "ff7cb267-f6d8-49ec-ab0b-8220566d2dd3",
   "metadata": {},
   "outputs": [],
   "source": [
    "def plot_bar(data, title='Number of occurrences', xlabel='x', ylabel='Number of occurrences', rotation=90, show_xticks=True):\n",
    "    \"\"\"Plots a bar chart with some customizations\n",
    "    \n",
    "    Arguments:\n",
    "        - data (pandas Series): A series containing the data to plot the chart\n",
    "        - title (str): The title of the chart\n",
    "        - xlabel (str): The label of the x axis of the chart\n",
    "        - ylabel (str): The label of the y axis of the chart\n",
    "        - rotation (int): The rotation angle of the values of the x axis\n",
    "        - show_xticks (boolean): Definie if the chart has to show or not the values at xticks\n",
    "    \n",
    "    Returns:\n",
    "        - None: Only plots the bar chart\n",
    "    \"\"\"\n",
    "    x = data.keys()\n",
    "    y = data.values\n",
    "    \n",
    "    plt.figure(figsize=(16, 6))\n",
    "\n",
    "    plt.bar(x, y);\n",
    "    \n",
    "    plt.title(title);\n",
    "    plt.xlabel(xlabel);\n",
    "    plt.ylabel(ylabel);\n",
    "    plt.xticks(rotation=rotation);\n",
    "    \n",
    "    if not show_xticks:\n",
    "        plt.xticks([])\n",
    "    \n",
    "    plt.show();"
   ]
  },
  {
   "cell_type": "code",
   "execution_count": 26,
   "id": "d65511f7-2ff3-4b60-90cc-ca67326b96fe",
   "metadata": {},
   "outputs": [],
   "source": [
    "def print_statistics(data):\n",
    "    \"\"\" Print some statistics based on the input data\n",
    "    \n",
    "    Arguments:\n",
    "        - data (pandas Series): A series containing the data to plot the chart\n",
    "        \n",
    "    Returns:\n",
    "        - None: Only print the statistics\n",
    "    \"\"\"\n",
    "    \n",
    "    print('Number of distinct values: {}'.format(len(data)))\n",
    "    print('Mean: {:.2f}'.format(data.mean()))\n",
    "    print('Median: {:.2f}'.format(data.median()))\n",
    "    print('Standard Deviation: {:.2f}'.format(data.std()))"
   ]
  },
  {
   "cell_type": "markdown",
   "id": "990dd25a-9ced-4767-9d6b-d8c3605a53fb",
   "metadata": {},
   "source": [
    "## Analyzing the number of interactions"
   ]
  },
  {
   "cell_type": "markdown",
   "id": "ed042147-c5af-4e1c-b132-e799351603f0",
   "metadata": {},
   "source": [
    "**School**"
   ]
  },
  {
   "cell_type": "code",
   "execution_count": 27,
   "id": "ec038add-4f6e-4bcc-8933-14708408af73",
   "metadata": {},
   "outputs": [
    {
     "data": {
      "image/png": "[encoded data removed]",
      "text/plain": [
       "<Figure size 1152x432 with 1 Axes>"
      ]
     },
     "metadata": {
      "needs_background": "light"
     },
     "output_type": "display_data"
    },
    {
     "name": "stdout",
     "output_type": "stream",
     "text": [
      "Number of distinct values: 13\n",
      "Mean: 7689.38\n",
      "Median: 1976.00\n",
      "Standard Deviation: 19018.33\n"
     ]
    }
   ],
   "source": [
    "column = 'School'\n",
    "data = df_cleaned[column].value_counts()\n",
    "plot_bar(data, title='Number of interactions per {}'.format(column), xlabel=column)\n",
    "\n",
    "print_statistics(data)"
   ]
  },
  {
   "cell_type": "markdown",
   "id": "663dcefa-f1eb-4623-8ac1-2a2779ecd461",
   "metadata": {},
   "source": [
    "**Class**"
   ]
  },
  {
   "cell_type": "code",
   "execution_count": 28,
   "id": "e7663bc7-3dd8-4d10-b3ab-0111dc81a2f6",
   "metadata": {},
   "outputs": [
    {
     "data": {
      "image/png": "[encoded data removed]",
      "text/plain": [
       "<Figure size 1152x432 with 1 Axes>"
      ]
     },
     "metadata": {
      "needs_background": "light"
     },
     "output_type": "display_data"
    },
    {
     "name": "stdout",
     "output_type": "stream",
     "text": [
      "Number of distinct values: 142\n",
      "Mean: 702.97\n",
      "Median: 243.00\n",
      "Standard Deviation: 1082.40\n"
     ]
    }
   ],
   "source": [
    "column = 'Class'\n",
    "data = df_cleaned[column].value_counts()\n",
    "\n",
    "### Hide the xticks because there is a lot of distinct values to show and the importance of this char is to show the distribution not the values by itself\n",
    "plot_bar(data, title='Number of interactions per {}'.format(column), xlabel=column, show_xticks=False)\n",
    "\n",
    "print_statistics(data)"
   ]
  },
  {
   "cell_type": "markdown",
   "id": "552aa752-8f92-4ee2-bf09-ae944c415053",
   "metadata": {},
   "source": [
    "**Student**"
   ]
  },
  {
   "cell_type": "code",
   "execution_count": 29,
   "id": "bfa94e5e-252b-48c3-b8af-9655bc9e4151",
   "metadata": {},
   "outputs": [
    {
     "data": {
      "image/png": "[encoded data removed]",
      "text/plain": [
       "<Figure size 1152x432 with 1 Axes>"
      ]
     },
     "metadata": {
      "needs_background": "light"
     },
     "output_type": "display_data"
    },
    {
     "name": "stdout",
     "output_type": "stream",
     "text": [
      "Number of distinct values: 328\n",
      "Mean: 304.88\n",
      "Median: 182.00\n",
      "Standard Deviation: 349.04\n"
     ]
    }
   ],
   "source": [
    "column = 'Student'\n",
    "data = df_cleaned['Anon ' + column + ' Id'].value_counts()\n",
    "\n",
    "### Hide the xticks because there is a lot of distinct values to show and the importance of this char is to show the distribution not the values by itself\n",
    "plot_bar(data, title='Number of interactions per {}'.format(column), xlabel=column, show_xticks=False)\n",
    "\n",
    "print_statistics(data)"
   ]
  },
  {
   "cell_type": "markdown",
   "id": "52f095d9-d83f-439e-80e2-289c6251a22f",
   "metadata": {},
   "source": [
    "As we can see the number of interactions is not well distribuited, mostly comparing the distribution between schools where the ForestGrove school has a higher number of interactions. This could cause some bias at these analysis.\n",
    "\n",
    "The interactions divided between classes and students follow the same pattern but with a lower standard deviation on data."
   ]
  },
  {
   "cell_type": "markdown",
   "id": "d16f8ddb-c7f9-4589-a628-7ee3f94b9f61",
   "metadata": {},
   "source": [
    "## Analyzing the number of students"
   ]
  },
  {
   "cell_type": "markdown",
   "id": "6a80a830-9925-497d-9e14-b0b0d5b43cef",
   "metadata": {},
   "source": [
    "**School**"
   ]
  },
  {
   "cell_type": "code",
   "execution_count": 30,
   "id": "ea1be5f7-97a2-46ad-b5c5-757d086cf538",
   "metadata": {},
   "outputs": [],
   "source": [
    "# Based on https://www.kite.com/python/answers/how-to-count-unique-values-in-a-pandas-dataframe-group-in-python\n",
    "grouped_df = df_cleaned[['Anon Student Id', 'School']].groupby('School')\n",
    "grouped_df = grouped_df.agg({'Anon Student Id': 'nunique'}).reset_index()"
   ]
  },
  {
   "cell_type": "code",
   "execution_count": 31,
   "id": "98fc4a81-861f-4e3c-b49e-669882f631b6",
   "metadata": {},
   "outputs": [
    {
     "data": {
      "image/png": "[encoded data removed]",
      "text/plain": [
       "<Figure size 1152x432 with 1 Axes>"
      ]
     },
     "metadata": {
      "needs_background": "light"
     },
     "output_type": "display_data"
    },
    {
     "name": "stdout",
     "output_type": "stream",
     "text": [
      "Number of distinct values: 13\n",
      "Mean: 34.77\n",
      "Median: 16.00\n",
      "Standard Deviation: 74.25\n"
     ]
    }
   ],
   "source": [
    "data = pd.Series(grouped_df['Anon Student Id'].tolist(), index=grouped_df['School']).sort_values(ascending=False)\n",
    "plot_bar(data, title='Number of students per school', xlabel='School')\n",
    "\n",
    "print_statistics(data)"
   ]
  },
  {
   "cell_type": "markdown",
   "id": "343370fb-db2a-445f-88d5-c5ab8e191d18",
   "metadata": {},
   "source": [
    "**Class**"
   ]
  },
  {
   "cell_type": "code",
   "execution_count": 32,
   "id": "b757f492-f9d8-450a-ad92-10ce269ce7a1",
   "metadata": {},
   "outputs": [],
   "source": [
    "grouped_df = df_cleaned[['Anon Student Id', 'School', 'Class']].groupby(['School', 'Class'])\n",
    "grouped_df = grouped_df.agg({'Anon Student Id': 'nunique'}).reset_index()"
   ]
  },
  {
   "cell_type": "code",
   "execution_count": 33,
   "id": "01432bbc-b252-483c-89b8-c083837b4bc4",
   "metadata": {},
   "outputs": [
    {
     "data": {
      "image/png": "[encoded data removed]",
      "text/plain": [
       "<Figure size 1152x432 with 1 Axes>"
      ]
     },
     "metadata": {
      "needs_background": "light"
     },
     "output_type": "display_data"
    },
    {
     "name": "stdout",
     "output_type": "stream",
     "text": [
      "Number of distinct values: 206\n",
      "Mean: 2.46\n",
      "Median: 2.00\n",
      "Standard Deviation: 1.73\n"
     ]
    }
   ],
   "source": [
    "data = grouped_df['Anon Student Id']\n",
    "plot_bar(data, title='Number of students per school and class', xlabel='School + Class', show_xticks=False)\n",
    "\n",
    "print_statistics(data)"
   ]
  },
  {
   "cell_type": "markdown",
   "id": "45a004ee-f2eb-4b43-a326-6b7561ab98fb",
   "metadata": {},
   "source": [
    "The distribution of students between schools follow the same structure of the number of interactions, with a higher standard deviation and a big difference between the values of mean and median.\n",
    "\n",
    "The number of students per class is well distributed with a few outiliers."
   ]
  },
  {
   "cell_type": "markdown",
   "id": "c864839b-ffb3-419b-8433-2b9acb9361ba",
   "metadata": {},
   "source": [
    "# Predictive model"
   ]
  },
  {
   "cell_type": "markdown",
   "id": "10c1e6af-5451-4ee2-a810-63d8755f1ba4",
   "metadata": {},
   "source": [
    "At this part we tried to create a model that show us the best way to use the tutoring system to get the most of it.\n",
    "\n",
    "We tried to predict when the students have a higher probability to input a right answer after receiving some hints.\n",
    "\n",
    "Some algorithms used were:\n",
    "- TODO: fill this part with the algorithms used"
   ]
  },
  {
   "cell_type": "markdown",
   "id": "72df02cb-62d5-4895-9fc5-2673b3daa427",
   "metadata": {},
   "source": [
    "## Defining the metric"
   ]
  },
  {
   "cell_type": "code",
   "execution_count": 34,
   "id": "a2d94cc4-989b-4881-99d3-28e484f9dd3a",
   "metadata": {},
   "outputs": [],
   "source": [
    "### TODO\n",
    "# https://towardsdatascience.com/20-popular-machine-learning-metrics-part-1-classification-regression-evaluation-metrics-1ca3e282a2ce\n",
    "# https://www.kaggle.com/vipulgandhi/how-to-choose-right-metric-for-evaluating-ml-model"
   ]
  },
  {
   "cell_type": "markdown",
   "id": "bc2c839b-8f88-4060-9353-797c25fa033c",
   "metadata": {},
   "source": [
    "## Preparing the dataset for the model"
   ]
  },
  {
   "cell_type": "markdown",
   "id": "b7e4e822-c5c6-44f0-929a-6b2d6c301d7f",
   "metadata": {},
   "source": [
    "Here we made some changes at the data to become an input to the machine learning models.\n",
    "\n",
    "Only the CORRECT and INCORRECT outputs were considered at this analysis, because we considered that the HINT output could be considered as as intermediate level and its values were already used by the *Last Help Level* column.\n",
    "\n",
    "We created a sample of the data to be easier to work with it and to have a less resource consumption."
   ]
  },
  {
   "cell_type": "code",
   "execution_count": 35,
   "id": "3b584617-ecce-4c2c-92fa-fedd2110116e",
   "metadata": {},
   "outputs": [],
   "source": [
    "### TODO: We had to prepare the dataset using functions so that te code could be reusable\n",
    "\n",
    "ml_columns = ['Problem Name', 'Step Name', 'Attempt At Step', 'Outcome', 'Last Help Level']\n",
    "\n",
    "def generate_samples(ml_columns):\n",
    "\n",
    "    df_filtered = df_cleaned[df_cleaned['Outcome'].isin(['CORRECT', 'INCORRECT'])][ml_columns]\n",
    "\n",
    "    ### I used the parameter replace=True to get the bootstrapping effect\n",
    "    ### https://en.wikipedia.org/wiki/Bootstrapping_(statistics)\n",
    "    df_ml = df_filtered.sample(n=N_SAMPLES, replace=True, ignore_index=True, random_state=SEED)\n",
    "    \n",
    "    return df_ml, df_filtered\n",
    "\n",
    "df_ml, df_filtered = generate_samples(ml_columns)"
   ]
  },
  {
   "cell_type": "code",
   "execution_count": 36,
   "id": "34382612-0766-4620-9c2a-bd519b7d8108",
   "metadata": {},
   "outputs": [
    {
     "data": {
      "text/plain": [
       "CORRECT      0.585941\n",
       "INCORRECT    0.414059\n",
       "Name: Outcome, dtype: float64"
      ]
     },
     "execution_count": 36,
     "metadata": {},
     "output_type": "execute_result"
    }
   ],
   "source": [
    "df_filtered['Outcome'].value_counts() / df_filtered.shape[0]"
   ]
  },
  {
   "cell_type": "code",
   "execution_count": 37,
   "id": "4d933c00-e07f-40ca-accb-5ae6a500cd43",
   "metadata": {},
   "outputs": [
    {
     "data": {
      "text/plain": [
       "CORRECT      0.5842\n",
       "INCORRECT    0.4158\n",
       "Name: Outcome, dtype: float64"
      ]
     },
     "execution_count": 37,
     "metadata": {},
     "output_type": "execute_result"
    }
   ],
   "source": [
    "df_ml['Outcome'].value_counts() / df_ml.shape[0]"
   ]
  },
  {
   "cell_type": "markdown",
   "id": "1ca3a8aa-dc3f-4546-95de-adb4e0c2a1f6",
   "metadata": {},
   "source": [
    "The dristribution of the outputs is similar between the sample and the original dataset."
   ]
  },
  {
   "cell_type": "markdown",
   "id": "9dc614e6-907c-4d13-8789-f909004b9803",
   "metadata": {},
   "source": [
    "### Managing NaN values"
   ]
  },
  {
   "cell_type": "markdown",
   "id": "d395e4df-2aa3-4d65-8ac6-0eaa390d82ce",
   "metadata": {},
   "source": [
    "As we can see below ther isn't any NaN values at the filtered dataframe created to generate the sample data, so we can conclude that each sample is going to have zero NaN values."
   ]
  },
  {
   "cell_type": "code",
   "execution_count": 38,
   "id": "5176cf46-7cee-4ef5-b917-e0103be8a196",
   "metadata": {},
   "outputs": [
    {
     "data": {
      "text/plain": [
       "0"
      ]
     },
     "execution_count": 38,
     "metadata": {},
     "output_type": "execute_result"
    }
   ],
   "source": [
    "df_filtered.isnull().sum().sum()"
   ]
  },
  {
   "cell_type": "markdown",
   "id": "20ec3ef1-b0e8-4454-a4c3-c0ec6253a492",
   "metadata": {},
   "source": [
    "### Creating dummy columns for the *Step Name* column"
   ]
  },
  {
   "cell_type": "markdown",
   "id": "12667b53-9212-45eb-9fd9-a88f9cd5cc77",
   "metadata": {},
   "source": [
    "We had to create new columns for the categorical values of the *Step Name* column to pass the data to the algorithms."
   ]
  },
  {
   "cell_type": "code",
   "execution_count": 39,
   "id": "c95e123a-3c83-47bc-9a05-033775c37adb",
   "metadata": {},
   "outputs": [],
   "source": [
    "def create_step_dummies(df):\n",
    "    df_ml = df.copy()\n",
    "\n",
    "    ### This step is to get smaller names for the generated columns\n",
    "    steps_names = df_ml['Step Name'].unique()\n",
    "\n",
    "    dummy_columns_names = []\n",
    "\n",
    "    for step_name in steps_names:\n",
    "        idx = step_name.index(':', 7)\n",
    "        dummy_columns_names.append(step_name[:idx])\n",
    "        \n",
    "    \n",
    "    step_dummies = pd.get_dummies(df_ml['Step Name'])\n",
    "    step_dummies.columns = dummy_columns_names\n",
    "    \n",
    "    \n",
    "    df_ml = pd.concat([df_ml, step_dummies], axis=1)\n",
    "    df_ml = df_ml.drop('Step Name', axis=1)\n",
    "    \n",
    "    return df_ml"
   ]
  },
  {
   "cell_type": "code",
   "execution_count": 40,
   "id": "d489a947-4535-437d-8320-9ba3ac27fd02",
   "metadata": {},
   "outputs": [],
   "source": [
    "df_ml = create_step_dummies(df_ml)"
   ]
  },
  {
   "cell_type": "code",
   "execution_count": 41,
   "id": "c7b78e4e-5580-4527-84c5-59bb66e0019a",
   "metadata": {},
   "outputs": [
    {
     "data": {
      "text/html": [
       "<div>\n",
       "<style scoped>\n",
       "    .dataframe tbody tr th:only-of-type {\n",
       "        vertical-align: middle;\n",
       "    }\n",
       "\n",
       "    .dataframe tbody tr th {\n",
       "        vertical-align: top;\n",
       "    }\n",
       "\n",
       "    .dataframe thead th {\n",
       "        text-align: right;\n",
       "    }\n",
       "</style>\n",
       "<table border=\"1\" class=\"dataframe\">\n",
       "  <thead>\n",
       "    <tr style=\"text-align: right;\">\n",
       "      <th></th>\n",
       "      <th>Problem Name</th>\n",
       "      <th>Attempt At Step</th>\n",
       "      <th>Outcome</th>\n",
       "      <th>Last Help Level</th>\n",
       "      <th>Step0:13666</th>\n",
       "      <th>Step1:9189</th>\n",
       "      <th>Step4:5718</th>\n",
       "      <th>Step2:512</th>\n",
       "      <th>Step0:1291</th>\n",
       "      <th>Step0:8337</th>\n",
       "      <th>...</th>\n",
       "      <th>Step0:14088</th>\n",
       "      <th>Step0:17703</th>\n",
       "      <th>Step0:8806</th>\n",
       "      <th>Step6:5575</th>\n",
       "      <th>Step3:20348</th>\n",
       "      <th>Step0:12892</th>\n",
       "      <th>Step3:7425</th>\n",
       "      <th>Step1:14929</th>\n",
       "      <th>Step3:22646</th>\n",
       "      <th>Step0:8192</th>\n",
       "    </tr>\n",
       "  </thead>\n",
       "  <tbody>\n",
       "    <tr>\n",
       "      <th>0</th>\n",
       "      <td>13666</td>\n",
       "      <td>5</td>\n",
       "      <td>CORRECT</td>\n",
       "      <td>4</td>\n",
       "      <td>0</td>\n",
       "      <td>0</td>\n",
       "      <td>0</td>\n",
       "      <td>0</td>\n",
       "      <td>0</td>\n",
       "      <td>0</td>\n",
       "      <td>...</td>\n",
       "      <td>0</td>\n",
       "      <td>0</td>\n",
       "      <td>0</td>\n",
       "      <td>0</td>\n",
       "      <td>0</td>\n",
       "      <td>0</td>\n",
       "      <td>0</td>\n",
       "      <td>0</td>\n",
       "      <td>0</td>\n",
       "      <td>0</td>\n",
       "    </tr>\n",
       "    <tr>\n",
       "      <th>1</th>\n",
       "      <td>5790</td>\n",
       "      <td>1</td>\n",
       "      <td>INCORRECT</td>\n",
       "      <td>0</td>\n",
       "      <td>0</td>\n",
       "      <td>0</td>\n",
       "      <td>0</td>\n",
       "      <td>0</td>\n",
       "      <td>0</td>\n",
       "      <td>0</td>\n",
       "      <td>...</td>\n",
       "      <td>0</td>\n",
       "      <td>0</td>\n",
       "      <td>0</td>\n",
       "      <td>0</td>\n",
       "      <td>0</td>\n",
       "      <td>0</td>\n",
       "      <td>0</td>\n",
       "      <td>0</td>\n",
       "      <td>0</td>\n",
       "      <td>0</td>\n",
       "    </tr>\n",
       "    <tr>\n",
       "      <th>2</th>\n",
       "      <td>106</td>\n",
       "      <td>2</td>\n",
       "      <td>INCORRECT</td>\n",
       "      <td>0</td>\n",
       "      <td>0</td>\n",
       "      <td>0</td>\n",
       "      <td>0</td>\n",
       "      <td>0</td>\n",
       "      <td>0</td>\n",
       "      <td>0</td>\n",
       "      <td>...</td>\n",
       "      <td>0</td>\n",
       "      <td>0</td>\n",
       "      <td>0</td>\n",
       "      <td>0</td>\n",
       "      <td>0</td>\n",
       "      <td>0</td>\n",
       "      <td>0</td>\n",
       "      <td>0</td>\n",
       "      <td>0</td>\n",
       "      <td>0</td>\n",
       "    </tr>\n",
       "    <tr>\n",
       "      <th>3</th>\n",
       "      <td>510</td>\n",
       "      <td>1</td>\n",
       "      <td>CORRECT</td>\n",
       "      <td>0</td>\n",
       "      <td>0</td>\n",
       "      <td>0</td>\n",
       "      <td>0</td>\n",
       "      <td>0</td>\n",
       "      <td>0</td>\n",
       "      <td>0</td>\n",
       "      <td>...</td>\n",
       "      <td>0</td>\n",
       "      <td>0</td>\n",
       "      <td>0</td>\n",
       "      <td>0</td>\n",
       "      <td>0</td>\n",
       "      <td>0</td>\n",
       "      <td>0</td>\n",
       "      <td>0</td>\n",
       "      <td>0</td>\n",
       "      <td>0</td>\n",
       "    </tr>\n",
       "    <tr>\n",
       "      <th>4</th>\n",
       "      <td>1291</td>\n",
       "      <td>1</td>\n",
       "      <td>INCORRECT</td>\n",
       "      <td>0</td>\n",
       "      <td>0</td>\n",
       "      <td>0</td>\n",
       "      <td>0</td>\n",
       "      <td>0</td>\n",
       "      <td>0</td>\n",
       "      <td>0</td>\n",
       "      <td>...</td>\n",
       "      <td>0</td>\n",
       "      <td>0</td>\n",
       "      <td>0</td>\n",
       "      <td>0</td>\n",
       "      <td>0</td>\n",
       "      <td>0</td>\n",
       "      <td>0</td>\n",
       "      <td>0</td>\n",
       "      <td>0</td>\n",
       "      <td>0</td>\n",
       "    </tr>\n",
       "  </tbody>\n",
       "</table>\n",
       "<p>5 rows × 2353 columns</p>\n",
       "</div>"
      ],
      "text/plain": [
       "   Problem Name  Attempt At Step    Outcome  Last Help Level  Step0:13666  \\\n",
       "0         13666                5    CORRECT                4            0   \n",
       "1          5790                1  INCORRECT                0            0   \n",
       "2           106                2  INCORRECT                0            0   \n",
       "3           510                1    CORRECT                0            0   \n",
       "4          1291                1  INCORRECT                0            0   \n",
       "\n",
       "   Step1:9189  Step4:5718  Step2:512  Step0:1291  Step0:8337  ...  \\\n",
       "0           0           0          0           0           0  ...   \n",
       "1           0           0          0           0           0  ...   \n",
       "2           0           0          0           0           0  ...   \n",
       "3           0           0          0           0           0  ...   \n",
       "4           0           0          0           0           0  ...   \n",
       "\n",
       "   Step0:14088  Step0:17703  Step0:8806  Step6:5575  Step3:20348  Step0:12892  \\\n",
       "0            0            0           0           0            0            0   \n",
       "1            0            0           0           0            0            0   \n",
       "2            0            0           0           0            0            0   \n",
       "3            0            0           0           0            0            0   \n",
       "4            0            0           0           0            0            0   \n",
       "\n",
       "   Step3:7425  Step1:14929  Step3:22646  Step0:8192  \n",
       "0           0            0            0           0  \n",
       "1           0            0            0           0  \n",
       "2           0            0            0           0  \n",
       "3           0            0            0           0  \n",
       "4           0            0            0           0  \n",
       "\n",
       "[5 rows x 2353 columns]"
      ]
     },
     "execution_count": 41,
     "metadata": {},
     "output_type": "execute_result"
    }
   ],
   "source": [
    "df_ml.head()"
   ]
  },
  {
   "cell_type": "markdown",
   "id": "34aa7e88-e17d-4c75-8371-d3c962a0c5ff",
   "metadata": {},
   "source": [
    "As you can see, now we have many more columns to input to the dataset."
   ]
  },
  {
   "cell_type": "markdown",
   "id": "a8d94b4a-98ac-4fc2-b07f-b9743613ba17",
   "metadata": {},
   "source": [
    "### Changing some data types"
   ]
  },
  {
   "cell_type": "markdown",
   "id": "e8861851-ae1f-4e81-9538-d363bf286b14",
   "metadata": {},
   "source": [
    "Some machine learning models don't work well while using some data types like Int64 (pandas integer), so we had to change these types so the data could be used more universally between all the models.\n",
    "\n",
    "We did too encoded the column output, replacing the string values to integers to be equally used by the models."
   ]
  },
  {
   "cell_type": "code",
   "execution_count": 42,
   "id": "d63f6e0d-5443-4abd-ba2e-caeea0fe6f72",
   "metadata": {},
   "outputs": [],
   "source": [
    "def replace_dtypes(df):\n",
    "    df_ml = df.copy()\n",
    "\n",
    "    df_ml['Last Help Level'] = df_ml['Last Help Level'].astype('int64')\n",
    "    df_ml['Attempt At Step'] = df_ml['Attempt At Step'].astype('int64')\n",
    "    \n",
    "    df_ml['Outcome'] = df_ml['Outcome'].replace({'CORRECT': 1, 'INCORRECT': 0})\n",
    "    \n",
    "    return df_ml"
   ]
  },
  {
   "cell_type": "code",
   "execution_count": 43,
   "id": "1f45361c-6031-4f5a-9811-2a95727ab310",
   "metadata": {},
   "outputs": [],
   "source": [
    "df_ml = replace_dtypes(df_ml)"
   ]
  },
  {
   "cell_type": "markdown",
   "id": "439093fb-a82b-4aa7-8c60-3184f82963d7",
   "metadata": {},
   "source": [
    "### Create train and test datasets"
   ]
  },
  {
   "cell_type": "markdown",
   "id": "6e573d24-4494-4716-845d-986b662a705c",
   "metadata": {},
   "source": [
    "Here we used the train_test_split function from the sklearn package to create the train and test datasets."
   ]
  },
  {
   "cell_type": "code",
   "execution_count": 44,
   "id": "ee53a59a-8448-4bc6-9711-f7e81bcced56",
   "metadata": {},
   "outputs": [],
   "source": [
    "def train_test_create(df_ml):\n",
    "    X = df_ml.drop('Outcome', axis=1)\n",
    "    y = df_ml['Outcome']\n",
    "    \n",
    "    X_train, X_test, y_train, y_test = train_test_split(X, y, test_size=0.25, random_state=SEED)\n",
    "    \n",
    "    return X_train, X_test, y_train, y_test"
   ]
  },
  {
   "cell_type": "code",
   "execution_count": 45,
   "id": "a394365f-a4b6-49b7-b3df-c9c92642f954",
   "metadata": {},
   "outputs": [],
   "source": [
    "X_train, X_test, y_train, y_test = train_test_create(df_ml)"
   ]
  },
  {
   "cell_type": "markdown",
   "id": "67db4911-1e90-4010-b807-a74fcfb9a0a2",
   "metadata": {},
   "source": [
    "## Creating the models"
   ]
  },
  {
   "cell_type": "code",
   "execution_count": 46,
   "id": "c6390b93-5ec4-4af3-ae96-2f0cf31a6522",
   "metadata": {},
   "outputs": [],
   "source": [
    "from sklearn.metrics import classification_report, ConfusionMatrixDisplay, roc_auc_score\n",
    "import numpy as np"
   ]
  },
  {
   "cell_type": "code",
   "execution_count": 47,
   "id": "d13283d9-5ed0-454f-abf9-834419e3dbb9",
   "metadata": {
    "tags": []
   },
   "outputs": [],
   "source": [
    "# Defining a dictionary to store the models' metrics\n",
    "model_metrics = dict()"
   ]
  },
  {
   "cell_type": "code",
   "execution_count": 48,
   "id": "8fdba7f1-ad5e-4105-83db-ab4bd61feb0c",
   "metadata": {},
   "outputs": [],
   "source": [
    "def get_metrics(y_test, y_pred, y_pred_prob):\n",
    "    \"\"\" Get important metrics based on the parameters values and put then\n",
    "    inside a python dictionary.\n",
    "    \n",
    "    The returned metrics are:\n",
    "        - accuracy;\n",
    "        - roc-auc;\n",
    "        - f1-score;\n",
    "    \n",
    "    Arguments:\n",
    "        - y_test (list): the list containing the true labels' values of the test dataset\n",
    "        - y_pred (list): the list containing the predicted labels' values of the test dataset\n",
    "        - y_pred_prob (list): the list containing the predicted labels' probabilities of the test dataset\n",
    "        \n",
    "    Returns:\n",
    "        - metrics (dict): a dictionary containing the name of the metrics and the respective values\n",
    "    \"\"\"\n",
    "    \n",
    "    metrics = dict()\n",
    "    \n",
    "    cr = classification_report(y_test, y_pred, output_dict=True)\n",
    "\n",
    "    metrics['accuracy'] = '{:.2f}%'.format(cr['accuracy'] * 100)\n",
    "    metrics['roc-auc'] = '{:.2f}%'.format(roc_auc_score(y_test, y_pred_prob[:, 1]) * 100)\n",
    "    metrics['f1-score'] = '{:.2f}%'.format(cr['macro avg']['f1-score'] * 100)\n",
    "    \n",
    "    return metrics"
   ]
  },
  {
   "cell_type": "code",
   "execution_count": 49,
   "id": "a66c2613-6f9b-4a13-b642-f23263b4207d",
   "metadata": {},
   "outputs": [],
   "source": [
    "### Based on https://towardsdatascience.com/simple-little-tables-with-matplotlib-9780ef5d0bc4\n",
    "def plot_table(data=model_metrics, title='Models Comparison'):\n",
    "    cell_text = []\n",
    "    col_labels = []\n",
    "    row_labels = []\n",
    "    \n",
    "    row_name_padding = ' '*20\n",
    "\n",
    "    # Fill the arrays for the table\n",
    "    for model_name in data.keys():\n",
    "        row_labels.append(row_name_padding + model_name + row_name_padding)\n",
    "\n",
    "        if len(col_labels) == 0:\n",
    "            for col_name in data[model_name].keys():\n",
    "                col_labels.append(col_name)\n",
    "\n",
    "        values = []\n",
    "        for value in data[model_name].values():\n",
    "            values.append(value)\n",
    "\n",
    "        cell_text.append(values)\n",
    "\n",
    "    # Setting some default colors\n",
    "    fig_background_color = 'skyblue'\n",
    "    fig_border = 'steelblue'\n",
    "\n",
    "    # Get some lists of color specs for row and column headers\n",
    "    rcolors = plt.cm.BuPu(np.full(len(row_labels), 0.1))\n",
    "    ccolors = plt.cm.BuPu(np.full(len(col_labels), 0.1))\n",
    "\n",
    "    # Create the figure. Setting a small pad on tight_layout\n",
    "    # seems to better regulate white space. Sometimes experimenting\n",
    "    # with an explicit figsize here can produce better outcome.\n",
    "    plt.figure(linewidth=2,\n",
    "               edgecolor=fig_border,\n",
    "               facecolor=fig_background_color,\n",
    "               tight_layout={'pad':1},\n",
    "               figsize=(16,3))\n",
    "\n",
    "    # Add a table at the bottom of the axes\n",
    "    tb = plt.table(cellText=cell_text,\n",
    "                   cellLoc='center',\n",
    "                   rowLabels=row_labels,\n",
    "                   rowColours=rcolors,\n",
    "                   rowLoc='center',\n",
    "                   colColours=ccolors,\n",
    "                   colLabels=col_labels,\n",
    "                   loc='center')\n",
    "\n",
    "\n",
    "    # Scaling is the only influence we have over top and bottom cell padding.\n",
    "    # Make the rows taller (i.e., make cell y scale larger).\n",
    "    tb.scale(1, 2.5)\n",
    "\n",
    "    # Hide axes\n",
    "    ax = plt.gca()\n",
    "    ax.get_xaxis().set_visible(False)\n",
    "    ax.get_yaxis().set_visible(False)\n",
    "\n",
    "    # Hide axes border\n",
    "    plt.box(on=None)\n",
    "\n",
    "    # Add title\n",
    "    plt.suptitle(title)\n",
    "\n",
    "    plt.show();"
   ]
  },
  {
   "cell_type": "code",
   "execution_count": 50,
   "id": "6bb8bc0f-7bfc-4b8d-9674-1a0fe53711f3",
   "metadata": {},
   "outputs": [],
   "source": [
    "def plot_model_performance(y_pred, model_name='', metrics={}, y_test=y_test):\n",
    "    print(model_name)\n",
    "    \n",
    "    labels = ['INCORRECT', 'CORRECT']\n",
    "    \n",
    "    ConfusionMatrixDisplay.from_predictions(y_test, y_pred, display_labels=labels, cmap='BuPu', colorbar=False)\n",
    "    plt.title('Confusion Matrix')\n",
    "    plt.show();\n",
    "    \n",
    "    print('Model metrics:')\n",
    "    print(metrics)"
   ]
  },
  {
   "cell_type": "code",
   "execution_count": 51,
   "id": "5fbd6337-38f8-4f6c-9ce2-19167424d7da",
   "metadata": {},
   "outputs": [],
   "source": [
    "def model_process(clf, model_name,  X_train=X_train, y_train=y_train, X_test=X_test, y_test=y_test, model_metrics=model_metrics, threshold=0.5):\n",
    "    start_time = time.time()\n",
    "\n",
    "    # TODO: had to do this because of the annoying warnings of the model\n",
    "    if model_name == 'KNN':\n",
    "        clf.fit(X_train.values, y_train)\n",
    "    else:\n",
    "        clf.fit(X_train, y_train)\n",
    "\n",
    "    fit_time = round(time.time() - start_time, 2)\n",
    "\n",
    "    # TODO: had to do this because of the annoying warnings of the model\n",
    "    if model_name == 'KNN':\n",
    "        y_pred = clf.predict(X_test.values)\n",
    "        y_pred_prob = clf.predict_proba(X_test.values)\n",
    "    else:\n",
    "        y_pred = clf.predict(X_test)\n",
    "        y_pred_prob = clf.predict_proba(X_test)\n",
    "        \n",
    "    if threshold != 0.5:\n",
    "        y_pred = (y_pred_prob[:, 1] >= threshold).astype('int')\n",
    "\n",
    "    metrics = get_metrics(y_test, y_pred, y_pred_prob)\n",
    "    metrics['fit_time'] = fit_time\n",
    "\n",
    "    model_metrics[model_name] = metrics\n",
    "\n",
    "    plot_model_performance(y_pred, model_name=model_name, metrics=metrics)\n",
    "    \n",
    "    return clf"
   ]
  },
  {
   "cell_type": "markdown",
   "id": "8a3e933f-7190-4777-b064-25807ee85da4",
   "metadata": {},
   "source": [
    "### The baseline model"
   ]
  },
  {
   "cell_type": "markdown",
   "id": "e654282f-51b2-457c-a211-11f014931514",
   "metadata": {},
   "source": [
    "At this part we started creating a baseline model to get some metrics to compare to other machine learning algorithms.\n",
    "\n",
    "The Multinomial Naive Bayes was selected to be the baseline model because it is fast and has few parameters to tune."
   ]
  },
  {
   "cell_type": "code",
   "execution_count": 52,
   "id": "f6a60304-5e9a-4d70-89c0-e649f1241e0d",
   "metadata": {},
   "outputs": [],
   "source": [
    "from sklearn.naive_bayes import MultinomialNB"
   ]
  },
  {
   "cell_type": "code",
   "execution_count": 53,
   "id": "df056349-b948-4ece-976a-ae6381a30140",
   "metadata": {},
   "outputs": [
    {
     "name": "stdout",
     "output_type": "stream",
     "text": [
      "Multinomial NB\n"
     ]
    },
    {
     "data": {
      "image/png": "[encoded data removed]",
      "text/plain": [
       "<Figure size 432x288 with 1 Axes>"
      ]
     },
     "metadata": {
      "needs_background": "light"
     },
     "output_type": "display_data"
    },
    {
     "name": "stdout",
     "output_type": "stream",
     "text": [
      "Model metrics:\n",
      "{'accuracy': '61.16%', 'roc-auc': '64.13%', 'f1-score': '59.35%', 'fit_time': 0.07}\n"
     ]
    }
   ],
   "source": [
    "model_process(MultinomialNB(), 'Multinomial NB');"
   ]
  },
  {
   "cell_type": "markdown",
   "id": "a545f07e-d878-430e-a757-e418a98a4aa3",
   "metadata": {},
   "source": [
    "### Other models"
   ]
  },
  {
   "cell_type": "code",
   "execution_count": 54,
   "id": "ae5bdaba-09db-42ff-bf34-5f8d4be7e39a",
   "metadata": {},
   "outputs": [],
   "source": [
    "from sklearn.neighbors import KNeighborsClassifier\n",
    "from sklearn.tree import DecisionTreeClassifier\n",
    "from sklearn.svm import SVC\n",
    "from sklearn.naive_bayes import GaussianNB"
   ]
  },
  {
   "cell_type": "code",
   "execution_count": 55,
   "id": "c5c8992f-4d8e-4a5f-a7c9-f4bf309ee475",
   "metadata": {},
   "outputs": [
    {
     "name": "stdout",
     "output_type": "stream",
     "text": [
      "KNN\n"
     ]
    },
    {
     "data": {
      "image/png": "[encoded data removed]",
      "text/plain": [
       "<Figure size 432x288 with 1 Axes>"
      ]
     },
     "metadata": {
      "needs_background": "light"
     },
     "output_type": "display_data"
    },
    {
     "name": "stdout",
     "output_type": "stream",
     "text": [
      "Model metrics:\n",
      "{'accuracy': '59.04%', 'roc-auc': '59.99%', 'f1-score': '57.28%', 'fit_time': 0.02}\n"
     ]
    }
   ],
   "source": [
    "model_process(KNeighborsClassifier(), 'KNN');"
   ]
  },
  {
   "cell_type": "code",
   "execution_count": 56,
   "id": "23fb7fab-109d-48f9-aca3-eca38655d004",
   "metadata": {},
   "outputs": [
    {
     "name": "stdout",
     "output_type": "stream",
     "text": [
      "Decision Tree\n"
     ]
    },
    {
     "data": {
      "image/png": "[encoded data removed]",
      "text/plain": [
       "<Figure size 432x288 with 1 Axes>"
      ]
     },
     "metadata": {
      "needs_background": "light"
     },
     "output_type": "display_data"
    },
    {
     "name": "stdout",
     "output_type": "stream",
     "text": [
      "Model metrics:\n",
      "{'accuracy': '62.00%', 'roc-auc': '62.00%', 'f1-score': '60.70%', 'fit_time': 1.86}\n"
     ]
    }
   ],
   "source": [
    "model_process(DecisionTreeClassifier(), 'Decision Tree');"
   ]
  },
  {
   "cell_type": "code",
   "execution_count": 57,
   "id": "9373ec58-7a55-4f8e-8286-0e530a96a662",
   "metadata": {},
   "outputs": [],
   "source": [
    "# This takes a lot of time to execute ;(\n",
    "# With the sample size of 10 thousand values it took more than 6 minutes to train\n",
    "# Because of this we didn't continue using it\n",
    "# model_process(SVC(probability=True), 'SVC');"
   ]
  },
  {
   "cell_type": "code",
   "execution_count": 58,
   "id": "cbe3ffb5-4a29-4499-a63e-9f6345cd28fa",
   "metadata": {},
   "outputs": [
    {
     "name": "stdout",
     "output_type": "stream",
     "text": [
      "Gaussian NB\n"
     ]
    },
    {
     "data": {
      "image/png": "[encoded data removed]",
      "text/plain": [
       "<Figure size 432x288 with 1 Axes>"
      ]
     },
     "metadata": {
      "needs_background": "light"
     },
     "output_type": "display_data"
    },
    {
     "name": "stdout",
     "output_type": "stream",
     "text": [
      "Model metrics:\n",
      "{'accuracy': '60.24%', 'roc-auc': '64.89%', 'f1-score': '59.93%', 'fit_time': 0.21}\n"
     ]
    }
   ],
   "source": [
    "model_process(GaussianNB(), 'Gaussian NB');"
   ]
  },
  {
   "cell_type": "code",
   "execution_count": 59,
   "id": "ea6d8815-75b2-486e-81b1-51d2c6cc2533",
   "metadata": {},
   "outputs": [],
   "source": [
    "# https://towardsdatascience.com/https-medium-com-vishalmorde-xgboost-algorithm-long-she-may-rein-edd9f99be63d\n",
    "# https://www.kaggle.com/dansbecker/xgboost\n",
    "from xgboost import XGBClassifier"
   ]
  },
  {
   "cell_type": "code",
   "execution_count": 60,
   "id": "08de87df-fd8e-4ea2-92ee-25770f59edb9",
   "metadata": {},
   "outputs": [
    {
     "name": "stdout",
     "output_type": "stream",
     "text": [
      "[18:38:44] WARNING: ../src/learner.cc:1095: Starting in XGBoost 1.3.0, the default evaluation metric used with the objective 'binary:logistic' was changed from 'error' to 'logloss'. Explicitly set eval_metric if you'd like to restore the old behavior.\n",
      "XGBoost\n"
     ]
    },
    {
     "data": {
      "image/png": "[encoded data removed]",
      "text/plain": [
       "<Figure size 432x288 with 1 Axes>"
      ]
     },
     "metadata": {
      "needs_background": "light"
     },
     "output_type": "display_data"
    },
    {
     "name": "stdout",
     "output_type": "stream",
     "text": [
      "Model metrics:\n",
      "{'accuracy': '60.92%', 'roc-auc': '62.98%', 'f1-score': '51.85%', 'fit_time': 6.38}\n"
     ]
    }
   ],
   "source": [
    "model_process(XGBClassifier(use_label_encoder=False), 'XGBoost');"
   ]
  },
  {
   "cell_type": "code",
   "execution_count": 61,
   "id": "ad5c163f-22ee-4415-b8d0-df6677b197ff",
   "metadata": {},
   "outputs": [
    {
     "data": {
      "image/png": "[encoded data removed]",
      "text/plain": [
       "<Figure size 1152x216 with 1 Axes>"
      ]
     },
     "metadata": {},
     "output_type": "display_data"
    }
   ],
   "source": [
    "plot_table()"
   ]
  },
  {
   "cell_type": "markdown",
   "id": "3352f85f-0bd9-42fe-b1d7-641f4083bb9d",
   "metadata": {},
   "source": [
    "## Optimizing some hyperparameters"
   ]
  },
  {
   "cell_type": "code",
   "execution_count": 62,
   "id": "9173af75-89c1-4cdd-ab44-e76e35279478",
   "metadata": {},
   "outputs": [],
   "source": [
    "# https://aiinpractice.com/xgboost-hyperparameter-tuning-with-bayesian-optimization/\n",
    "# https://github.com/fmfn/BayesianOptimization"
   ]
  },
  {
   "cell_type": "code",
   "execution_count": 63,
   "id": "04ddc71f-2c73-4cc4-b3c4-8723bc4bae65",
   "metadata": {},
   "outputs": [],
   "source": [
    "from bayes_opt import BayesianOptimization\n",
    "from sklearn.model_selection import cross_val_score, GridSearchCV"
   ]
  },
  {
   "cell_type": "code",
   "execution_count": 64,
   "id": "66340adc-8e14-47cd-8c11-fd63eec5b1c0",
   "metadata": {},
   "outputs": [],
   "source": [
    "def get_knn_defaults(param_grid={}):\n",
    "    if param_grid == {}:\n",
    "        param_grid = {\n",
    "            'n_neighbors': list(range(1, 11)),\n",
    "            'weights': ['uniform', 'distance']\n",
    "        }\n",
    "        \n",
    "    return KNeighborsClassifier(), param_grid"
   ]
  },
  {
   "cell_type": "code",
   "execution_count": 65,
   "id": "3494c0d7-e240-4f0c-a12e-5a4b48b27cc4",
   "metadata": {},
   "outputs": [],
   "source": [
    "def get_decision_tree_defaults(param_grid={}):\n",
    "    if param_grid == {}:\n",
    "        param_grid = {\n",
    "            'criterion': ['gini', 'entropy'],\n",
    "            'max_depth': [1, 10, 25, 50, 100, None],\n",
    "            'min_samples_split': [2, 3, 5, 7, 10],\n",
    "            'max_features': [None, 'sqrt', 'log2']\n",
    "        }\n",
    "        \n",
    "    return DecisionTreeClassifier(), param_grid"
   ]
  },
  {
   "cell_type": "code",
   "execution_count": 66,
   "id": "e8d056dc-2cc9-4c82-ac88-cc9484633d96",
   "metadata": {},
   "outputs": [],
   "source": [
    "def get_gaussian_nb_defaults(param_grid={}):\n",
    "    if param_grid == {}:\n",
    "        param_grid = {\n",
    "            'var_smoothing': np.logspace(0,-9, num=50)\n",
    "        }\n",
    "        \n",
    "    return GaussianNB(), param_grid"
   ]
  },
  {
   "cell_type": "code",
   "execution_count": 67,
   "id": "0a3d1ec7-b0b2-4227-b4b5-3ee394c07b19",
   "metadata": {},
   "outputs": [],
   "source": [
    "def optimize_with_grid_search(model_name, param_grid={}, scoring='roc_auc', cv=2, n_jobs=8,\n",
    "                             X_train=X_train, y_train=y_train, X_test=X_test, y_test=y_test):\n",
    "    if model_name == 'KNN':\n",
    "        model, param_grid = get_knn_defaults(param_grid)\n",
    "    elif model_name == 'Decision Tree':\n",
    "        model, param_grid = get_decision_tree_defaults(param_grid)\n",
    "    elif model_name == 'Gaussian NB':\n",
    "        model, param_grid = get_gaussian_nb_defaults(param_grid)\n",
    "\n",
    "    clf = GridSearchCV(model, param_grid, scoring=scoring, cv=cv, n_jobs=n_jobs)\n",
    "    \n",
    "    # TODO: had to do this because of the annoying warnings of the model\n",
    "    if model_name == 'KNN':\n",
    "        clf.fit(X_train.values, y_train)\n",
    "    else:\n",
    "        clf.fit(X_train, y_train)\n",
    "    \n",
    "    print('Best model:')\n",
    "    print(clf.best_estimator_)\n",
    "    print()\n",
    "    \n",
    "    model_process(clf.best_estimator_, model_name, X_train=X_train, y_train=y_train, X_test=X_test, y_test=y_test)\n",
    "    \n",
    "    return clf.best_estimator_"
   ]
  },
  {
   "cell_type": "code",
   "execution_count": 68,
   "id": "a6d2b4bb-77bb-472a-9206-cc43ff203628",
   "metadata": {},
   "outputs": [],
   "source": [
    "### TODO: search a way to pass these parameters\n",
    "xgb_cv = 2\n",
    "xgb_scoring = 'roc_auc'"
   ]
  },
  {
   "cell_type": "code",
   "execution_count": 69,
   "id": "f692d7c7-d227-43b1-bda2-982e31110f81",
   "metadata": {},
   "outputs": [],
   "source": [
    "def xgb_param_optimize(**kwargs):\n",
    "    if kwargs.get('max_depth'):\n",
    "        kwargs['max_depth'] = int(kwargs.get('max_depth'))\n",
    "    if kwargs.get('n_estimators'):\n",
    "        kwargs['n_estimators'] = int(kwargs.get('n_estimators'))\n",
    "\n",
    "    clf = XGBClassifier(use_label_encoder=False, seed=SEED, **kwargs)\n",
    "    \n",
    "    return np.mean(cross_val_score(clf, X_train, y_train, cv=xgb_cv, fit_params={'eval_metric': 'logloss'}, scoring=xgb_scoring))"
   ]
  },
  {
   "cell_type": "code",
   "execution_count": 70,
   "id": "5056c3db-d316-4be8-bacb-417f126b1cc4",
   "metadata": {},
   "outputs": [],
   "source": [
    "def xgb_clf_optimize(pbounds, init_points=0, n_iter=1, X_train_local=X_train, y_train_local=y_train):\n",
    "    global X_train\n",
    "    global y_train\n",
    "    \n",
    "    bkp_X_train = X_train.copy()\n",
    "    bkp_y_train = y_train.copy()\n",
    "    \n",
    "    X_train = X_train_local\n",
    "    y_train = y_train_local\n",
    "    \n",
    "    optimizer = BayesianOptimization(\n",
    "        f=xgb_param_optimize,\n",
    "        pbounds=pbounds,\n",
    "        random_state=SEED,\n",
    "    )\n",
    "    \n",
    "    optimizer.maximize(\n",
    "        init_points=init_points,\n",
    "        n_iter=n_iter,\n",
    "    )\n",
    "    \n",
    "    X_train = bkp_X_train\n",
    "    y_train = y_train\n",
    "    \n",
    "    return optimizer.max"
   ]
  },
  {
   "cell_type": "code",
   "execution_count": 71,
   "id": "3750ff3c-056d-4285-9813-22c2256bed15",
   "metadata": {},
   "outputs": [],
   "source": [
    "def optimize_with_bayesian(model_name, pbounds={}, scoring='roc_auc', cv=2, init_points=0, n_iter=1,\n",
    "                          X_train=X_train, y_train=y_train, X_test=X_test, y_test=y_test):\n",
    "    if pbounds == {}:\n",
    "        pbounds = {\n",
    "            'learning_rate': (0.01, 1.0),\n",
    "        #     'n_estimators': (100, 1000),\n",
    "        #     'max_depth': (3,10),\n",
    "        #     'gamma': (0, 5),\n",
    "        #     'min_child_weight': (1, 10),\n",
    "        #     'colsample_bytree': (0.5, 1),\n",
    "        #     'reg_alpha': (0, 10),\n",
    "        #     'reg_lambda': (0, 10)\n",
    "        }\n",
    "    \n",
    "    global xgb_cv\n",
    "    global xgb_scoring\n",
    "    xgb_cv = cv\n",
    "    xgb_scoring = scoring\n",
    "        \n",
    "    best_params = xgb_clf_optimize(pbounds, init_points, n_iter, X_train_local=X_train, y_train_local=y_train)\n",
    "    params = best_params['params']\n",
    "    \n",
    "    clf = XGBClassifier(use_label_encoder=False, seed=SEED, **params)\n",
    "    \n",
    "    print('Best model:')\n",
    "    print(clf)\n",
    "    print()\n",
    "    \n",
    "    model_process(clf, model_name, X_train=X_train, y_train=y_train, X_test=X_test, y_test=y_test)\n",
    "    \n",
    "    return clf"
   ]
  },
  {
   "cell_type": "code",
   "execution_count": 72,
   "id": "4e899f59-f93b-4f21-b166-f9ec4b70a456",
   "metadata": {},
   "outputs": [],
   "source": [
    "def get_best_model(model_name, params={}, scoring='roc_auc', cv=2, init_points=0, n_iter=1, n_jobs=8,\n",
    "                  X_train=X_train, y_train=y_train, X_test=X_test, y_test=y_test):\n",
    "    GRID_SEARCH_MODELS = {'KNN', 'Decision Tree', 'Gaussian NB'}\n",
    "    AVAILABLE_MODELS = GRID_SEARCH_MODELS | {'XGBoost'}\n",
    "    \n",
    "    if model_name not in AVAILABLE_MODELS:\n",
    "        raise ValueError(\"model_name: Must be one of the following values %r.\" % AVAILABLE_MODELS)\n",
    "        \n",
    "    if model_name in GRID_SEARCH_MODELS:\n",
    "        return optimize_with_grid_search(model_name, params, scoring=scoring, cv=cv, n_jobs=n_jobs,\n",
    "                                        X_train=X_train, y_train=y_train, X_test=X_test, y_test=y_test)\n",
    "    else:\n",
    "        return optimize_with_bayesian(model_name, params, scoring=scoring, cv=cv, init_points=init_points, n_iter=n_iter,\n",
    "                              X_train=X_train, y_train=y_train, X_test=X_test, y_test=y_test)"
   ]
  },
  {
   "cell_type": "markdown",
   "id": "195c8183-eb9a-4be9-813b-86d6ec8794ad",
   "metadata": {},
   "source": [
    "**KNN**"
   ]
  },
  {
   "cell_type": "code",
   "execution_count": 73,
   "id": "30e88fe6-fcac-49c1-bfee-b25f8b856ca8",
   "metadata": {},
   "outputs": [],
   "source": [
    "# knn_best = get_best_model('KNN')"
   ]
  },
  {
   "cell_type": "markdown",
   "id": "66171130-00f1-4b66-9a91-f1339cc34db9",
   "metadata": {},
   "source": [
    "**Decision Tree**"
   ]
  },
  {
   "cell_type": "code",
   "execution_count": 74,
   "id": "0f3b44fc-13fd-47a8-ac88-9c8fbd97be8e",
   "metadata": {},
   "outputs": [],
   "source": [
    "# dtc_best = get_best_model('Decision Tree')"
   ]
  },
  {
   "cell_type": "markdown",
   "id": "afa40a4a-f034-4069-8fca-60b99c07f999",
   "metadata": {},
   "source": [
    "**Gaussian NB**"
   ]
  },
  {
   "cell_type": "code",
   "execution_count": 75,
   "id": "76fa045e-be8a-4981-8a11-0031e0077abf",
   "metadata": {},
   "outputs": [],
   "source": [
    "# gaussian_nb_best = get_best_model('Gaussian NB')"
   ]
  },
  {
   "cell_type": "markdown",
   "id": "a9d91415-38e4-4aec-8a29-81071cb5665f",
   "metadata": {},
   "source": [
    "**XGBoost**"
   ]
  },
  {
   "cell_type": "code",
   "execution_count": 76,
   "id": "6685a528-ca31-4d11-86a8-7580af168c96",
   "metadata": {},
   "outputs": [],
   "source": [
    "# xgb_best = get_best_model('XGBoost')"
   ]
  },
  {
   "cell_type": "code",
   "execution_count": 77,
   "id": "27690bbd-5fb3-43a0-a624-698f39903cd5",
   "metadata": {},
   "outputs": [
    {
     "data": {
      "image/png": "[encoded data removed]",
      "text/plain": [
       "<Figure size 1152x216 with 1 Axes>"
      ]
     },
     "metadata": {},
     "output_type": "display_data"
    }
   ],
   "source": [
    "plot_table(title='Models Comparison (Optimized)')"
   ]
  },
  {
   "cell_type": "markdown",
   "id": "0fdd0a48-d906-4e9c-b05b-e94e9195375d",
   "metadata": {},
   "source": [
    "# Enhancing the dataset with new ideas"
   ]
  },
  {
   "cell_type": "markdown",
   "id": "f1334ba6-1dcc-422c-a061-0c8eabd69b2d",
   "metadata": {},
   "source": [
    "The dataset has some few columns that could be used directly to our analysis, so at this part we tried to generate new data to be used by the machine learning algorithms.\n",
    "\n",
    "We tried to create data to specify the difficulty level of each problem/step values. We also created some metric to determine what's the proficiency of the students with math exercises.\n",
    "\n",
    "The defined metrics were very simple, only using the differences betwenn correct and incorrect answers."
   ]
  },
  {
   "cell_type": "markdown",
   "id": "dfc458cb-d632-44ac-b28f-7d119c6907b9",
   "metadata": {},
   "source": [
    "**Difficulty Level**"
   ]
  },
  {
   "cell_type": "code",
   "execution_count": 78,
   "id": "640387d7-2b9d-4330-b96a-4d698876df9a",
   "metadata": {},
   "outputs": [],
   "source": [
    "df_difficulty = df_cleaned[df_cleaned['Outcome'].isin(['CORRECT', 'INCORRECT'])]"
   ]
  },
  {
   "cell_type": "code",
   "execution_count": 79,
   "id": "a0d58b04-eaaf-497b-b1eb-f491475639ee",
   "metadata": {},
   "outputs": [],
   "source": [
    "df_difficulty = df_difficulty.groupby(['Problem Name', 'Step Name', 'Outcome']).count()\n",
    "df_difficulty = df_difficulty.iloc[:, 0].unstack().fillna(0)\n",
    "df_difficulty['Difficulty Calc'] = (df_difficulty['CORRECT'] - df_difficulty['INCORRECT'])/ (df_difficulty['CORRECT'] + df_difficulty['INCORRECT'])"
   ]
  },
  {
   "cell_type": "code",
   "execution_count": 80,
   "id": "25169781-1291-4e48-b68b-0c5e20b45bb0",
   "metadata": {},
   "outputs": [
    {
     "data": {
      "text/plain": [
       "count    3669.000000\n",
       "mean        0.275100\n",
       "std         0.534535\n",
       "min        -1.000000\n",
       "25%        -0.061224\n",
       "50%         0.247706\n",
       "75%         0.739130\n",
       "max         1.000000\n",
       "Name: Difficulty Calc, dtype: float64"
      ]
     },
     "execution_count": 80,
     "metadata": {},
     "output_type": "execute_result"
    }
   ],
   "source": [
    "df_difficulty['Difficulty Calc'].describe()"
   ]
  },
  {
   "cell_type": "code",
   "execution_count": 81,
   "id": "7df5034a-f8a3-4531-afd1-f40bd3f009ff",
   "metadata": {},
   "outputs": [],
   "source": [
    "def calculate_difficulty(x):\n",
    "    if x <= df_difficulty['Difficulty Calc'].quantile(.25):\n",
    "        return 'Hard'\n",
    "    elif x <= df_difficulty['Difficulty Calc'].quantile(.75):\n",
    "        return 'Normal'\n",
    "    else:\n",
    "        return 'Easy'"
   ]
  },
  {
   "cell_type": "code",
   "execution_count": 82,
   "id": "e612bfd5-7280-4dda-8f9a-494b12784e05",
   "metadata": {},
   "outputs": [],
   "source": [
    "df_difficulty['Difficulty Level'] = df_difficulty['Difficulty Calc'].apply(calculate_difficulty)"
   ]
  },
  {
   "cell_type": "code",
   "execution_count": 83,
   "id": "37c99e9b-e31a-436c-b8ea-6e76b39bd819",
   "metadata": {},
   "outputs": [
    {
     "data": {
      "text/html": [
       "<div>\n",
       "<style scoped>\n",
       "    .dataframe tbody tr th:only-of-type {\n",
       "        vertical-align: middle;\n",
       "    }\n",
       "\n",
       "    .dataframe tbody tr th {\n",
       "        vertical-align: top;\n",
       "    }\n",
       "\n",
       "    .dataframe thead th {\n",
       "        text-align: right;\n",
       "    }\n",
       "</style>\n",
       "<table border=\"1\" class=\"dataframe\">\n",
       "  <thead>\n",
       "    <tr style=\"text-align: right;\">\n",
       "      <th></th>\n",
       "      <th>Outcome</th>\n",
       "      <th>CORRECT</th>\n",
       "      <th>INCORRECT</th>\n",
       "      <th>Difficulty Calc</th>\n",
       "      <th>Difficulty Level</th>\n",
       "    </tr>\n",
       "    <tr>\n",
       "      <th>Problem Name</th>\n",
       "      <th>Step Name</th>\n",
       "      <th></th>\n",
       "      <th></th>\n",
       "      <th></th>\n",
       "      <th></th>\n",
       "    </tr>\n",
       "  </thead>\n",
       "  <tbody>\n",
       "    <tr>\n",
       "      <th rowspan=\"5\" valign=\"top\">7</th>\n",
       "      <th>Step0:7:Figure ABCD is translated so that the image of A is A' at (-3,2). What's the x-coordinate and y-coordinate of the image of B? RadioQuestion</th>\n",
       "      <td>23.0</td>\n",
       "      <td>26.0</td>\n",
       "      <td>-0.061224</td>\n",
       "      <td>Hard</td>\n",
       "    </tr>\n",
       "    <tr>\n",
       "      <th>Step1:5678:First let's find how point A is related to point A' . How far to the left is A' from A ? TextFieldQuestion</th>\n",
       "      <td>25.0</td>\n",
       "      <td>26.0</td>\n",
       "      <td>-0.019608</td>\n",
       "      <td>Normal</td>\n",
       "    </tr>\n",
       "    <tr>\n",
       "      <th>Step2:5681:How far up is A' from A? TextFieldQuestion</th>\n",
       "      <td>25.0</td>\n",
       "      <td>7.0</td>\n",
       "      <td>0.562500</td>\n",
       "      <td>Normal</td>\n",
       "    </tr>\n",
       "    <tr>\n",
       "      <th>Step3:5680:Point B is related to the image of point B the same way that point A is related to A' . What is the x-coordinate of the image of B? TextFieldQuestion</th>\n",
       "      <td>23.0</td>\n",
       "      <td>44.0</td>\n",
       "      <td>-0.313433</td>\n",
       "      <td>Hard</td>\n",
       "    </tr>\n",
       "    <tr>\n",
       "      <th>Step4:5679:What is the y-coordinate of the image of B? TextFieldQuestion</th>\n",
       "      <td>22.0</td>\n",
       "      <td>12.0</td>\n",
       "      <td>0.294118</td>\n",
       "      <td>Normal</td>\n",
       "    </tr>\n",
       "  </tbody>\n",
       "</table>\n",
       "</div>"
      ],
      "text/plain": [
       "Outcome                                                          CORRECT  \\\n",
       "Problem Name Step Name                                                     \n",
       "7            Step0:7:Figure ABCD is translated so that the i...     23.0   \n",
       "             Step1:5678:First let's find how point A is rela...     25.0   \n",
       "             Step2:5681:How far up is A' from A? TextFieldQu...     25.0   \n",
       "             Step3:5680:Point B is related to the image of p...     23.0   \n",
       "             Step4:5679:What is the y-coordinate of the imag...     22.0   \n",
       "\n",
       "Outcome                                                          INCORRECT  \\\n",
       "Problem Name Step Name                                                       \n",
       "7            Step0:7:Figure ABCD is translated so that the i...       26.0   \n",
       "             Step1:5678:First let's find how point A is rela...       26.0   \n",
       "             Step2:5681:How far up is A' from A? TextFieldQu...        7.0   \n",
       "             Step3:5680:Point B is related to the image of p...       44.0   \n",
       "             Step4:5679:What is the y-coordinate of the imag...       12.0   \n",
       "\n",
       "Outcome                                                          Difficulty Calc  \\\n",
       "Problem Name Step Name                                                             \n",
       "7            Step0:7:Figure ABCD is translated so that the i...        -0.061224   \n",
       "             Step1:5678:First let's find how point A is rela...        -0.019608   \n",
       "             Step2:5681:How far up is A' from A? TextFieldQu...         0.562500   \n",
       "             Step3:5680:Point B is related to the image of p...        -0.313433   \n",
       "             Step4:5679:What is the y-coordinate of the imag...         0.294118   \n",
       "\n",
       "Outcome                                                         Difficulty Level  \n",
       "Problem Name Step Name                                                            \n",
       "7            Step0:7:Figure ABCD is translated so that the i...             Hard  \n",
       "             Step1:5678:First let's find how point A is rela...           Normal  \n",
       "             Step2:5681:How far up is A' from A? TextFieldQu...           Normal  \n",
       "             Step3:5680:Point B is related to the image of p...             Hard  \n",
       "             Step4:5679:What is the y-coordinate of the imag...           Normal  "
      ]
     },
     "execution_count": 83,
     "metadata": {},
     "output_type": "execute_result"
    }
   ],
   "source": [
    "df_difficulty.head()"
   ]
  },
  {
   "cell_type": "code",
   "execution_count": 84,
   "id": "42d18ccc-fa09-44ff-8fc6-75e358db06f9",
   "metadata": {},
   "outputs": [],
   "source": [
    "# Only for tests\n",
    "# df_cleaned = df_cleaned.drop(columns='Difficulty Level')"
   ]
  },
  {
   "cell_type": "code",
   "execution_count": 85,
   "id": "e2c4b9cd-ac01-434c-be87-a33c7c4ee95c",
   "metadata": {},
   "outputs": [],
   "source": [
    "df_cleaned = df_cleaned.join(df_difficulty['Difficulty Level'], on=['Problem Name', 'Step Name'])"
   ]
  },
  {
   "cell_type": "code",
   "execution_count": 86,
   "id": "9d0bbac3-c02d-42b8-986a-d848c5f8e7ce",
   "metadata": {},
   "outputs": [],
   "source": [
    "# Determining the Normal difficulty level where we didn't have data to determine\n",
    "# This is probably because there is no data with the response Outcomes or some missing data in the grouping columns\n",
    "df_cleaned['Difficulty Level'] = df_cleaned['Difficulty Level'].fillna('Normal')"
   ]
  },
  {
   "cell_type": "markdown",
   "id": "1ba03da6-9124-409f-bae6-30d3adfbed30",
   "metadata": {},
   "source": [
    "**Math Proficiency**"
   ]
  },
  {
   "cell_type": "code",
   "execution_count": 87,
   "id": "aa30fd02-3174-4639-afd5-26da743dee80",
   "metadata": {},
   "outputs": [],
   "source": [
    "df_proficiency = df_cleaned[df_cleaned['Outcome'].isin(['CORRECT', 'INCORRECT'])]"
   ]
  },
  {
   "cell_type": "code",
   "execution_count": 88,
   "id": "4bbeafb3-b737-41f5-a09e-66e33e72487c",
   "metadata": {},
   "outputs": [],
   "source": [
    "df_proficiency = df_proficiency.groupby(['Anon Student Id', 'Outcome']).count()\n",
    "df_proficiency = df_proficiency.iloc[:, 0].unstack().fillna(0)\n",
    "df_proficiency['Proficiency Calc'] = (df_proficiency['CORRECT'] - df_proficiency['INCORRECT'])/ (df_proficiency['CORRECT'] + df_proficiency['INCORRECT'])"
   ]
  },
  {
   "cell_type": "code",
   "execution_count": 89,
   "id": "f73201f6-1f2f-4969-976c-a86b1ed9e85c",
   "metadata": {},
   "outputs": [
    {
     "data": {
      "text/plain": [
       "count    327.000000\n",
       "mean       0.180068\n",
       "std        0.278712\n",
       "min       -0.698113\n",
       "25%        0.000000\n",
       "50%        0.156250\n",
       "75%        0.368629\n",
       "max        1.000000\n",
       "Name: Proficiency Calc, dtype: float64"
      ]
     },
     "execution_count": 89,
     "metadata": {},
     "output_type": "execute_result"
    }
   ],
   "source": [
    "df_proficiency['Proficiency Calc'].describe()"
   ]
  },
  {
   "cell_type": "code",
   "execution_count": 90,
   "id": "5b49e020-d609-49e1-8456-69391d64de52",
   "metadata": {},
   "outputs": [],
   "source": [
    "def calculate_proficiency(x):\n",
    "    if x <= df_proficiency['Proficiency Calc'].quantile(.25):\n",
    "        return 'Low'\n",
    "    elif x <= df_proficiency['Proficiency Calc'].quantile(.75):\n",
    "        return 'Normal'\n",
    "    else:\n",
    "        return 'High'"
   ]
  },
  {
   "cell_type": "code",
   "execution_count": 91,
   "id": "675130ca-2a3a-48e4-97dd-db1a03bb1c18",
   "metadata": {},
   "outputs": [],
   "source": [
    "df_proficiency['Proficiency Level'] = df_proficiency['Proficiency Calc'].apply(calculate_proficiency)"
   ]
  },
  {
   "cell_type": "code",
   "execution_count": 92,
   "id": "65b0cfb5-4fd6-44c4-a345-e1c92600622d",
   "metadata": {},
   "outputs": [
    {
     "data": {
      "text/html": [
       "<div>\n",
       "<style scoped>\n",
       "    .dataframe tbody tr th:only-of-type {\n",
       "        vertical-align: middle;\n",
       "    }\n",
       "\n",
       "    .dataframe tbody tr th {\n",
       "        vertical-align: top;\n",
       "    }\n",
       "\n",
       "    .dataframe thead th {\n",
       "        text-align: right;\n",
       "    }\n",
       "</style>\n",
       "<table border=\"1\" class=\"dataframe\">\n",
       "  <thead>\n",
       "    <tr style=\"text-align: right;\">\n",
       "      <th>Outcome</th>\n",
       "      <th>CORRECT</th>\n",
       "      <th>INCORRECT</th>\n",
       "      <th>Proficiency Calc</th>\n",
       "      <th>Proficiency Level</th>\n",
       "    </tr>\n",
       "    <tr>\n",
       "      <th>Anon Student Id</th>\n",
       "      <th></th>\n",
       "      <th></th>\n",
       "      <th></th>\n",
       "      <th></th>\n",
       "    </tr>\n",
       "  </thead>\n",
       "  <tbody>\n",
       "    <tr>\n",
       "      <th>Stu_000271be877ea1e7bf4f038c96cee5f9</th>\n",
       "      <td>44.0</td>\n",
       "      <td>9.0</td>\n",
       "      <td>0.660377</td>\n",
       "      <td>High</td>\n",
       "    </tr>\n",
       "    <tr>\n",
       "      <th>Stu_000327eb014359d69e940f15aef1b53d</th>\n",
       "      <td>221.0</td>\n",
       "      <td>89.0</td>\n",
       "      <td>0.425806</td>\n",
       "      <td>High</td>\n",
       "    </tr>\n",
       "    <tr>\n",
       "      <th>Stu_000da9f6798e6b7c5a1b01b5fcda8b78</th>\n",
       "      <td>325.0</td>\n",
       "      <td>256.0</td>\n",
       "      <td>0.118761</td>\n",
       "      <td>Normal</td>\n",
       "    </tr>\n",
       "    <tr>\n",
       "      <th>Stu_000faad08edf838f1e1fa87bf2aa4fed</th>\n",
       "      <td>347.0</td>\n",
       "      <td>160.0</td>\n",
       "      <td>0.368836</td>\n",
       "      <td>High</td>\n",
       "    </tr>\n",
       "    <tr>\n",
       "      <th>Stu_0010dcb33a30eaac9a317199930b40f1</th>\n",
       "      <td>38.0</td>\n",
       "      <td>11.0</td>\n",
       "      <td>0.551020</td>\n",
       "      <td>High</td>\n",
       "    </tr>\n",
       "  </tbody>\n",
       "</table>\n",
       "</div>"
      ],
      "text/plain": [
       "Outcome                               CORRECT  INCORRECT  Proficiency Calc  \\\n",
       "Anon Student Id                                                              \n",
       "Stu_000271be877ea1e7bf4f038c96cee5f9     44.0        9.0          0.660377   \n",
       "Stu_000327eb014359d69e940f15aef1b53d    221.0       89.0          0.425806   \n",
       "Stu_000da9f6798e6b7c5a1b01b5fcda8b78    325.0      256.0          0.118761   \n",
       "Stu_000faad08edf838f1e1fa87bf2aa4fed    347.0      160.0          0.368836   \n",
       "Stu_0010dcb33a30eaac9a317199930b40f1     38.0       11.0          0.551020   \n",
       "\n",
       "Outcome                              Proficiency Level  \n",
       "Anon Student Id                                         \n",
       "Stu_000271be877ea1e7bf4f038c96cee5f9              High  \n",
       "Stu_000327eb014359d69e940f15aef1b53d              High  \n",
       "Stu_000da9f6798e6b7c5a1b01b5fcda8b78            Normal  \n",
       "Stu_000faad08edf838f1e1fa87bf2aa4fed              High  \n",
       "Stu_0010dcb33a30eaac9a317199930b40f1              High  "
      ]
     },
     "execution_count": 92,
     "metadata": {},
     "output_type": "execute_result"
    }
   ],
   "source": [
    "df_proficiency.head()"
   ]
  },
  {
   "cell_type": "code",
   "execution_count": 93,
   "id": "307b9959-4240-47fe-979a-5bc49635f3ea",
   "metadata": {},
   "outputs": [],
   "source": [
    "# Only for tests\n",
    "# df_cleaned = df_cleaned.drop(columns='Proficiency Level')"
   ]
  },
  {
   "cell_type": "code",
   "execution_count": 94,
   "id": "c5e81685-9102-4b81-a523-5ab76c38d85d",
   "metadata": {},
   "outputs": [],
   "source": [
    "df_cleaned = df_cleaned.join(df_proficiency['Proficiency Level'], on=['Anon Student Id'])"
   ]
  },
  {
   "cell_type": "code",
   "execution_count": 95,
   "id": "5e9391cd-af46-4f91-866c-cbf70a403b63",
   "metadata": {},
   "outputs": [],
   "source": [
    "# Determining the Normal proficiency level where we didn't have data to determine\n",
    "# This is probably because there is no data with the response Outcomes or some missing data in the grouping columns\n",
    "df_cleaned['Proficiency Level'] = df_cleaned['Proficiency Level'].fillna('Normal')"
   ]
  },
  {
   "cell_type": "markdown",
   "id": "934aa396-b2e0-458a-9dba-0668a12015b9",
   "metadata": {
    "tags": []
   },
   "source": [
    "## Preparing the new dataset"
   ]
  },
  {
   "cell_type": "code",
   "execution_count": 96,
   "id": "ca0363ee-30b4-4406-bbfc-d62e386ea720",
   "metadata": {},
   "outputs": [],
   "source": [
    "ml_columns = ['Problem Name', 'Step Name', 'Attempt At Step', 'Outcome', 'Last Help Level', 'Difficulty Level', 'Proficiency Level']\n",
    "\n",
    "df_ml, df_filtered = generate_samples(ml_columns)\n",
    "df_ml = create_step_dummies(df_ml)\n",
    "df_ml = replace_dtypes(df_ml)"
   ]
  },
  {
   "cell_type": "code",
   "execution_count": 97,
   "id": "8405f88c-9edb-4b65-b4d8-56508dcb010b",
   "metadata": {},
   "outputs": [],
   "source": [
    "difficulty_dummies = pd.get_dummies(df_ml['Difficulty Level'], prefix='Difficulty')\n",
    "proficiency_dummies = pd.get_dummies(df_ml['Proficiency Level'], prefix='Proficiency')\n",
    "\n",
    "df_ml = pd.concat([df_ml, difficulty_dummies, proficiency_dummies], axis=1)\n",
    "df_ml = df_ml.drop(['Difficulty Level', 'Proficiency Level'], axis=1)"
   ]
  },
  {
   "cell_type": "code",
   "execution_count": 98,
   "id": "c4ba8e20-fc54-4091-abb4-e44bc7aa2006",
   "metadata": {},
   "outputs": [
    {
     "data": {
      "text/html": [
       "<div>\n",
       "<style scoped>\n",
       "    .dataframe tbody tr th:only-of-type {\n",
       "        vertical-align: middle;\n",
       "    }\n",
       "\n",
       "    .dataframe tbody tr th {\n",
       "        vertical-align: top;\n",
       "    }\n",
       "\n",
       "    .dataframe thead th {\n",
       "        text-align: right;\n",
       "    }\n",
       "</style>\n",
       "<table border=\"1\" class=\"dataframe\">\n",
       "  <thead>\n",
       "    <tr style=\"text-align: right;\">\n",
       "      <th></th>\n",
       "      <th>Problem Name</th>\n",
       "      <th>Attempt At Step</th>\n",
       "      <th>Outcome</th>\n",
       "      <th>Last Help Level</th>\n",
       "      <th>Step0:13666</th>\n",
       "      <th>Step1:9189</th>\n",
       "      <th>Step4:5718</th>\n",
       "      <th>Step2:512</th>\n",
       "      <th>Step0:1291</th>\n",
       "      <th>Step0:8337</th>\n",
       "      <th>...</th>\n",
       "      <th>Step3:7425</th>\n",
       "      <th>Step1:14929</th>\n",
       "      <th>Step3:22646</th>\n",
       "      <th>Step0:8192</th>\n",
       "      <th>Difficulty_Easy</th>\n",
       "      <th>Difficulty_Hard</th>\n",
       "      <th>Difficulty_Normal</th>\n",
       "      <th>Proficiency_High</th>\n",
       "      <th>Proficiency_Low</th>\n",
       "      <th>Proficiency_Normal</th>\n",
       "    </tr>\n",
       "  </thead>\n",
       "  <tbody>\n",
       "    <tr>\n",
       "      <th>0</th>\n",
       "      <td>13666</td>\n",
       "      <td>5</td>\n",
       "      <td>1</td>\n",
       "      <td>4</td>\n",
       "      <td>0</td>\n",
       "      <td>0</td>\n",
       "      <td>0</td>\n",
       "      <td>0</td>\n",
       "      <td>0</td>\n",
       "      <td>0</td>\n",
       "      <td>...</td>\n",
       "      <td>0</td>\n",
       "      <td>0</td>\n",
       "      <td>0</td>\n",
       "      <td>0</td>\n",
       "      <td>0</td>\n",
       "      <td>1</td>\n",
       "      <td>0</td>\n",
       "      <td>0</td>\n",
       "      <td>0</td>\n",
       "      <td>1</td>\n",
       "    </tr>\n",
       "    <tr>\n",
       "      <th>1</th>\n",
       "      <td>5790</td>\n",
       "      <td>1</td>\n",
       "      <td>0</td>\n",
       "      <td>0</td>\n",
       "      <td>0</td>\n",
       "      <td>0</td>\n",
       "      <td>0</td>\n",
       "      <td>0</td>\n",
       "      <td>0</td>\n",
       "      <td>0</td>\n",
       "      <td>...</td>\n",
       "      <td>0</td>\n",
       "      <td>0</td>\n",
       "      <td>0</td>\n",
       "      <td>0</td>\n",
       "      <td>0</td>\n",
       "      <td>0</td>\n",
       "      <td>1</td>\n",
       "      <td>0</td>\n",
       "      <td>1</td>\n",
       "      <td>0</td>\n",
       "    </tr>\n",
       "    <tr>\n",
       "      <th>2</th>\n",
       "      <td>106</td>\n",
       "      <td>2</td>\n",
       "      <td>0</td>\n",
       "      <td>0</td>\n",
       "      <td>0</td>\n",
       "      <td>0</td>\n",
       "      <td>0</td>\n",
       "      <td>0</td>\n",
       "      <td>0</td>\n",
       "      <td>0</td>\n",
       "      <td>...</td>\n",
       "      <td>0</td>\n",
       "      <td>0</td>\n",
       "      <td>0</td>\n",
       "      <td>0</td>\n",
       "      <td>0</td>\n",
       "      <td>0</td>\n",
       "      <td>1</td>\n",
       "      <td>0</td>\n",
       "      <td>1</td>\n",
       "      <td>0</td>\n",
       "    </tr>\n",
       "    <tr>\n",
       "      <th>3</th>\n",
       "      <td>510</td>\n",
       "      <td>1</td>\n",
       "      <td>1</td>\n",
       "      <td>0</td>\n",
       "      <td>0</td>\n",
       "      <td>0</td>\n",
       "      <td>0</td>\n",
       "      <td>0</td>\n",
       "      <td>0</td>\n",
       "      <td>0</td>\n",
       "      <td>...</td>\n",
       "      <td>0</td>\n",
       "      <td>0</td>\n",
       "      <td>0</td>\n",
       "      <td>0</td>\n",
       "      <td>1</td>\n",
       "      <td>0</td>\n",
       "      <td>0</td>\n",
       "      <td>0</td>\n",
       "      <td>0</td>\n",
       "      <td>1</td>\n",
       "    </tr>\n",
       "    <tr>\n",
       "      <th>4</th>\n",
       "      <td>1291</td>\n",
       "      <td>1</td>\n",
       "      <td>0</td>\n",
       "      <td>0</td>\n",
       "      <td>0</td>\n",
       "      <td>0</td>\n",
       "      <td>0</td>\n",
       "      <td>0</td>\n",
       "      <td>0</td>\n",
       "      <td>0</td>\n",
       "      <td>...</td>\n",
       "      <td>0</td>\n",
       "      <td>0</td>\n",
       "      <td>0</td>\n",
       "      <td>0</td>\n",
       "      <td>0</td>\n",
       "      <td>0</td>\n",
       "      <td>1</td>\n",
       "      <td>0</td>\n",
       "      <td>1</td>\n",
       "      <td>0</td>\n",
       "    </tr>\n",
       "  </tbody>\n",
       "</table>\n",
       "<p>5 rows × 2359 columns</p>\n",
       "</div>"
      ],
      "text/plain": [
       "   Problem Name  Attempt At Step  Outcome  Last Help Level  Step0:13666  \\\n",
       "0         13666                5        1                4            0   \n",
       "1          5790                1        0                0            0   \n",
       "2           106                2        0                0            0   \n",
       "3           510                1        1                0            0   \n",
       "4          1291                1        0                0            0   \n",
       "\n",
       "   Step1:9189  Step4:5718  Step2:512  Step0:1291  Step0:8337  ...  Step3:7425  \\\n",
       "0           0           0          0           0           0  ...           0   \n",
       "1           0           0          0           0           0  ...           0   \n",
       "2           0           0          0           0           0  ...           0   \n",
       "3           0           0          0           0           0  ...           0   \n",
       "4           0           0          0           0           0  ...           0   \n",
       "\n",
       "   Step1:14929  Step3:22646  Step0:8192  Difficulty_Easy  Difficulty_Hard  \\\n",
       "0            0            0           0                0                1   \n",
       "1            0            0           0                0                0   \n",
       "2            0            0           0                0                0   \n",
       "3            0            0           0                1                0   \n",
       "4            0            0           0                0                0   \n",
       "\n",
       "   Difficulty_Normal  Proficiency_High  Proficiency_Low  Proficiency_Normal  \n",
       "0                  0                 0                0                   1  \n",
       "1                  1                 0                1                   0  \n",
       "2                  1                 0                1                   0  \n",
       "3                  0                 0                0                   1  \n",
       "4                  1                 0                1                   0  \n",
       "\n",
       "[5 rows x 2359 columns]"
      ]
     },
     "execution_count": 98,
     "metadata": {},
     "output_type": "execute_result"
    }
   ],
   "source": [
    "df_ml.head()"
   ]
  },
  {
   "cell_type": "code",
   "execution_count": 99,
   "id": "8c050098-fcf0-4102-a3a5-953fc10cefa1",
   "metadata": {},
   "outputs": [],
   "source": [
    "X_train, X_test, y_train, y_test = train_test_create(df_ml)"
   ]
  },
  {
   "cell_type": "markdown",
   "id": "c3e9399f-626c-4f22-a756-b0832d9b26d5",
   "metadata": {},
   "source": [
    "## Testing the models with the new data"
   ]
  },
  {
   "cell_type": "code",
   "execution_count": 121,
   "id": "e731fe44-3bc9-4750-9ca1-1feeb97b7a18",
   "metadata": {},
   "outputs": [],
   "source": [
    "# model_process(MultinomialNB(), 'Multinomial NB', X_train=X_train, y_train=y_train, X_test=X_test, y_test=y_test);"
   ]
  },
  {
   "cell_type": "code",
   "execution_count": 120,
   "id": "f8cd1082-dd73-463b-8088-d5cb1f83abfd",
   "metadata": {},
   "outputs": [],
   "source": [
    "# knn_best = get_best_model('KNN', X_train=X_train, y_train=y_train, X_test=X_test, y_test=y_test)"
   ]
  },
  {
   "cell_type": "code",
   "execution_count": 119,
   "id": "2a23af3b-e0a0-4fcb-b081-0d7222700f73",
   "metadata": {},
   "outputs": [],
   "source": [
    "# dtc_best = get_best_model('Decision Tree', X_train=X_train, y_train=y_train, X_test=X_test, y_test=y_test)"
   ]
  },
  {
   "cell_type": "code",
   "execution_count": 103,
   "id": "3fcbd651-4763-4eed-b415-2140babd1b52",
   "metadata": {},
   "outputs": [
    {
     "name": "stdout",
     "output_type": "stream",
     "text": [
      "Best model:\n",
      "GaussianNB(var_smoothing=1.5264179671752304e-09)\n",
      "\n",
      "Gaussian NB\n"
     ]
    },
    {
     "data": {
      "image/png": "[encoded data removed]",
      "text/plain": [
       "<Figure size 432x288 with 1 Axes>"
      ]
     },
     "metadata": {
      "needs_background": "light"
     },
     "output_type": "display_data"
    },
    {
     "name": "stdout",
     "output_type": "stream",
     "text": [
      "Model metrics:\n",
      "{'accuracy': '65.72%', 'roc-auc': '73.28%', 'f1-score': '65.60%', 'fit_time': 0.25}\n"
     ]
    }
   ],
   "source": [
    "gaussian_nb_best = get_best_model('Gaussian NB', X_train=X_train, y_train=y_train, X_test=X_test, y_test=y_test)"
   ]
  },
  {
   "cell_type": "code",
   "execution_count": 118,
   "id": "c20a9d8c-1327-4d2f-9356-34c31bdbf621",
   "metadata": {},
   "outputs": [],
   "source": [
    "# xgb_best = get_best_model('XGBoost', X_train=X_train, y_train=y_train, X_test=X_test, y_test=y_test)"
   ]
  },
  {
   "cell_type": "code",
   "execution_count": 114,
   "id": "bb3625a5-eb2f-48fb-a3ea-60e88266a2f5",
   "metadata": {},
   "outputs": [
    {
     "data": {
      "image/png": "[encoded data removed]",
      "text/plain": [
       "<Figure size 1152x216 with 1 Axes>"
      ]
     },
     "metadata": {},
     "output_type": "display_data"
    }
   ],
   "source": [
    "plot_table(title='Models Comparison (New Data)')"
   ]
  },
  {
   "cell_type": "code",
   "execution_count": 105,
   "id": "20277f51-8f63-4df0-bb4e-4c5db3625410",
   "metadata": {},
   "outputs": [],
   "source": [
    "### TODO optimize threshold\n",
    "# https://machinelearningmastery.com/threshold-moving-for-imbalanced-classification/"
   ]
  },
  {
   "cell_type": "code",
   "execution_count": 106,
   "id": "6f33b235-9fa8-4845-b0bc-b43aad087051",
   "metadata": {},
   "outputs": [],
   "source": [
    "# getting only the best model from above"
   ]
  },
  {
   "cell_type": "code",
   "execution_count": 107,
   "id": "0e5dd5fb-3b7b-423a-bf60-0402e47942c0",
   "metadata": {},
   "outputs": [],
   "source": [
    "from sklearn.metrics import roc_curve"
   ]
  },
  {
   "cell_type": "code",
   "execution_count": 116,
   "id": "93c54bb7-4d08-403d-965e-8d3b80e6d334",
   "metadata": {},
   "outputs": [
    {
     "name": "stdout",
     "output_type": "stream",
     "text": [
      "Best threshold: 0.5027\n"
     ]
    }
   ],
   "source": [
    "y_pred = gaussian_nb_best.predict_proba(X_test)\n",
    "\n",
    "# Keep probabilities for the positive outcome only\n",
    "y_pred = y_pred[:, 1]\n",
    "\n",
    "# Calculate roc curves\n",
    "fpr, tpr, thresholds = roc_curve(y_test, y_pred)\n",
    "\n",
    "# Get the best threshold based on Youden's J statistic\n",
    "J = tpr - fpr\n",
    "idx = np.argmax(J)\n",
    "best_threshold = thresholds[idx]\n",
    "print('Best threshold: {:.4f}'.format(best_threshold))"
   ]
  },
  {
   "cell_type": "code",
   "execution_count": 117,
   "id": "821a36c9-d991-4b08-a718-4391ab6f95c1",
   "metadata": {},
   "outputs": [
    {
     "name": "stdout",
     "output_type": "stream",
     "text": [
      "Gaussian NB\n"
     ]
    },
    {
     "data": {
      "image/png": "[encoded data removed]",
      "text/plain": [
       "<Figure size 432x288 with 1 Axes>"
      ]
     },
     "metadata": {
      "needs_background": "light"
     },
     "output_type": "display_data"
    },
    {
     "name": "stdout",
     "output_type": "stream",
     "text": [
      "Model metrics:\n",
      "{'accuracy': '65.92%', 'roc-auc': '73.28%', 'f1-score': '65.83%', 'fit_time': 0.23}\n"
     ]
    }
   ],
   "source": [
    "model_process(gaussian_nb_best, 'Gaussian NB', threshold=best_threshold, X_train=X_train, y_train=y_train, X_test=X_test, y_test=y_test);"
   ]
  }
 ],
 "metadata": {
  "kernelspec": {
   "display_name": "Python 3 (ipykernel)",
   "language": "python",
   "name": "python3"
  },
  "language_info": {
   "codemirror_mode": {
    "name": "ipython",
    "version": 3
   },
   "file_extension": ".py",
   "mimetype": "text/x-python",
   "name": "python",
   "nbconvert_exporter": "python",
   "pygments_lexer": "ipython3",
   "version": "3.9.6"
  }
 },
 "nbformat": 4,
 "nbformat_minor": 5
}
