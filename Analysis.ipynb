{
 "cells": [
  {
   "cell_type": "code",
   "execution_count": 1,
   "id": "22a7d863-9551-4ef5-a219-26237b9e3934",
   "metadata": {},
   "outputs": [],
   "source": [
    "# Finding and extracting the dataset\n",
    "from os import walk\n",
    "import zipfile"
   ]
  },
  {
   "cell_type": "code",
   "execution_count": 2,
   "id": "24dac5e7-a0cf-4b9b-adac-6054e0294185",
   "metadata": {},
   "outputs": [
    {
     "data": {
      "text/plain": [
       "'./dataset/ds339_tx_2021_0913_091153.zip'"
      ]
     },
     "execution_count": 2,
     "metadata": {},
     "output_type": "execute_result"
    }
   ],
   "source": [
    "dataset_folder = './dataset'\n",
    "    \n",
    "filenames = next(walk(dataset_folder), (_, _, []))[2]\n",
    "zip_filename = [filename for filename in filenames if filename.find('.zip') > -1][0]\n",
    "file_path = dataset_folder + '/' + zip_filename\n",
    "\n",
    "file_path"
   ]
  },
  {
   "cell_type": "code",
   "execution_count": 3,
   "id": "1e0d6ada-b5f0-4b45-a55a-e4b52dece97b",
   "metadata": {},
   "outputs": [],
   "source": [
    "# with zipfile.ZipFile(file_path, 'r') as zip_ref:\n",
    "#     zip_ref.extractall(dataset_folder)"
   ]
  },
  {
   "cell_type": "code",
   "execution_count": 4,
   "id": "9ea42d00-da1e-46da-b4b9-876f607a2459",
   "metadata": {},
   "outputs": [],
   "source": [
    "# Reading the dataset\n",
    "import pandas as pd\n",
    "\n",
    "seed = 50"
   ]
  },
  {
   "cell_type": "code",
   "execution_count": 5,
   "id": "a7841286-0a88-4104-be87-e6f897d06745",
   "metadata": {},
   "outputs": [
    {
     "data": {
      "text/plain": [
       "'./dataset/ds339_tx_All_Data_1059_2015_0729_215742.txt'"
      ]
     },
     "execution_count": 5,
     "metadata": {},
     "output_type": "execute_result"
    }
   ],
   "source": [
    "filenames = next(walk(dataset_folder), (_, _, []))[2]\n",
    "dataset_filename = [filename for filename in filenames if filename.find('.txt') > -1][0]\n",
    "dataset_path = dataset_folder + '/' + dataset_filename\n",
    "\n",
    "dataset_path"
   ]
  },
  {
   "cell_type": "code",
   "execution_count": 6,
   "id": "55f16623-8330-4550-899a-887c64e48923",
   "metadata": {},
   "outputs": [
    {
     "data": {
      "text/html": [
       "<div>\n",
       "<style scoped>\n",
       "    .dataframe tbody tr th:only-of-type {\n",
       "        vertical-align: middle;\n",
       "    }\n",
       "\n",
       "    .dataframe tbody tr th {\n",
       "        vertical-align: top;\n",
       "    }\n",
       "\n",
       "    .dataframe thead th {\n",
       "        text-align: right;\n",
       "    }\n",
       "</style>\n",
       "<table border=\"1\" class=\"dataframe\">\n",
       "  <thead>\n",
       "    <tr style=\"text-align: right;\">\n",
       "      <th></th>\n",
       "      <th>Row</th>\n",
       "      <th>Sample Name</th>\n",
       "      <th>Transaction Id</th>\n",
       "      <th>Anon Student Id</th>\n",
       "      <th>Session Id</th>\n",
       "      <th>Time</th>\n",
       "      <th>Time Zone</th>\n",
       "      <th>Duration (sec)</th>\n",
       "      <th>Student Response Type</th>\n",
       "      <th>Student Response Subtype</th>\n",
       "      <th>...</th>\n",
       "      <th>KC (MCAS5-State_WPI-Simple)</th>\n",
       "      <th>KC Category (MCAS5-State_WPI-Simple)</th>\n",
       "      <th>KC (MCAS5-State_WPI-Simple).1</th>\n",
       "      <th>KC Category (MCAS5-State_WPI-Simple).1</th>\n",
       "      <th>KC (Single-KC)</th>\n",
       "      <th>KC Category (Single-KC)</th>\n",
       "      <th>KC (Unique-step)</th>\n",
       "      <th>KC Category (Unique-step)</th>\n",
       "      <th>School</th>\n",
       "      <th>Class</th>\n",
       "    </tr>\n",
       "  </thead>\n",
       "  <tbody>\n",
       "    <tr>\n",
       "      <th>0</th>\n",
       "      <td>1</td>\n",
       "      <td>All Data</td>\n",
       "      <td>13cb29890fa2be0ca31bcd07f35000d6</td>\n",
       "      <td>Stu_000271be877ea1e7bf4f038c96cee5f9</td>\n",
       "      <td>5660580</td>\n",
       "      <td>2006-10-13 11:53:10</td>\n",
       "      <td>US/Eastern</td>\n",
       "      <td>22</td>\n",
       "      <td>ATTEMPT</td>\n",
       "      <td>NaN</td>\n",
       "      <td>...</td>\n",
       "      <td>NaN</td>\n",
       "      <td>NaN</td>\n",
       "      <td>NaN</td>\n",
       "      <td>NaN</td>\n",
       "      <td>Single-KC</td>\n",
       "      <td>NaN</td>\n",
       "      <td>NaN</td>\n",
       "      <td>NaN</td>\n",
       "      <td>ForestGrove</td>\n",
       "      <td>Period40607Dumphy</td>\n",
       "    </tr>\n",
       "    <tr>\n",
       "      <th>1</th>\n",
       "      <td>2</td>\n",
       "      <td>All Data</td>\n",
       "      <td>3fedf6c06ab6b9b3c36e245335445bcf</td>\n",
       "      <td>Stu_000271be877ea1e7bf4f038c96cee5f9</td>\n",
       "      <td>5660580</td>\n",
       "      <td>2006-10-13 11:53:13</td>\n",
       "      <td>US/Eastern</td>\n",
       "      <td>3</td>\n",
       "      <td>HINT_REQUEST</td>\n",
       "      <td>NaN</td>\n",
       "      <td>...</td>\n",
       "      <td>NaN</td>\n",
       "      <td>NaN</td>\n",
       "      <td>NaN</td>\n",
       "      <td>NaN</td>\n",
       "      <td>Single-KC</td>\n",
       "      <td>NaN</td>\n",
       "      <td>NaN</td>\n",
       "      <td>NaN</td>\n",
       "      <td>ForestGrove</td>\n",
       "      <td>Period40607Dumphy</td>\n",
       "    </tr>\n",
       "    <tr>\n",
       "      <th>2</th>\n",
       "      <td>3</td>\n",
       "      <td>All Data</td>\n",
       "      <td>0f5bb1a5c133ac1aa0a3d32e4d44dde9</td>\n",
       "      <td>Stu_000271be877ea1e7bf4f038c96cee5f9</td>\n",
       "      <td>5660580</td>\n",
       "      <td>2006-10-13 11:53:20</td>\n",
       "      <td>US/Eastern</td>\n",
       "      <td>7</td>\n",
       "      <td>HINT_REQUEST</td>\n",
       "      <td>NaN</td>\n",
       "      <td>...</td>\n",
       "      <td>NaN</td>\n",
       "      <td>NaN</td>\n",
       "      <td>NaN</td>\n",
       "      <td>NaN</td>\n",
       "      <td>Single-KC</td>\n",
       "      <td>NaN</td>\n",
       "      <td>NaN</td>\n",
       "      <td>NaN</td>\n",
       "      <td>ForestGrove</td>\n",
       "      <td>Period40607Dumphy</td>\n",
       "    </tr>\n",
       "    <tr>\n",
       "      <th>3</th>\n",
       "      <td>4</td>\n",
       "      <td>All Data</td>\n",
       "      <td>19a9aabf614d6f27dc9970dc842da081</td>\n",
       "      <td>Stu_000271be877ea1e7bf4f038c96cee5f9</td>\n",
       "      <td>5660580</td>\n",
       "      <td>2006-10-13 11:53:22</td>\n",
       "      <td>US/Eastern</td>\n",
       "      <td>2</td>\n",
       "      <td>HINT_REQUEST</td>\n",
       "      <td>NaN</td>\n",
       "      <td>...</td>\n",
       "      <td>NaN</td>\n",
       "      <td>NaN</td>\n",
       "      <td>NaN</td>\n",
       "      <td>NaN</td>\n",
       "      <td>Single-KC</td>\n",
       "      <td>NaN</td>\n",
       "      <td>NaN</td>\n",
       "      <td>NaN</td>\n",
       "      <td>ForestGrove</td>\n",
       "      <td>Period40607Dumphy</td>\n",
       "    </tr>\n",
       "    <tr>\n",
       "      <th>4</th>\n",
       "      <td>5</td>\n",
       "      <td>All Data</td>\n",
       "      <td>eae2bd81fd19ec6093c645d90e92222e</td>\n",
       "      <td>Stu_000271be877ea1e7bf4f038c96cee5f9</td>\n",
       "      <td>5660580</td>\n",
       "      <td>2006-10-13 11:53:32</td>\n",
       "      <td>US/Eastern</td>\n",
       "      <td>10</td>\n",
       "      <td>ATTEMPT</td>\n",
       "      <td>NaN</td>\n",
       "      <td>...</td>\n",
       "      <td>NaN</td>\n",
       "      <td>NaN</td>\n",
       "      <td>NaN</td>\n",
       "      <td>NaN</td>\n",
       "      <td>Single-KC</td>\n",
       "      <td>NaN</td>\n",
       "      <td>NaN</td>\n",
       "      <td>NaN</td>\n",
       "      <td>ForestGrove</td>\n",
       "      <td>Period40607Dumphy</td>\n",
       "    </tr>\n",
       "  </tbody>\n",
       "</table>\n",
       "<p>5 rows × 57 columns</p>\n",
       "</div>"
      ],
      "text/plain": [
       "   Row Sample Name                    Transaction Id  \\\n",
       "0    1    All Data  13cb29890fa2be0ca31bcd07f35000d6   \n",
       "1    2    All Data  3fedf6c06ab6b9b3c36e245335445bcf   \n",
       "2    3    All Data  0f5bb1a5c133ac1aa0a3d32e4d44dde9   \n",
       "3    4    All Data  19a9aabf614d6f27dc9970dc842da081   \n",
       "4    5    All Data  eae2bd81fd19ec6093c645d90e92222e   \n",
       "\n",
       "                        Anon Student Id  Session Id                 Time  \\\n",
       "0  Stu_000271be877ea1e7bf4f038c96cee5f9     5660580  2006-10-13 11:53:10   \n",
       "1  Stu_000271be877ea1e7bf4f038c96cee5f9     5660580  2006-10-13 11:53:13   \n",
       "2  Stu_000271be877ea1e7bf4f038c96cee5f9     5660580  2006-10-13 11:53:20   \n",
       "3  Stu_000271be877ea1e7bf4f038c96cee5f9     5660580  2006-10-13 11:53:22   \n",
       "4  Stu_000271be877ea1e7bf4f038c96cee5f9     5660580  2006-10-13 11:53:32   \n",
       "\n",
       "    Time Zone Duration (sec) Student Response Type  Student Response Subtype  \\\n",
       "0  US/Eastern             22               ATTEMPT                       NaN   \n",
       "1  US/Eastern              3          HINT_REQUEST                       NaN   \n",
       "2  US/Eastern              7          HINT_REQUEST                       NaN   \n",
       "3  US/Eastern              2          HINT_REQUEST                       NaN   \n",
       "4  US/Eastern             10               ATTEMPT                       NaN   \n",
       "\n",
       "   ... KC (MCAS5-State_WPI-Simple)  KC Category (MCAS5-State_WPI-Simple)  \\\n",
       "0  ...                         NaN                                   NaN   \n",
       "1  ...                         NaN                                   NaN   \n",
       "2  ...                         NaN                                   NaN   \n",
       "3  ...                         NaN                                   NaN   \n",
       "4  ...                         NaN                                   NaN   \n",
       "\n",
       "  KC (MCAS5-State_WPI-Simple).1  KC Category (MCAS5-State_WPI-Simple).1  \\\n",
       "0                           NaN                                     NaN   \n",
       "1                           NaN                                     NaN   \n",
       "2                           NaN                                     NaN   \n",
       "3                           NaN                                     NaN   \n",
       "4                           NaN                                     NaN   \n",
       "\n",
       "   KC (Single-KC) KC Category (Single-KC) KC (Unique-step)  \\\n",
       "0       Single-KC                     NaN              NaN   \n",
       "1       Single-KC                     NaN              NaN   \n",
       "2       Single-KC                     NaN              NaN   \n",
       "3       Single-KC                     NaN              NaN   \n",
       "4       Single-KC                     NaN              NaN   \n",
       "\n",
       "   KC Category (Unique-step)       School              Class  \n",
       "0                        NaN  ForestGrove  Period40607Dumphy  \n",
       "1                        NaN  ForestGrove  Period40607Dumphy  \n",
       "2                        NaN  ForestGrove  Period40607Dumphy  \n",
       "3                        NaN  ForestGrove  Period40607Dumphy  \n",
       "4                        NaN  ForestGrove  Period40607Dumphy  \n",
       "\n",
       "[5 rows x 57 columns]"
      ]
     },
     "execution_count": 6,
     "metadata": {},
     "output_type": "execute_result"
    }
   ],
   "source": [
    "df = pd.read_csv(dataset_path, delimiter = \"\\t\")\n",
    "\n",
    "df.head()"
   ]
  },
  {
   "cell_type": "code",
   "execution_count": 7,
   "id": "2fc54cda-0bc2-4a59-af9b-c737e16ba256",
   "metadata": {},
   "outputs": [
    {
     "data": {
      "text/html": [
       "<div>\n",
       "<style scoped>\n",
       "    .dataframe tbody tr th:only-of-type {\n",
       "        vertical-align: middle;\n",
       "    }\n",
       "\n",
       "    .dataframe tbody tr th {\n",
       "        vertical-align: top;\n",
       "    }\n",
       "\n",
       "    .dataframe thead th {\n",
       "        text-align: right;\n",
       "    }\n",
       "</style>\n",
       "<table border=\"1\" class=\"dataframe\">\n",
       "  <thead>\n",
       "    <tr style=\"text-align: right;\">\n",
       "      <th></th>\n",
       "      <th>Row</th>\n",
       "      <th>Session Id</th>\n",
       "      <th>Student Response Subtype</th>\n",
       "      <th>Tutor Response Subtype</th>\n",
       "      <th>Problem Name</th>\n",
       "      <th>Problem View</th>\n",
       "      <th>Attempt At Step</th>\n",
       "      <th>Is Last Attempt</th>\n",
       "      <th>Help Level</th>\n",
       "      <th>Total Num Hints</th>\n",
       "      <th>...</th>\n",
       "      <th>KC Category (WPI-Apr-2005).4</th>\n",
       "      <th>KC Category (WPI-Apr-2005).5</th>\n",
       "      <th>KC Category (MCAS39-State_WPI-Simple)</th>\n",
       "      <th>KC Category (MCAS39-State_WPI-Simple).1</th>\n",
       "      <th>KC Category (MCAS39-State_WPI-Simple).2</th>\n",
       "      <th>KC Category (MCAS39-State_WPI-Simple).3</th>\n",
       "      <th>KC Category (MCAS5-State_WPI-Simple)</th>\n",
       "      <th>KC Category (MCAS5-State_WPI-Simple).1</th>\n",
       "      <th>KC Category (Single-KC)</th>\n",
       "      <th>KC Category (Unique-step)</th>\n",
       "    </tr>\n",
       "  </thead>\n",
       "  <tbody>\n",
       "    <tr>\n",
       "      <th>count</th>\n",
       "      <td>1.451003e+06</td>\n",
       "      <td>1.451003e+06</td>\n",
       "      <td>0.0</td>\n",
       "      <td>0.0</td>\n",
       "      <td>1.451003e+06</td>\n",
       "      <td>1.450822e+06</td>\n",
       "      <td>1.448076e+06</td>\n",
       "      <td>1.448076e+06</td>\n",
       "      <td>394514.000000</td>\n",
       "      <td>303756.000000</td>\n",
       "      <td>...</td>\n",
       "      <td>0.0</td>\n",
       "      <td>0.0</td>\n",
       "      <td>0.0</td>\n",
       "      <td>0.0</td>\n",
       "      <td>0.0</td>\n",
       "      <td>0.0</td>\n",
       "      <td>0.0</td>\n",
       "      <td>0.0</td>\n",
       "      <td>0.0</td>\n",
       "      <td>0.0</td>\n",
       "    </tr>\n",
       "    <tr>\n",
       "      <th>mean</th>\n",
       "      <td>7.255020e+05</td>\n",
       "      <td>4.409396e+06</td>\n",
       "      <td>NaN</td>\n",
       "      <td>NaN</td>\n",
       "      <td>5.609072e+03</td>\n",
       "      <td>1.281691e+00</td>\n",
       "      <td>2.341389e+00</td>\n",
       "      <td>4.472597e-01</td>\n",
       "      <td>2.010413</td>\n",
       "      <td>3.529932</td>\n",
       "      <td>...</td>\n",
       "      <td>NaN</td>\n",
       "      <td>NaN</td>\n",
       "      <td>NaN</td>\n",
       "      <td>NaN</td>\n",
       "      <td>NaN</td>\n",
       "      <td>NaN</td>\n",
       "      <td>NaN</td>\n",
       "      <td>NaN</td>\n",
       "      <td>NaN</td>\n",
       "      <td>NaN</td>\n",
       "    </tr>\n",
       "    <tr>\n",
       "      <th>std</th>\n",
       "      <td>4.188686e+05</td>\n",
       "      <td>2.780981e+06</td>\n",
       "      <td>NaN</td>\n",
       "      <td>NaN</td>\n",
       "      <td>5.119680e+03</td>\n",
       "      <td>6.858265e-01</td>\n",
       "      <td>2.543439e+00</td>\n",
       "      <td>4.972108e-01</td>\n",
       "      <td>1.419201</td>\n",
       "      <td>1.298585</td>\n",
       "      <td>...</td>\n",
       "      <td>NaN</td>\n",
       "      <td>NaN</td>\n",
       "      <td>NaN</td>\n",
       "      <td>NaN</td>\n",
       "      <td>NaN</td>\n",
       "      <td>NaN</td>\n",
       "      <td>NaN</td>\n",
       "      <td>NaN</td>\n",
       "      <td>NaN</td>\n",
       "      <td>NaN</td>\n",
       "    </tr>\n",
       "    <tr>\n",
       "      <th>min</th>\n",
       "      <td>1.000000e+00</td>\n",
       "      <td>6.720000e+02</td>\n",
       "      <td>NaN</td>\n",
       "      <td>NaN</td>\n",
       "      <td>7.000000e+00</td>\n",
       "      <td>1.000000e+00</td>\n",
       "      <td>1.000000e+00</td>\n",
       "      <td>0.000000e+00</td>\n",
       "      <td>1.000000</td>\n",
       "      <td>0.000000</td>\n",
       "      <td>...</td>\n",
       "      <td>NaN</td>\n",
       "      <td>NaN</td>\n",
       "      <td>NaN</td>\n",
       "      <td>NaN</td>\n",
       "      <td>NaN</td>\n",
       "      <td>NaN</td>\n",
       "      <td>NaN</td>\n",
       "      <td>NaN</td>\n",
       "      <td>NaN</td>\n",
       "      <td>NaN</td>\n",
       "    </tr>\n",
       "    <tr>\n",
       "      <th>25%</th>\n",
       "      <td>3.627515e+05</td>\n",
       "      <td>1.363892e+06</td>\n",
       "      <td>NaN</td>\n",
       "      <td>NaN</td>\n",
       "      <td>1.149000e+03</td>\n",
       "      <td>1.000000e+00</td>\n",
       "      <td>1.000000e+00</td>\n",
       "      <td>0.000000e+00</td>\n",
       "      <td>1.000000</td>\n",
       "      <td>3.000000</td>\n",
       "      <td>...</td>\n",
       "      <td>NaN</td>\n",
       "      <td>NaN</td>\n",
       "      <td>NaN</td>\n",
       "      <td>NaN</td>\n",
       "      <td>NaN</td>\n",
       "      <td>NaN</td>\n",
       "      <td>NaN</td>\n",
       "      <td>NaN</td>\n",
       "      <td>NaN</td>\n",
       "      <td>NaN</td>\n",
       "    </tr>\n",
       "    <tr>\n",
       "      <th>50%</th>\n",
       "      <td>7.255020e+05</td>\n",
       "      <td>5.450824e+06</td>\n",
       "      <td>NaN</td>\n",
       "      <td>NaN</td>\n",
       "      <td>3.133000e+03</td>\n",
       "      <td>1.000000e+00</td>\n",
       "      <td>1.000000e+00</td>\n",
       "      <td>0.000000e+00</td>\n",
       "      <td>2.000000</td>\n",
       "      <td>3.000000</td>\n",
       "      <td>...</td>\n",
       "      <td>NaN</td>\n",
       "      <td>NaN</td>\n",
       "      <td>NaN</td>\n",
       "      <td>NaN</td>\n",
       "      <td>NaN</td>\n",
       "      <td>NaN</td>\n",
       "      <td>NaN</td>\n",
       "      <td>NaN</td>\n",
       "      <td>NaN</td>\n",
       "      <td>NaN</td>\n",
       "    </tr>\n",
       "    <tr>\n",
       "      <th>75%</th>\n",
       "      <td>1.088252e+06</td>\n",
       "      <td>6.838668e+06</td>\n",
       "      <td>NaN</td>\n",
       "      <td>NaN</td>\n",
       "      <td>9.562000e+03</td>\n",
       "      <td>1.000000e+00</td>\n",
       "      <td>3.000000e+00</td>\n",
       "      <td>1.000000e+00</td>\n",
       "      <td>3.000000</td>\n",
       "      <td>4.000000</td>\n",
       "      <td>...</td>\n",
       "      <td>NaN</td>\n",
       "      <td>NaN</td>\n",
       "      <td>NaN</td>\n",
       "      <td>NaN</td>\n",
       "      <td>NaN</td>\n",
       "      <td>NaN</td>\n",
       "      <td>NaN</td>\n",
       "      <td>NaN</td>\n",
       "      <td>NaN</td>\n",
       "      <td>NaN</td>\n",
       "    </tr>\n",
       "    <tr>\n",
       "      <th>max</th>\n",
       "      <td>1.451003e+06</td>\n",
       "      <td>8.167924e+06</td>\n",
       "      <td>NaN</td>\n",
       "      <td>NaN</td>\n",
       "      <td>1.865100e+04</td>\n",
       "      <td>2.400000e+01</td>\n",
       "      <td>1.200000e+02</td>\n",
       "      <td>1.000000e+00</td>\n",
       "      <td>57.000000</td>\n",
       "      <td>47.000000</td>\n",
       "      <td>...</td>\n",
       "      <td>NaN</td>\n",
       "      <td>NaN</td>\n",
       "      <td>NaN</td>\n",
       "      <td>NaN</td>\n",
       "      <td>NaN</td>\n",
       "      <td>NaN</td>\n",
       "      <td>NaN</td>\n",
       "      <td>NaN</td>\n",
       "      <td>NaN</td>\n",
       "      <td>NaN</td>\n",
       "    </tr>\n",
       "  </tbody>\n",
       "</table>\n",
       "<p>8 rows × 24 columns</p>\n",
       "</div>"
      ],
      "text/plain": [
       "                Row    Session Id  Student Response Subtype  \\\n",
       "count  1.451003e+06  1.451003e+06                       0.0   \n",
       "mean   7.255020e+05  4.409396e+06                       NaN   \n",
       "std    4.188686e+05  2.780981e+06                       NaN   \n",
       "min    1.000000e+00  6.720000e+02                       NaN   \n",
       "25%    3.627515e+05  1.363892e+06                       NaN   \n",
       "50%    7.255020e+05  5.450824e+06                       NaN   \n",
       "75%    1.088252e+06  6.838668e+06                       NaN   \n",
       "max    1.451003e+06  8.167924e+06                       NaN   \n",
       "\n",
       "       Tutor Response Subtype  Problem Name  Problem View  Attempt At Step  \\\n",
       "count                     0.0  1.451003e+06  1.450822e+06     1.448076e+06   \n",
       "mean                      NaN  5.609072e+03  1.281691e+00     2.341389e+00   \n",
       "std                       NaN  5.119680e+03  6.858265e-01     2.543439e+00   \n",
       "min                       NaN  7.000000e+00  1.000000e+00     1.000000e+00   \n",
       "25%                       NaN  1.149000e+03  1.000000e+00     1.000000e+00   \n",
       "50%                       NaN  3.133000e+03  1.000000e+00     1.000000e+00   \n",
       "75%                       NaN  9.562000e+03  1.000000e+00     3.000000e+00   \n",
       "max                       NaN  1.865100e+04  2.400000e+01     1.200000e+02   \n",
       "\n",
       "       Is Last Attempt     Help Level  Total Num Hints  ...  \\\n",
       "count     1.448076e+06  394514.000000    303756.000000  ...   \n",
       "mean      4.472597e-01       2.010413         3.529932  ...   \n",
       "std       4.972108e-01       1.419201         1.298585  ...   \n",
       "min       0.000000e+00       1.000000         0.000000  ...   \n",
       "25%       0.000000e+00       1.000000         3.000000  ...   \n",
       "50%       0.000000e+00       2.000000         3.000000  ...   \n",
       "75%       1.000000e+00       3.000000         4.000000  ...   \n",
       "max       1.000000e+00      57.000000        47.000000  ...   \n",
       "\n",
       "       KC Category (WPI-Apr-2005).4  KC Category (WPI-Apr-2005).5  \\\n",
       "count                           0.0                           0.0   \n",
       "mean                            NaN                           NaN   \n",
       "std                             NaN                           NaN   \n",
       "min                             NaN                           NaN   \n",
       "25%                             NaN                           NaN   \n",
       "50%                             NaN                           NaN   \n",
       "75%                             NaN                           NaN   \n",
       "max                             NaN                           NaN   \n",
       "\n",
       "       KC Category (MCAS39-State_WPI-Simple)  \\\n",
       "count                                    0.0   \n",
       "mean                                     NaN   \n",
       "std                                      NaN   \n",
       "min                                      NaN   \n",
       "25%                                      NaN   \n",
       "50%                                      NaN   \n",
       "75%                                      NaN   \n",
       "max                                      NaN   \n",
       "\n",
       "       KC Category (MCAS39-State_WPI-Simple).1  \\\n",
       "count                                      0.0   \n",
       "mean                                       NaN   \n",
       "std                                        NaN   \n",
       "min                                        NaN   \n",
       "25%                                        NaN   \n",
       "50%                                        NaN   \n",
       "75%                                        NaN   \n",
       "max                                        NaN   \n",
       "\n",
       "       KC Category (MCAS39-State_WPI-Simple).2  \\\n",
       "count                                      0.0   \n",
       "mean                                       NaN   \n",
       "std                                        NaN   \n",
       "min                                        NaN   \n",
       "25%                                        NaN   \n",
       "50%                                        NaN   \n",
       "75%                                        NaN   \n",
       "max                                        NaN   \n",
       "\n",
       "       KC Category (MCAS39-State_WPI-Simple).3  \\\n",
       "count                                      0.0   \n",
       "mean                                       NaN   \n",
       "std                                        NaN   \n",
       "min                                        NaN   \n",
       "25%                                        NaN   \n",
       "50%                                        NaN   \n",
       "75%                                        NaN   \n",
       "max                                        NaN   \n",
       "\n",
       "       KC Category (MCAS5-State_WPI-Simple)  \\\n",
       "count                                   0.0   \n",
       "mean                                    NaN   \n",
       "std                                     NaN   \n",
       "min                                     NaN   \n",
       "25%                                     NaN   \n",
       "50%                                     NaN   \n",
       "75%                                     NaN   \n",
       "max                                     NaN   \n",
       "\n",
       "       KC Category (MCAS5-State_WPI-Simple).1  KC Category (Single-KC)  \\\n",
       "count                                     0.0                      0.0   \n",
       "mean                                      NaN                      NaN   \n",
       "std                                       NaN                      NaN   \n",
       "min                                       NaN                      NaN   \n",
       "25%                                       NaN                      NaN   \n",
       "50%                                       NaN                      NaN   \n",
       "75%                                       NaN                      NaN   \n",
       "max                                       NaN                      NaN   \n",
       "\n",
       "       KC Category (Unique-step)  \n",
       "count                        0.0  \n",
       "mean                         NaN  \n",
       "std                          NaN  \n",
       "min                          NaN  \n",
       "25%                          NaN  \n",
       "50%                          NaN  \n",
       "75%                          NaN  \n",
       "max                          NaN  \n",
       "\n",
       "[8 rows x 24 columns]"
      ]
     },
     "execution_count": 7,
     "metadata": {},
     "output_type": "execute_result"
    }
   ],
   "source": [
    "df.describe()"
   ]
  },
  {
   "cell_type": "code",
   "execution_count": 8,
   "id": "bf7b9b24-f19e-4149-a708-05279b284023",
   "metadata": {},
   "outputs": [
    {
     "data": {
      "text/plain": [
       "Row                                        1451003\n",
       "Sample Name                                      1\n",
       "Transaction Id                             1451003\n",
       "Anon Student Id                               5046\n",
       "Session Id                                  392886\n",
       "Time                                       1027591\n",
       "Time Zone                                        1\n",
       "Duration (sec)                                 641\n",
       "Student Response Type                            2\n",
       "Student Response Subtype                         0\n",
       "Tutor Response Type                              2\n",
       "Tutor Response Subtype                           0\n",
       "Level (Curriculum)                               1\n",
       "Problem Name                                  1798\n",
       "Problem View                                    17\n",
       "Problem Start Time                          347840\n",
       "Step Name                                     5834\n",
       "Attempt At Step                                120\n",
       "Is Last Attempt                                  2\n",
       "Outcome                                          3\n",
       "Selection                                     5828\n",
       "Action                                          12\n",
       "Input                                        28427\n",
       "Feedback Text                                11816\n",
       "Feedback Classification                          3\n",
       "Help Level                                      57\n",
       "Total Num Hints                                 48\n",
       "KC (WPI-Apr-2005)                               87\n",
       "KC Category (WPI-Apr-2005)                       0\n",
       "KC (WPI-Apr-2005).1                             47\n",
       "KC Category (WPI-Apr-2005).1                     0\n",
       "KC (WPI-Apr-2005).2                             15\n",
       "KC Category (WPI-Apr-2005).2                     0\n",
       "KC (WPI-Apr-2005).3                              2\n",
       "KC Category (WPI-Apr-2005).3                     0\n",
       "KC (WPI-Apr-2005).4                              1\n",
       "KC Category (WPI-Apr-2005).4                     0\n",
       "KC (WPI-Apr-2005).5                              1\n",
       "KC Category (WPI-Apr-2005).5                     0\n",
       "KC (MCAS39-State_WPI-Simple)                    30\n",
       "KC Category (MCAS39-State_WPI-Simple)            0\n",
       "KC (MCAS39-State_WPI-Simple).1                  20\n",
       "KC Category (MCAS39-State_WPI-Simple).1          0\n",
       "KC (MCAS39-State_WPI-Simple).2                   9\n",
       "KC Category (MCAS39-State_WPI-Simple).2          0\n",
       "KC (MCAS39-State_WPI-Simple).3                   2\n",
       "KC Category (MCAS39-State_WPI-Simple).3          0\n",
       "KC (MCAS5-State_WPI-Simple)                      5\n",
       "KC Category (MCAS5-State_WPI-Simple)             0\n",
       "KC (MCAS5-State_WPI-Simple).1                    1\n",
       "KC Category (MCAS5-State_WPI-Simple).1           0\n",
       "KC (Single-KC)                                   1\n",
       "KC Category (Single-KC)                          0\n",
       "KC (Unique-step)                               318\n",
       "KC Category (Unique-step)                        0\n",
       "School                                          24\n",
       "Class                                          262\n",
       "dtype: int64"
      ]
     },
     "execution_count": 8,
     "metadata": {},
     "output_type": "execute_result"
    }
   ],
   "source": [
    "# Drop unnecessary columns\n",
    "unique_values = df.nunique()\n",
    "unique_values"
   ]
  },
  {
   "cell_type": "code",
   "execution_count": 9,
   "id": "47575507-b1e2-49e2-be89-5b7ccf1d9b19",
   "metadata": {},
   "outputs": [],
   "source": [
    "### Dropping the columns with 0 or 1 exclusive values\n",
    "df_cleaned = df.loc[:, (unique_values > 1)]"
   ]
  },
  {
   "cell_type": "code",
   "execution_count": 10,
   "id": "5f3526d3-f466-4f5b-ac3e-2b01bbdec226",
   "metadata": {},
   "outputs": [
    {
     "data": {
      "text/plain": [
       "Row                               1451003\n",
       "Transaction Id                    1451003\n",
       "Anon Student Id                      5046\n",
       "Session Id                         392886\n",
       "Time                              1027591\n",
       "Duration (sec)                        641\n",
       "Student Response Type                   2\n",
       "Tutor Response Type                     2\n",
       "Problem Name                         1798\n",
       "Problem View                           17\n",
       "Problem Start Time                 347840\n",
       "Step Name                            5834\n",
       "Attempt At Step                       120\n",
       "Is Last Attempt                         2\n",
       "Outcome                                 3\n",
       "Selection                            5828\n",
       "Action                                 12\n",
       "Input                               28427\n",
       "Feedback Text                       11816\n",
       "Feedback Classification                 3\n",
       "Help Level                             57\n",
       "Total Num Hints                        48\n",
       "KC (WPI-Apr-2005)                      87\n",
       "KC (WPI-Apr-2005).1                    47\n",
       "KC (WPI-Apr-2005).2                    15\n",
       "KC (WPI-Apr-2005).3                     2\n",
       "KC (MCAS39-State_WPI-Simple)           30\n",
       "KC (MCAS39-State_WPI-Simple).1         20\n",
       "KC (MCAS39-State_WPI-Simple).2          9\n",
       "KC (MCAS39-State_WPI-Simple).3          2\n",
       "KC (MCAS5-State_WPI-Simple)             5\n",
       "KC (Unique-step)                      318\n",
       "School                                 24\n",
       "Class                                 262\n",
       "dtype: int64"
      ]
     },
     "execution_count": 10,
     "metadata": {},
     "output_type": "execute_result"
    }
   ],
   "source": [
    "unique_values = df_cleaned.nunique()\n",
    "unique_values"
   ]
  },
  {
   "cell_type": "code",
   "execution_count": 11,
   "id": "89773a3e-7123-4deb-93b2-16e158f4cc3a",
   "metadata": {},
   "outputs": [],
   "source": [
    "### Dropping the columns with an unique value per row\n",
    "df_cleaned = df_cleaned.loc[:, (unique_values < df_cleaned.shape[0])]"
   ]
  },
  {
   "cell_type": "code",
   "execution_count": 12,
   "id": "8522d6a0-c0e4-445b-8196-31df72a8904e",
   "metadata": {},
   "outputs": [
    {
     "data": {
      "text/plain": [
       "Anon Student Id                      5046\n",
       "Session Id                         392886\n",
       "Time                              1027591\n",
       "Duration (sec)                        641\n",
       "Student Response Type                   2\n",
       "Tutor Response Type                     2\n",
       "Problem Name                         1798\n",
       "Problem View                           17\n",
       "Problem Start Time                 347840\n",
       "Step Name                            5834\n",
       "Attempt At Step                       120\n",
       "Is Last Attempt                         2\n",
       "Outcome                                 3\n",
       "Selection                            5828\n",
       "Action                                 12\n",
       "Input                               28427\n",
       "Feedback Text                       11816\n",
       "Feedback Classification                 3\n",
       "Help Level                             57\n",
       "Total Num Hints                        48\n",
       "KC (WPI-Apr-2005)                      87\n",
       "KC (WPI-Apr-2005).1                    47\n",
       "KC (WPI-Apr-2005).2                    15\n",
       "KC (WPI-Apr-2005).3                     2\n",
       "KC (MCAS39-State_WPI-Simple)           30\n",
       "KC (MCAS39-State_WPI-Simple).1         20\n",
       "KC (MCAS39-State_WPI-Simple).2          9\n",
       "KC (MCAS39-State_WPI-Simple).3          2\n",
       "KC (MCAS5-State_WPI-Simple)             5\n",
       "KC (Unique-step)                      318\n",
       "School                                 24\n",
       "Class                                 262\n",
       "dtype: int64"
      ]
     },
     "execution_count": 12,
     "metadata": {},
     "output_type": "execute_result"
    }
   ],
   "source": [
    "unique_values = df_cleaned.nunique()\n",
    "unique_values"
   ]
  },
  {
   "cell_type": "code",
   "execution_count": 13,
   "id": "f3054b28-075e-4d71-8531-de62c8ede95f",
   "metadata": {},
   "outputs": [],
   "source": [
    "### Dropping the KC columns\n",
    "df_cleaned = df_cleaned.loc[:, [col.find('KC (') < 0 for col in df_cleaned.columns]]"
   ]
  },
  {
   "cell_type": "code",
   "execution_count": 14,
   "id": "b9410c12-7f8c-49b0-807a-078245de2ad1",
   "metadata": {},
   "outputs": [],
   "source": [
    "### Dropping columns with high variability values\n",
    "columns_to_drop = [k for k,v in unique_values.items() if (v / df_cleaned.shape[0]) > 0.2]\n",
    "df_cleaned = df_cleaned.drop(columns=columns_to_drop)"
   ]
  },
  {
   "cell_type": "code",
   "execution_count": 15,
   "id": "c6bbc69a-094a-40eb-8ed3-efa003068fdc",
   "metadata": {},
   "outputs": [
    {
     "data": {
      "text/html": [
       "<div>\n",
       "<style scoped>\n",
       "    .dataframe tbody tr th:only-of-type {\n",
       "        vertical-align: middle;\n",
       "    }\n",
       "\n",
       "    .dataframe tbody tr th {\n",
       "        vertical-align: top;\n",
       "    }\n",
       "\n",
       "    .dataframe thead th {\n",
       "        text-align: right;\n",
       "    }\n",
       "</style>\n",
       "<table border=\"1\" class=\"dataframe\">\n",
       "  <thead>\n",
       "    <tr style=\"text-align: right;\">\n",
       "      <th></th>\n",
       "      <th>Anon Student Id</th>\n",
       "      <th>Duration (sec)</th>\n",
       "      <th>Student Response Type</th>\n",
       "      <th>Tutor Response Type</th>\n",
       "      <th>Problem Name</th>\n",
       "      <th>Problem View</th>\n",
       "      <th>Step Name</th>\n",
       "      <th>Attempt At Step</th>\n",
       "      <th>Is Last Attempt</th>\n",
       "      <th>Outcome</th>\n",
       "      <th>Selection</th>\n",
       "      <th>Action</th>\n",
       "      <th>Input</th>\n",
       "      <th>Feedback Text</th>\n",
       "      <th>Feedback Classification</th>\n",
       "      <th>Help Level</th>\n",
       "      <th>Total Num Hints</th>\n",
       "      <th>School</th>\n",
       "      <th>Class</th>\n",
       "    </tr>\n",
       "  </thead>\n",
       "  <tbody>\n",
       "    <tr>\n",
       "      <th>0</th>\n",
       "      <td>Stu_000271be877ea1e7bf4f038c96cee5f9</td>\n",
       "      <td>22</td>\n",
       "      <td>ATTEMPT</td>\n",
       "      <td>RESULT</td>\n",
       "      <td>10168</td>\n",
       "      <td>1.0</td>\n",
       "      <td>Step0:10168:There are 100 squares in the 10 by...</td>\n",
       "      <td>1.0</td>\n",
       "      <td>0.0</td>\n",
       "      <td>INCORRECT</td>\n",
       "      <td>Step0:10168:There are 100 squares in the 10 by...</td>\n",
       "      <td>1</td>\n",
       "      <td>80/100</td>\n",
       "      <td>Don't forget to reduce your fraction.</td>\n",
       "      <td>NaN</td>\n",
       "      <td>NaN</td>\n",
       "      <td>NaN</td>\n",
       "      <td>ForestGrove</td>\n",
       "      <td>Period40607Dumphy</td>\n",
       "    </tr>\n",
       "    <tr>\n",
       "      <th>1</th>\n",
       "      <td>Stu_000271be877ea1e7bf4f038c96cee5f9</td>\n",
       "      <td>3</td>\n",
       "      <td>HINT_REQUEST</td>\n",
       "      <td>HINT_MSG</td>\n",
       "      <td>10168</td>\n",
       "      <td>1.0</td>\n",
       "      <td>Step0:10168:There are 100 squares in the 10 by...</td>\n",
       "      <td>2.0</td>\n",
       "      <td>0.0</td>\n",
       "      <td>HINT</td>\n",
       "      <td>Step0:10168:There are 100 squares in the 10 by...</td>\n",
       "      <td>1</td>\n",
       "      <td>NaN</td>\n",
       "      <td>There are 100 squares and 80 are colored purple.</td>\n",
       "      <td>HINT</td>\n",
       "      <td>1.0</td>\n",
       "      <td>NaN</td>\n",
       "      <td>ForestGrove</td>\n",
       "      <td>Period40607Dumphy</td>\n",
       "    </tr>\n",
       "    <tr>\n",
       "      <th>2</th>\n",
       "      <td>Stu_000271be877ea1e7bf4f038c96cee5f9</td>\n",
       "      <td>7</td>\n",
       "      <td>HINT_REQUEST</td>\n",
       "      <td>HINT_MSG</td>\n",
       "      <td>10168</td>\n",
       "      <td>1.0</td>\n",
       "      <td>Step0:10168:There are 100 squares in the 10 by...</td>\n",
       "      <td>3.0</td>\n",
       "      <td>0.0</td>\n",
       "      <td>HINT</td>\n",
       "      <td>Step0:10168:There are 100 squares in the 10 by...</td>\n",
       "      <td>1</td>\n",
       "      <td>NaN</td>\n",
       "      <td>80/100 squares are colored purple. Reduce this...</td>\n",
       "      <td>HINT</td>\n",
       "      <td>2.0</td>\n",
       "      <td>NaN</td>\n",
       "      <td>ForestGrove</td>\n",
       "      <td>Period40607Dumphy</td>\n",
       "    </tr>\n",
       "    <tr>\n",
       "      <th>3</th>\n",
       "      <td>Stu_000271be877ea1e7bf4f038c96cee5f9</td>\n",
       "      <td>2</td>\n",
       "      <td>HINT_REQUEST</td>\n",
       "      <td>HINT_MSG</td>\n",
       "      <td>10168</td>\n",
       "      <td>1.0</td>\n",
       "      <td>Step0:10168:There are 100 squares in the 10 by...</td>\n",
       "      <td>4.0</td>\n",
       "      <td>0.0</td>\n",
       "      <td>HINT</td>\n",
       "      <td>Step0:10168:There are 100 squares in the 10 by...</td>\n",
       "      <td>1</td>\n",
       "      <td>NaN</td>\n",
       "      <td>80/100 = 8/10 = 4/5</td>\n",
       "      <td>HINT</td>\n",
       "      <td>3.0</td>\n",
       "      <td>NaN</td>\n",
       "      <td>ForestGrove</td>\n",
       "      <td>Period40607Dumphy</td>\n",
       "    </tr>\n",
       "    <tr>\n",
       "      <th>4</th>\n",
       "      <td>Stu_000271be877ea1e7bf4f038c96cee5f9</td>\n",
       "      <td>10</td>\n",
       "      <td>ATTEMPT</td>\n",
       "      <td>RESULT</td>\n",
       "      <td>10168</td>\n",
       "      <td>1.0</td>\n",
       "      <td>Step0:10168:There are 100 squares in the 10 by...</td>\n",
       "      <td>5.0</td>\n",
       "      <td>1.0</td>\n",
       "      <td>CORRECT</td>\n",
       "      <td>Step0:10168:There are 100 squares in the 10 by...</td>\n",
       "      <td>1</td>\n",
       "      <td>4/5</td>\n",
       "      <td>NaN</td>\n",
       "      <td>NaN</td>\n",
       "      <td>NaN</td>\n",
       "      <td>NaN</td>\n",
       "      <td>ForestGrove</td>\n",
       "      <td>Period40607Dumphy</td>\n",
       "    </tr>\n",
       "  </tbody>\n",
       "</table>\n",
       "</div>"
      ],
      "text/plain": [
       "                        Anon Student Id Duration (sec) Student Response Type  \\\n",
       "0  Stu_000271be877ea1e7bf4f038c96cee5f9             22               ATTEMPT   \n",
       "1  Stu_000271be877ea1e7bf4f038c96cee5f9              3          HINT_REQUEST   \n",
       "2  Stu_000271be877ea1e7bf4f038c96cee5f9              7          HINT_REQUEST   \n",
       "3  Stu_000271be877ea1e7bf4f038c96cee5f9              2          HINT_REQUEST   \n",
       "4  Stu_000271be877ea1e7bf4f038c96cee5f9             10               ATTEMPT   \n",
       "\n",
       "  Tutor Response Type  Problem Name  Problem View  \\\n",
       "0              RESULT         10168           1.0   \n",
       "1            HINT_MSG         10168           1.0   \n",
       "2            HINT_MSG         10168           1.0   \n",
       "3            HINT_MSG         10168           1.0   \n",
       "4              RESULT         10168           1.0   \n",
       "\n",
       "                                           Step Name  Attempt At Step  \\\n",
       "0  Step0:10168:There are 100 squares in the 10 by...              1.0   \n",
       "1  Step0:10168:There are 100 squares in the 10 by...              2.0   \n",
       "2  Step0:10168:There are 100 squares in the 10 by...              3.0   \n",
       "3  Step0:10168:There are 100 squares in the 10 by...              4.0   \n",
       "4  Step0:10168:There are 100 squares in the 10 by...              5.0   \n",
       "\n",
       "   Is Last Attempt    Outcome  \\\n",
       "0              0.0  INCORRECT   \n",
       "1              0.0       HINT   \n",
       "2              0.0       HINT   \n",
       "3              0.0       HINT   \n",
       "4              1.0    CORRECT   \n",
       "\n",
       "                                           Selection Action   Input  \\\n",
       "0  Step0:10168:There are 100 squares in the 10 by...      1  80/100   \n",
       "1  Step0:10168:There are 100 squares in the 10 by...      1     NaN   \n",
       "2  Step0:10168:There are 100 squares in the 10 by...      1     NaN   \n",
       "3  Step0:10168:There are 100 squares in the 10 by...      1     NaN   \n",
       "4  Step0:10168:There are 100 squares in the 10 by...      1     4/5   \n",
       "\n",
       "                                       Feedback Text Feedback Classification  \\\n",
       "0              Don't forget to reduce your fraction.                     NaN   \n",
       "1   There are 100 squares and 80 are colored purple.                    HINT   \n",
       "2  80/100 squares are colored purple. Reduce this...                    HINT   \n",
       "3                                80/100 = 8/10 = 4/5                    HINT   \n",
       "4                                                NaN                     NaN   \n",
       "\n",
       "   Help Level  Total Num Hints       School              Class  \n",
       "0         NaN              NaN  ForestGrove  Period40607Dumphy  \n",
       "1         1.0              NaN  ForestGrove  Period40607Dumphy  \n",
       "2         2.0              NaN  ForestGrove  Period40607Dumphy  \n",
       "3         3.0              NaN  ForestGrove  Period40607Dumphy  \n",
       "4         NaN              NaN  ForestGrove  Period40607Dumphy  "
      ]
     },
     "execution_count": 15,
     "metadata": {},
     "output_type": "execute_result"
    }
   ],
   "source": [
    "df_cleaned.head()"
   ]
  },
  {
   "cell_type": "code",
   "execution_count": 16,
   "id": "d5dcb686-e2d6-48e8-8791-ccedbccbae9c",
   "metadata": {
    "tags": []
   },
   "outputs": [
    {
     "data": {
      "text/html": [
       "<div>\n",
       "<style scoped>\n",
       "    .dataframe tbody tr th:only-of-type {\n",
       "        vertical-align: middle;\n",
       "    }\n",
       "\n",
       "    .dataframe tbody tr th {\n",
       "        vertical-align: top;\n",
       "    }\n",
       "\n",
       "    .dataframe thead th {\n",
       "        text-align: right;\n",
       "    }\n",
       "</style>\n",
       "<table border=\"1\" class=\"dataframe\">\n",
       "  <thead>\n",
       "    <tr style=\"text-align: right;\">\n",
       "      <th></th>\n",
       "      <th>Problem Name</th>\n",
       "      <th>Problem View</th>\n",
       "      <th>Attempt At Step</th>\n",
       "      <th>Is Last Attempt</th>\n",
       "      <th>Help Level</th>\n",
       "      <th>Total Num Hints</th>\n",
       "    </tr>\n",
       "  </thead>\n",
       "  <tbody>\n",
       "    <tr>\n",
       "      <th>count</th>\n",
       "      <td>1.451003e+06</td>\n",
       "      <td>1.450822e+06</td>\n",
       "      <td>1.448076e+06</td>\n",
       "      <td>1.448076e+06</td>\n",
       "      <td>394514.000000</td>\n",
       "      <td>303756.000000</td>\n",
       "    </tr>\n",
       "    <tr>\n",
       "      <th>mean</th>\n",
       "      <td>5.609072e+03</td>\n",
       "      <td>1.281691e+00</td>\n",
       "      <td>2.341389e+00</td>\n",
       "      <td>4.472597e-01</td>\n",
       "      <td>2.010413</td>\n",
       "      <td>3.529932</td>\n",
       "    </tr>\n",
       "    <tr>\n",
       "      <th>std</th>\n",
       "      <td>5.119680e+03</td>\n",
       "      <td>6.858265e-01</td>\n",
       "      <td>2.543439e+00</td>\n",
       "      <td>4.972108e-01</td>\n",
       "      <td>1.419201</td>\n",
       "      <td>1.298585</td>\n",
       "    </tr>\n",
       "    <tr>\n",
       "      <th>min</th>\n",
       "      <td>7.000000e+00</td>\n",
       "      <td>1.000000e+00</td>\n",
       "      <td>1.000000e+00</td>\n",
       "      <td>0.000000e+00</td>\n",
       "      <td>1.000000</td>\n",
       "      <td>0.000000</td>\n",
       "    </tr>\n",
       "    <tr>\n",
       "      <th>25%</th>\n",
       "      <td>1.149000e+03</td>\n",
       "      <td>1.000000e+00</td>\n",
       "      <td>1.000000e+00</td>\n",
       "      <td>0.000000e+00</td>\n",
       "      <td>1.000000</td>\n",
       "      <td>3.000000</td>\n",
       "    </tr>\n",
       "    <tr>\n",
       "      <th>50%</th>\n",
       "      <td>3.133000e+03</td>\n",
       "      <td>1.000000e+00</td>\n",
       "      <td>1.000000e+00</td>\n",
       "      <td>0.000000e+00</td>\n",
       "      <td>2.000000</td>\n",
       "      <td>3.000000</td>\n",
       "    </tr>\n",
       "    <tr>\n",
       "      <th>75%</th>\n",
       "      <td>9.562000e+03</td>\n",
       "      <td>1.000000e+00</td>\n",
       "      <td>3.000000e+00</td>\n",
       "      <td>1.000000e+00</td>\n",
       "      <td>3.000000</td>\n",
       "      <td>4.000000</td>\n",
       "    </tr>\n",
       "    <tr>\n",
       "      <th>max</th>\n",
       "      <td>1.865100e+04</td>\n",
       "      <td>2.400000e+01</td>\n",
       "      <td>1.200000e+02</td>\n",
       "      <td>1.000000e+00</td>\n",
       "      <td>57.000000</td>\n",
       "      <td>47.000000</td>\n",
       "    </tr>\n",
       "  </tbody>\n",
       "</table>\n",
       "</div>"
      ],
      "text/plain": [
       "       Problem Name  Problem View  Attempt At Step  Is Last Attempt  \\\n",
       "count  1.451003e+06  1.450822e+06     1.448076e+06     1.448076e+06   \n",
       "mean   5.609072e+03  1.281691e+00     2.341389e+00     4.472597e-01   \n",
       "std    5.119680e+03  6.858265e-01     2.543439e+00     4.972108e-01   \n",
       "min    7.000000e+00  1.000000e+00     1.000000e+00     0.000000e+00   \n",
       "25%    1.149000e+03  1.000000e+00     1.000000e+00     0.000000e+00   \n",
       "50%    3.133000e+03  1.000000e+00     1.000000e+00     0.000000e+00   \n",
       "75%    9.562000e+03  1.000000e+00     3.000000e+00     1.000000e+00   \n",
       "max    1.865100e+04  2.400000e+01     1.200000e+02     1.000000e+00   \n",
       "\n",
       "          Help Level  Total Num Hints  \n",
       "count  394514.000000    303756.000000  \n",
       "mean        2.010413         3.529932  \n",
       "std         1.419201         1.298585  \n",
       "min         1.000000         0.000000  \n",
       "25%         1.000000         3.000000  \n",
       "50%         2.000000         3.000000  \n",
       "75%         3.000000         4.000000  \n",
       "max        57.000000        47.000000  "
      ]
     },
     "execution_count": 16,
     "metadata": {},
     "output_type": "execute_result"
    }
   ],
   "source": [
    "df_cleaned.describe()"
   ]
  },
  {
   "cell_type": "code",
   "execution_count": 17,
   "id": "70392dc4-8993-49b6-b3a6-f7318054207d",
   "metadata": {},
   "outputs": [
    {
     "data": {
      "text/plain": [
       "Anon Student Id             object\n",
       "Duration (sec)              object\n",
       "Student Response Type       object\n",
       "Tutor Response Type         object\n",
       "Problem Name                 int64\n",
       "Problem View               float64\n",
       "Step Name                   object\n",
       "Attempt At Step            float64\n",
       "Is Last Attempt            float64\n",
       "Outcome                     object\n",
       "Selection                   object\n",
       "Action                      object\n",
       "Input                       object\n",
       "Feedback Text               object\n",
       "Feedback Classification     object\n",
       "Help Level                 float64\n",
       "Total Num Hints            float64\n",
       "School                      object\n",
       "Class                       object\n",
       "dtype: object"
      ]
     },
     "execution_count": 17,
     "metadata": {},
     "output_type": "execute_result"
    }
   ],
   "source": [
    "df_cleaned.dtypes"
   ]
  },
  {
   "cell_type": "code",
   "execution_count": 18,
   "id": "7f637ef0-bca9-4ece-b5de-be97c78277ea",
   "metadata": {},
   "outputs": [
    {
     "data": {
      "text/plain": [
       "array(['22', '3', '7', '2', '10', '55', '1', '8', '5', '6', '4', '9',\n",
       "       '14', '12', '13', '104', '26', '11', '92', '17', '21', '208', '49',\n",
       "       '43', '41', '123', '84', '133', '201', '24', '77', '121', '16',\n",
       "       '93', '57', '27', '15', '66', '30', '138', '31', '67', '88', '34',\n",
       "       '219', '18', '19', '174', '70', '153', '278', '48', '50', '54',\n",
       "       '295', '100', '443', '203', '109', '35', '169', '213', '124',\n",
       "       '301', '226', '97', '75', '98', '222', '69', '99', '37', '58',\n",
       "       '113', '46', '47', '60', '28', '106', '36', '39', '32', '143',\n",
       "       '33', '20', '45', '79', '144', '102', '114', '25', '125', '38',\n",
       "       '308', '96', '298', '42', '61', '82', '80', '135', '64', '29',\n",
       "       '89', '442', '401', '115', '68', '210', '156', '460', '95', '.',\n",
       "       '94', '136', '122', '365', '87', '407', '164', '65', '44', '167',\n",
       "       '23', '229', '149', '73', '119', '306', '117', '194', '52', '196',\n",
       "       '40', '200', '81', '282', '131', '198', '120', '168', '59', '243',\n",
       "       '292', '116', '154', '142', '340', '134', '56', '74', '63', '90',\n",
       "       '235', '86', '137', '78', '71', '101', '232', '158', '51', '112',\n",
       "       '159', '228', '302', '152', '240', '225', '145', '173', '172',\n",
       "       '188', '140', '105', '139', '53', '184', '187', '270', '263',\n",
       "       '275', '199', '416', '236', '62', '218', '111', '178', '310',\n",
       "       '414', '214', '197', '227', '393', '107', '166', '190', '76', '72',\n",
       "       '257', '150', '209', '186', '130', '91', '155', '157', '485',\n",
       "       '351', '465', '420', '127', '419', '338', '170', '231', '289',\n",
       "       '343', '501', '211', '255', '132', '151', '305', '330', '266',\n",
       "       '331', '108', '387', '555', '381', '126', '303', '103', '283',\n",
       "       '118', '321', '162', '1.5', '262', '181', '239', '146', '129',\n",
       "       '148', '383', '241', '299', '182', '83', '259', '481', '128',\n",
       "       '254', '189', '85', '223', '376', '326', '195', '402', '503',\n",
       "       '290', '348', '176', '297', '315', '245', '274', '177', '409',\n",
       "       '202', '372', '571', '238', '110', '179', '221', '437', '193',\n",
       "       '163', '325', '212', '147', '205', '488', '458', '545', '217',\n",
       "       '307', '161', '285', '180', '319', '248', '185', '489', '260',\n",
       "       '253', '592', '334', '233', '529', '252', '294', '511', '192',\n",
       "       '588', '216', '224', '242', '247', '183', '269', '0.5', '551',\n",
       "       '300', '261', '141', '375', '160', '355', '280', '237', '251',\n",
       "       '249', '296', '337', '175', '171', '400', '281', '279', '371',\n",
       "       '386', '165', '220', '528', '316', '320', '431', '591', '246',\n",
       "       '457', '276', '265', '312', '277', '356', '191', '256', '339',\n",
       "       '311', '329', '478', '394', '410', '541', '215', '368', '534',\n",
       "       '352', '486', '349', '204', '358', '487', '234', '318', '230',\n",
       "       '313', '288', '361', '427', '438', '324', '573', '333', '244',\n",
       "       '207', '258', '589', '286', '206', '595', '382', '273', '448',\n",
       "       '582', '291', '287', '385', '568', '272', '304', '322', '293',\n",
       "       '484', '264', '441', '341', '429', '267', '268', '284', '466',\n",
       "       '346', '391', '345', '498', '360', '558', '369', '317', '436',\n",
       "       '327', '384', '479', '424', '515', '314', '366', '392', '6.5',\n",
       "       '11.5', '8.5', '17.5', '518', '389', '347', '399', '452', '426',\n",
       "       '490', '367', '362', '516', '423', '412', '435', '398', '600',\n",
       "       '379', '271', '470', '497', '483', '350', '596', '444', '507',\n",
       "       '557', '491', '336', '464', '357', '403', '593', '473', '328',\n",
       "       '373', '567', '417', '250', '353', '425', '584', '540', '433',\n",
       "       '309', '411', '531', '549', '548', '482', '378', '421', '0', '508',\n",
       "       '430', '342', '359', '477', '564', '575', '408', '380', '471',\n",
       "       '520', '467', '559', '440', '505', '476', '504', '544', '454',\n",
       "       '522', '406', '332', '415', '364', '363', '536', '526', '510',\n",
       "       '5.5', '335', '377', '543', '428', '323', '463', '580', '525',\n",
       "       '538', '494', '513', '434', '496', '472', '566', '502', '397',\n",
       "       '599', '432', '597', '556', '492', '560', '344', '451', '553',\n",
       "       '480', '48.5', '461', '563', '395', '354', '439', '418', '506',\n",
       "       '468', '581', '495', '456', '539', '453', '533', '422', '404',\n",
       "       '2.5', '12.5', '532', '445', '583', '446', '475', '370', '542',\n",
       "       '405', '462', '413', '594', '598', '587', '561', '512', '546',\n",
       "       '388', '586', '374', '565', '469', '455', '562', '514', '450',\n",
       "       '519', '28.5', '32.5', '547', '449', '7.5', '500', '509', '390',\n",
       "       '527', '554', '4.5', '499', '572', '447', '590', '537', '459',\n",
       "       '521', '523', '493', '576', '15.5', '43.5', '9.5', '396', '40.5',\n",
       "       '517', '552', '524', '85.5', '44.5', '535', '579', '530', '3.5',\n",
       "       '550', '20.5', '10.5', '14.5', '570', '569', '38.5', '19.5', '474',\n",
       "       '578', '577', '574', '104.5', '39.5', '585', '24.5', '0.333',\n",
       "       '27.5', '109.5', '33.5', '13.5', '60.5', '29.5', '25.5', '18.5',\n",
       "       '76.5'], dtype=object)"
      ]
     },
     "execution_count": 18,
     "metadata": {},
     "output_type": "execute_result"
    }
   ],
   "source": [
    "# Adjusting the data types\n",
    "df_cleaned['Duration (sec)'].unique()"
   ]
  },
  {
   "cell_type": "code",
   "execution_count": 19,
   "id": "45f350dc-5b52-463d-9a4f-0a0155632fe0",
   "metadata": {},
   "outputs": [
    {
     "name": "stdout",
     "output_type": "stream",
     "text": [
      "2351 values with dot (.) were replaced with 0\n"
     ]
    }
   ],
   "source": [
    "# I had to replace the dot (.) values to convert the values to float\n",
    "n_replaced = (df_cleaned['Duration (sec)'] == '.').sum()\n",
    "\n",
    "df_cleaned['Duration (sec)'] = df_cleaned['Duration (sec)'].replace('.', '0', regex=False).astype('float64')\n",
    "\n",
    "print('{} values with dot (.) were replaced with 0'.format(n_replaced))"
   ]
  },
  {
   "cell_type": "code",
   "execution_count": 20,
   "id": "f53715ae-16bc-4029-ab70-f7cc767881fb",
   "metadata": {},
   "outputs": [
    {
     "data": {
      "text/plain": [
       "array(['1', 'RadioQuestion', 'TextFieldQuestion',\n",
       "       'InterfaceRadioQuestion1', 'AlgebraFieldQuestion',\n",
       "       'InterfaceTextFieldQuestion1', 'InterfaceTextFieldQuestion',\n",
       "       'AlgebraFieldQuestion1', 'InterfaceRadioQuestion',\n",
       "       'PopupMenuQuestion', 'InterfacePopupMenuQuestion1', nan,\n",
       "       'InterfacePopupMenuQuestion'], dtype=object)"
      ]
     },
     "execution_count": 20,
     "metadata": {},
     "output_type": "execute_result"
    }
   ],
   "source": [
    "# Initially I was mislead because the 1 value\n",
    "df_cleaned['Action'].unique()"
   ]
  },
  {
   "cell_type": "code",
   "execution_count": 21,
   "id": "f8dbbf43-08b3-4c8a-9865-925c73b33e1d",
   "metadata": {},
   "outputs": [
    {
     "data": {
      "text/plain": [
       "array([ 1.,  2.,  3.,  9., 11.,  4.,  5.,  6.,  8.,  7., nan, 12., 13.,\n",
       "       10., 16., 18., 14., 24.])"
      ]
     },
     "execution_count": 21,
     "metadata": {},
     "output_type": "execute_result"
    }
   ],
   "source": [
    "df_cleaned['Problem View'].unique()"
   ]
  },
  {
   "cell_type": "code",
   "execution_count": 22,
   "id": "4278cbec-f47d-4250-b2e6-08ad81e8247c",
   "metadata": {},
   "outputs": [
    {
     "data": {
      "text/plain": [
       "array([  1.,   2.,   3.,   4.,   5.,   6.,   7.,   8.,   9.,  10.,  11.,\n",
       "        12.,  13.,  14.,  15.,  16.,  17.,  18.,  19.,  20.,  nan,  21.,\n",
       "        22.,  23.,  24.,  25.,  26.,  27.,  28.,  29.,  30.,  31.,  32.,\n",
       "        33.,  34.,  35.,  36.,  37.,  38.,  39.,  40.,  41.,  42.,  43.,\n",
       "        44.,  45.,  46.,  47.,  48.,  49.,  50.,  51.,  52.,  53.,  54.,\n",
       "        55.,  56.,  57.,  58.,  59.,  60.,  61.,  62.,  63.,  64.,  65.,\n",
       "        66.,  67.,  68.,  69.,  70.,  71.,  72.,  73.,  74.,  75.,  76.,\n",
       "        77.,  78.,  79.,  80.,  81.,  82.,  83.,  84.,  85.,  86.,  87.,\n",
       "        88.,  89.,  90.,  91.,  92.,  93.,  94.,  95.,  96.,  97.,  98.,\n",
       "        99., 100., 101., 102., 103., 104., 105., 106., 107., 108., 109.,\n",
       "       110., 111., 112., 113., 114., 115., 116., 117., 118., 119., 120.])"
      ]
     },
     "execution_count": 22,
     "metadata": {},
     "output_type": "execute_result"
    }
   ],
   "source": [
    "df_cleaned['Attempt At Step'].unique()"
   ]
  },
  {
   "cell_type": "code",
   "execution_count": 23,
   "id": "a48a845d-1d5a-45d1-b791-110f946c1414",
   "metadata": {},
   "outputs": [
    {
     "data": {
      "text/plain": [
       "array([ 0.,  1., nan])"
      ]
     },
     "execution_count": 23,
     "metadata": {},
     "output_type": "execute_result"
    }
   ],
   "source": [
    "df_cleaned['Is Last Attempt'].unique()"
   ]
  },
  {
   "cell_type": "code",
   "execution_count": 24,
   "id": "42cd6529-d968-477e-b857-157d895ccb5e",
   "metadata": {},
   "outputs": [
    {
     "data": {
      "text/plain": [
       "array([nan,  1.,  2.,  3.,  4.,  5.,  6.,  7.,  8.,  9., 10., 11., 12.,\n",
       "       13., 14., 15., 16., 17., 18., 19., 20., 21., 22., 23., 24., 25.,\n",
       "       26., 27., 28., 29., 30., 31., 32., 33., 34., 35., 36., 37., 38.,\n",
       "       39., 40., 41., 42., 43., 44., 45., 46., 47., 48., 49., 50., 51.,\n",
       "       52., 53., 54., 55., 56., 57.])"
      ]
     },
     "execution_count": 24,
     "metadata": {},
     "output_type": "execute_result"
    }
   ],
   "source": [
    "df_cleaned['Help Level'].unique()"
   ]
  },
  {
   "cell_type": "code",
   "execution_count": 25,
   "id": "861cc18f-6ea9-446c-9c28-cca6edd11908",
   "metadata": {},
   "outputs": [
    {
     "data": {
      "text/plain": [
       "array([nan,  2.,  3.,  4.,  6.,  5.,  1.,  8.,  7., 10.,  9., 11., 12.,\n",
       "       13., 14., 15., 16., 17., 18., 19., 20., 21., 22., 23., 24., 25.,\n",
       "       37., 38., 39., 26.,  0., 27., 28., 29., 30., 31., 32., 33., 34.,\n",
       "       35., 36., 40., 41., 42., 43., 44., 45., 46., 47.])"
      ]
     },
     "execution_count": 25,
     "metadata": {},
     "output_type": "execute_result"
    }
   ],
   "source": [
    "df_cleaned['Total Num Hints'].unique()"
   ]
  },
  {
   "cell_type": "code",
   "execution_count": 44,
   "id": "8ca3e30d-3b9d-40b9-884e-b6b8e45e5d2a",
   "metadata": {},
   "outputs": [],
   "source": [
    "### Conver the above values to integer\n",
    "float_to_int_columns = ['Problem View', 'Attempt At Step', 'Is Last Attempt', 'Help Level', 'Total Num Hints']\n",
    "\n",
    "### I had to use the Int64 type (Pandas integer) instead of int64 type (Numpy integer) because the existent NaN values that could not be converted\n",
    "df_cleaned[float_to_int_columns] = df_cleaned[float_to_int_columns].astype('Int64')"
   ]
  },
  {
   "cell_type": "code",
   "execution_count": 46,
   "id": "69bbb23b-e6a6-4fd3-8dd6-29df3de4e6e6",
   "metadata": {},
   "outputs": [
    {
     "data": {
      "text/plain": [
       "Anon Student Id            0.000000\n",
       "Duration (sec)             0.000000\n",
       "Student Response Type      0.000000\n",
       "Tutor Response Type        0.002017\n",
       "Problem Name               0.000000\n",
       "Problem View               0.000125\n",
       "Step Name                  0.002017\n",
       "Attempt At Step            0.002017\n",
       "Is Last Attempt            0.002017\n",
       "Outcome                    0.002017\n",
       "Selection                  0.000000\n",
       "Action                     0.050507\n",
       "Input                      0.212991\n",
       "Feedback Text              0.496029\n",
       "Feedback Classification    0.728150\n",
       "Help Level                 0.728109\n",
       "Total Num Hints            0.790658\n",
       "School                     0.001006\n",
       "Class                      0.001838\n",
       "dtype: float64"
      ]
     },
     "execution_count": 46,
     "metadata": {},
     "output_type": "execute_result"
    }
   ],
   "source": [
    "### Checking for null values\n",
    "df_cleaned.isnull().sum() / df_cleaned.shape[0]\n",
    "\n",
    "### I'm not dropping the columns with much NaN values neither replacing them now\n",
    "### It's better to get a better understanding of what is going on with these columns"
   ]
  },
  {
   "cell_type": "code",
   "execution_count": 60,
   "id": "eb196c2d-2822-4699-9a4a-f5ae7ec1f049",
   "metadata": {},
   "outputs": [],
   "source": [
    "### Generating a sample of the dataset to become simpler to make tests\n",
    "df_sample = df_cleaned.sample(n=100000, replace=True, ignore_index=True, random_state=seed)\n",
    "\n",
    "### I used the parameter replace=True to get the bootstrapping effect\n",
    "### https://en.wikipedia.org/wiki/Bootstrapping_(statistics)"
   ]
  },
  {
   "cell_type": "code",
   "execution_count": 61,
   "id": "d9020fc1-0919-45e2-86d7-d706c2d7c7c6",
   "metadata": {},
   "outputs": [
    {
     "data": {
      "text/plain": [
       "Anon Student Id            4658\n",
       "Duration (sec)              550\n",
       "Student Response Type         2\n",
       "Tutor Response Type           2\n",
       "Problem Name               1570\n",
       "Problem View                 13\n",
       "Step Name                  4149\n",
       "Attempt At Step              64\n",
       "Is Last Attempt               2\n",
       "Outcome                       3\n",
       "Selection                  4147\n",
       "Action                       12\n",
       "Input                      7043\n",
       "Feedback Text              6299\n",
       "Feedback Classification       3\n",
       "Help Level                   34\n",
       "Total Num Hints              20\n",
       "School                       18\n",
       "Class                       236\n",
       "dtype: int64"
      ]
     },
     "execution_count": 61,
     "metadata": {},
     "output_type": "execute_result"
    }
   ],
   "source": [
    "df_sample.nunique()"
   ]
  },
  {
   "cell_type": "code",
   "execution_count": 62,
   "id": "4abfe7a2-c706-4c3d-8677-d5fc384b56af",
   "metadata": {},
   "outputs": [
    {
     "data": {
      "text/plain": [
       "array([\"Step2:2664:Good. But, how do we find the mean?To find the overall mean score, you sum all the scores and divide by the total number of scores Now, let's go through all the possible answers and find which one is the correct one. What is the overall mean sc AlgebraFieldQuestion\",\n",
       "       \"Step1:1267:Let's try calculating that without the decimal points. Write in the value of 5 * 5 * 5. TextFieldQuestion\",\n",
       "       'Step0:15203:The height of a standard racquetball container is 24 centimeters. If each ball fits tightly in the container, what is the amount of empty space inside the container? InterfaceRadioQuestion',\n",
       "       ...,\n",
       "       'Step1:22109:Question content can not be retrieved from question table by iproblem_id. The id is iproblem_id from logging table.',\n",
       "       \"Step3:1384:The ratio of boys to girls in Meg's chorus is 3 to 4. If there are 20 girls in her chorus, how many boys are there? TextFieldQuestion\",\n",
       "       'Step3:12306:Question content can not be retrieved from question table by iproblem_id. The id is iproblem_id from logging table.'],\n",
       "      dtype=object)"
      ]
     },
     "execution_count": 62,
     "metadata": {},
     "output_type": "execute_result"
    }
   ],
   "source": [
    "df_sample['Step Name'].unique()"
   ]
  },
  {
   "cell_type": "code",
   "execution_count": 63,
   "id": "8562ee71-071f-4d31-8767-fca0d0543208",
   "metadata": {},
   "outputs": [
    {
     "data": {
      "text/plain": [
       "array(['AlgebraFieldQuestion', 'TextFieldQuestion',\n",
       "       'InterfaceRadioQuestion', 'InterfaceTextFieldQuestion1', '1',\n",
       "       'RadioQuestion', 'InterfaceTextFieldQuestion',\n",
       "       'InterfaceRadioQuestion1', 'AlgebraFieldQuestion1', nan,\n",
       "       'InterfacePopupMenuQuestion1', 'PopupMenuQuestion',\n",
       "       'InterfacePopupMenuQuestion'], dtype=object)"
      ]
     },
     "execution_count": 63,
     "metadata": {},
     "output_type": "execute_result"
    }
   ],
   "source": [
    "df_sample['Action'].unique()"
   ]
  },
  {
   "cell_type": "code",
   "execution_count": 64,
   "id": "c3de0d1a-5b3c-4220-8c01-15e2d1b18609",
   "metadata": {},
   "outputs": [
    {
     "data": {
      "text/plain": [
       "array([\"Step2:2664:Good. But, how do we find the mean?To find the overall mean score, you sum all the scores and divide by the total number of scores Now, let's go through all the possible answers and find which one is the correct one. What is the overall mean sc\",\n",
       "       \"Step1:1267:Let's try calculating that without the decimal points. Write in the value of 5 * 5 * 5.\",\n",
       "       'Step0:15203:The height of a standard racquetball container is 24 centimeters. If each ball fits tightly in the container, what is the amount of empty space inside the container?',\n",
       "       ...,\n",
       "       'Step1:22109:Question content can not be retrieved from question table by iproblem_id. The id is iproblem_id from logging table.',\n",
       "       \"Step3:1384:The ratio of boys to girls in Meg's chorus is 3 to 4. If there are 20 girls in her chorus, how many boys are there?\",\n",
       "       'Step3:12306:Question content can not be retrieved from question table by iproblem_id. The id is iproblem_id from logging table.'],\n",
       "      dtype=object)"
      ]
     },
     "execution_count": 64,
     "metadata": {},
     "output_type": "execute_result"
    }
   ],
   "source": [
    "df_sample['Selection'].unique()"
   ]
  },
  {
   "cell_type": "code",
   "execution_count": 65,
   "id": "625cd676-0d28-43f1-bdd7-924f3e13b6c4",
   "metadata": {},
   "outputs": [
    {
     "data": {
      "text/plain": [
       "array([nan, 'HINT', 'BOTTOM_HINT_REQUEST', 'SCAFFOLD'], dtype=object)"
      ]
     },
     "execution_count": 65,
     "metadata": {},
     "output_type": "execute_result"
    }
   ],
   "source": [
    "df_sample['Feedback Classification'].unique()"
   ]
  },
  {
   "cell_type": "code",
   "execution_count": 66,
   "id": "f4502aca-1e6c-4c60-bd82-43ad4684823b",
   "metadata": {},
   "outputs": [
    {
     "data": {
      "text/plain": [
       "<IntegerArray>\n",
       "[<NA>,    3,    2,    1,    5,    4,    6,    7,   34,   32,   18,   27,   14,\n",
       "    9,    8,   12,   11,   15,   10,   22,   29,   16,   17,   26,   13,   28,\n",
       "   54,   21,   25,   20,   19,   23,   36,   24,   30]\n",
       "Length: 35, dtype: Int64"
      ]
     },
     "execution_count": 66,
     "metadata": {},
     "output_type": "execute_result"
    }
   ],
   "source": [
    "df_sample['Help Level'].unique()"
   ]
  },
  {
   "cell_type": "code",
   "execution_count": 67,
   "id": "33e3a64c-7696-423a-94ee-0e9efaf0a618",
   "metadata": {},
   "outputs": [
    {
     "data": {
      "text/plain": [
       "array(['ATTEMPT', 'HINT_REQUEST'], dtype=object)"
      ]
     },
     "execution_count": 67,
     "metadata": {},
     "output_type": "execute_result"
    }
   ],
   "source": [
    "df_sample['Student Response Type'].unique()"
   ]
  },
  {
   "cell_type": "code",
   "execution_count": 68,
   "id": "6f207947-d27a-41a6-b54c-a8b8ae3cf9d3",
   "metadata": {},
   "outputs": [
    {
     "data": {
      "text/plain": [
       "array(['RESULT', 'HINT_MSG', nan], dtype=object)"
      ]
     },
     "execution_count": 68,
     "metadata": {},
     "output_type": "execute_result"
    }
   ],
   "source": [
    "df_sample['Tutor Response Type'].unique()"
   ]
  },
  {
   "cell_type": "code",
   "execution_count": 69,
   "id": "3edf2dd4-bc5d-4387-b963-7b9adb0551b4",
   "metadata": {},
   "outputs": [
    {
     "data": {
      "text/plain": [
       "array(['270', '125', '128 * pi units3', ..., '343000', '90.7',\n",
       "       '3.50 - 11.00 - 0.75'], dtype=object)"
      ]
     },
     "execution_count": 69,
     "metadata": {},
     "output_type": "execute_result"
    }
   ],
   "source": [
    "df_sample['Input'].unique()"
   ]
  },
  {
   "cell_type": "code",
   "execution_count": null,
   "id": "d595d74b-13d1-437c-bef5-a031ed115d86",
   "metadata": {},
   "outputs": [],
   "source": [
    "### QUESTION: Does the data is equally distributted between schools and classes"
   ]
  },
  {
   "cell_type": "code",
   "execution_count": 102,
   "id": "78afcd75-9c25-4b95-937d-d8ac15da5849",
   "metadata": {},
   "outputs": [
    {
     "data": {
      "text/plain": [
       "pandas.core.series.Series"
      ]
     },
     "execution_count": 102,
     "metadata": {},
     "output_type": "execute_result"
    }
   ],
   "source": [
    "type(df_sample['School'].value_counts())"
   ]
  },
  {
   "cell_type": "code",
   "execution_count": 97,
   "id": "c4f6b706-fa5a-4f0d-b4f5-22f472edbe9a",
   "metadata": {},
   "outputs": [],
   "source": [
    "import matplotlib.pyplot as plt\n",
    "%matplotlib inline\n",
    "\n",
    "def plot_bar(data, title='Number of occurrences', xlabel='x', ylabel='Number of occurrences', rotation=90):\n",
    "    \"\"\"Plots a bar chart with some customizations\n",
    "    Arguments:\n",
    "    - data (pandas Series): A series containing the data to plot the chart\n",
    "    - (Optional) title (str): \n",
    "    - xlabel (str):\n",
    "    - ylabel (str):\n",
    "    - rotation (int):\n",
    "    \n",
    "    Output:\n",
    "    - None: Only plots the bar chart\n",
    "    \"\"\"\n",
    "    x = data.keys()\n",
    "    y = data.values\n",
    "\n",
    "    plt.bar(x, y);\n",
    "    \n",
    "    plt.title(title);\n",
    "    plt.xlabel(xlabel);\n",
    "    plt.ylabel(ylabel);\n",
    "    plt.xticks(rotation=rotation);\n",
    "    \n",
    "    plt.show();"
   ]
  },
  {
   "cell_type": "code",
   "execution_count": 99,
   "id": "47aa0231-fea9-4295-9e03-117c054ff62d",
   "metadata": {},
   "outputs": [
    {
     "data": {
      "image/png": "[encoded data removed]",
      "text/plain": [
       "<Figure size 432x288 with 1 Axes>"
      ]
     },
     "metadata": {
      "needs_background": "light"
     },
     "output_type": "display_data"
    }
   ],
   "source": [
    "data = df_sample['School'].value_counts()\n",
    "plot_bar(data, title='Number of occurrences per School', xlabel='School')"
   ]
  },
  {
   "cell_type": "code",
   "execution_count": null,
   "id": "3c0c4ffd-0497-4594-b529-041c2b173801",
   "metadata": {},
   "outputs": [],
   "source": [
    "### QUESTION: Does the students are equally distributted between schools and classes"
   ]
  }
 ],
 "metadata": {
  "kernelspec": {
   "display_name": "Python 3 (ipykernel)",
   "language": "python",
   "name": "python3"
  },
  "language_info": {
   "codemirror_mode": {
    "name": "ipython",
    "version": 3
   },
   "file_extension": ".py",
   "mimetype": "text/x-python",
   "name": "python",
   "nbconvert_exporter": "python",
   "pygments_lexer": "ipython3",
   "version": "3.9.5"
  }
 },
 "nbformat": 4,
 "nbformat_minor": 5
}
